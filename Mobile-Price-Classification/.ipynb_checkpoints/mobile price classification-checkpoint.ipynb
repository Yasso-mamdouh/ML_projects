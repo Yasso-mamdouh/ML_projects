{
 "cells": [
  {
   "cell_type": "markdown",
   "id": "aa59deb4-8faf-4dcd-80b6-b66e0b3e625f",
   "metadata": {},
   "source": [
    "<img src=\"imgs\\mobiles.jpg\" style=\"height:455px; width:85%; margin:auto; padding:10px\">"
   ]
  },
  {
   "cell_type": "markdown",
   "id": "25a2a89f-4867-41b1-9402-463ce5e0a920",
   "metadata": {},
   "source": [
    "<h2 style=\"color:#0f7300; letter-spacing:0.09em; text-align:center\">Mobile price range classification</h2>\n",
    "<h3 style=\"color:#0f7300; letter-spacing:0.19em; text-align:center\">yaser Mamdouh</h3>"
   ]
  },
  {
   "cell_type": "code",
   "execution_count": null,
   "id": "00dc29c6-4031-4f34-aef2-7cc2a5975e89",
   "metadata": {},
   "outputs": [],
   "source": []
  },
  {
   "cell_type": "markdown",
   "id": "b2320b3f-a2f6-4a4a-be10-37b46cae1fbe",
   "metadata": {},
   "source": [
    "### Import most common libraries"
   ]
  },
  {
   "cell_type": "code",
   "execution_count": 1,
   "id": "54993f39-7eb3-47a3-af28-1b2418fc0cc4",
   "metadata": {},
   "outputs": [],
   "source": [
    "import pandas as pd, numpy as np, matplotlib.pyplot as plt, seaborn as sns\n",
    "%matplotlib inline\n",
    "import joblib\n",
    "import warnings\n",
    "warnings.filterwarnings(\"ignore\")\n",
    "\n",
    "from sklearn.model_selection import train_test_split\n",
    "from sklearn.model_selection import KFold, cross_val_score, cross_val_predict, GridSearchCV\n",
    "from sklearn.metrics import accuracy_score, precision_score, recall_score, f1_score, confusion_matrix, classification_report"
   ]
  },
  {
   "cell_type": "code",
   "execution_count": null,
   "id": "fd96833b-916b-4952-82a0-348d0c24e3df",
   "metadata": {},
   "outputs": [],
   "source": []
  },
  {
   "cell_type": "markdown",
   "id": "3f0178b6-dd76-4315-be47-214367af0197",
   "metadata": {},
   "source": [
    "### Importing the train, test data sets"
   ]
  },
  {
   "cell_type": "code",
   "execution_count": 2,
   "id": "50e7d935-4315-4fce-ad14-1d7ca18add9f",
   "metadata": {},
   "outputs": [],
   "source": [
    "train_df = pd.read_csv('train.csv')\n",
    "test_df = pd.read_csv('test.csv')"
   ]
  },
  {
   "cell_type": "markdown",
   "id": "f8b76683-73a4-48b9-9a6e-9877ccc4ed44",
   "metadata": {},
   "source": [
    "### Data overview"
   ]
  },
  {
   "cell_type": "code",
   "execution_count": 3,
   "id": "0f7f8e68-8671-4bf6-8cbc-0a38ca8b155e",
   "metadata": {},
   "outputs": [
    {
     "name": "stdout",
     "output_type": "stream",
     "text": [
      "train data shape: (2000, 21)\n",
      "test data shape: (1000, 21)\n"
     ]
    }
   ],
   "source": [
    "print(f\"train data shape: {train_df.shape}\")\n",
    "print(f\"test data shape: {test_df.shape}\")"
   ]
  },
  {
   "cell_type": "markdown",
   "id": "1341ae81-a7c9-456f-a769-5d270878a15c",
   "metadata": {},
   "source": [
    "\"**Null**\""
   ]
  },
  {
   "cell_type": "code",
   "execution_count": 4,
   "id": "6ec7c4e9-fd97-4199-8f6e-c7b4010a3106",
   "metadata": {},
   "outputs": [
    {
     "data": {
      "text/plain": [
       "battery_power    0\n",
       "blue             0\n",
       "clock_speed      0\n",
       "dual_sim         0\n",
       "fc               0\n",
       "four_g           0\n",
       "int_memory       0\n",
       "m_dep            0\n",
       "mobile_wt        0\n",
       "n_cores          0\n",
       "pc               0\n",
       "px_height        0\n",
       "px_width         0\n",
       "ram              0\n",
       "sc_h             0\n",
       "sc_w             0\n",
       "talk_time        0\n",
       "three_g          0\n",
       "touch_screen     0\n",
       "wifi             0\n",
       "price_range      0\n",
       "dtype: int64"
      ]
     },
     "execution_count": 4,
     "metadata": {},
     "output_type": "execute_result"
    }
   ],
   "source": [
    "train_df.isna().sum()"
   ]
  },
  {
   "cell_type": "markdown",
   "id": "6f9cab3f-8edc-4080-be00-562b21b700ea",
   "metadata": {},
   "source": [
    "\"**Duplication**\""
   ]
  },
  {
   "cell_type": "code",
   "execution_count": 5,
   "id": "5cac33f0-bb1b-4be1-afc9-c8c11563261f",
   "metadata": {},
   "outputs": [
    {
     "data": {
      "text/plain": [
       "0"
      ]
     },
     "execution_count": 5,
     "metadata": {},
     "output_type": "execute_result"
    }
   ],
   "source": [
    "train_df.duplicated().sum()"
   ]
  },
  {
   "cell_type": "markdown",
   "id": "f4f1a702-abdc-4413-b19b-bc47ac7abcc4",
   "metadata": {},
   "source": [
    "\"**More Info**\""
   ]
  },
  {
   "cell_type": "code",
   "execution_count": 6,
   "id": "4fff7af8-de01-46f4-a5c4-2e2ff8645d74",
   "metadata": {},
   "outputs": [],
   "source": [
    "#train_df.info()"
   ]
  },
  {
   "cell_type": "code",
   "execution_count": null,
   "id": "cb4ca306-67fd-4824-996c-60bb5ac55248",
   "metadata": {},
   "outputs": [],
   "source": []
  },
  {
   "cell_type": "markdown",
   "id": "301c3c52-35d7-4828-9543-7c28d9df62c8",
   "metadata": {},
   "source": [
    "**_Outliers_**"
   ]
  },
  {
   "cell_type": "code",
   "execution_count": 7,
   "id": "68fbd551-98ca-4bc5-aed5-227bea31bb63",
   "metadata": {},
   "outputs": [
    {
     "name": "stdout",
     "output_type": "stream",
     "text": [
      "Outliers:\n"
     ]
    },
    {
     "data": {
      "text/html": [
       "<div>\n",
       "<style scoped>\n",
       "    .dataframe tbody tr th:only-of-type {\n",
       "        vertical-align: middle;\n",
       "    }\n",
       "\n",
       "    .dataframe tbody tr th {\n",
       "        vertical-align: top;\n",
       "    }\n",
       "\n",
       "    .dataframe thead th {\n",
       "        text-align: right;\n",
       "    }\n",
       "</style>\n",
       "<table border=\"1\" class=\"dataframe\">\n",
       "  <thead>\n",
       "    <tr style=\"text-align: right;\">\n",
       "      <th></th>\n",
       "      <th>battery_power</th>\n",
       "      <th>blue</th>\n",
       "      <th>clock_speed</th>\n",
       "      <th>dual_sim</th>\n",
       "      <th>fc</th>\n",
       "      <th>four_g</th>\n",
       "      <th>int_memory</th>\n",
       "      <th>m_dep</th>\n",
       "      <th>mobile_wt</th>\n",
       "      <th>n_cores</th>\n",
       "      <th>...</th>\n",
       "      <th>px_height</th>\n",
       "      <th>px_width</th>\n",
       "      <th>ram</th>\n",
       "      <th>sc_h</th>\n",
       "      <th>sc_w</th>\n",
       "      <th>talk_time</th>\n",
       "      <th>three_g</th>\n",
       "      <th>touch_screen</th>\n",
       "      <th>wifi</th>\n",
       "      <th>price_range</th>\n",
       "    </tr>\n",
       "  </thead>\n",
       "  <tbody>\n",
       "  </tbody>\n",
       "</table>\n",
       "<p>0 rows × 21 columns</p>\n",
       "</div>"
      ],
      "text/plain": [
       "Empty DataFrame\n",
       "Columns: [battery_power, blue, clock_speed, dual_sim, fc, four_g, int_memory, m_dep, mobile_wt, n_cores, pc, px_height, px_width, ram, sc_h, sc_w, talk_time, three_g, touch_screen, wifi, price_range]\n",
       "Index: []\n",
       "\n",
       "[0 rows x 21 columns]"
      ]
     },
     "execution_count": 7,
     "metadata": {},
     "output_type": "execute_result"
    }
   ],
   "source": [
    "# Calculate the Z-score for each numerical feature\n",
    "z_scores = np.abs((train_df - train_df.mean()) / train_df.std())\n",
    "\n",
    "# Set the threshold for identifying outliers\n",
    "threshold = 3\n",
    "\n",
    "# Create a boolean mask for non-outliers\n",
    "mask = (z_scores < threshold).all(axis=1)\n",
    "\n",
    "# Apply the mask to get the DataFrame without outliers\n",
    "train_df = train_df[mask]\n",
    "\n",
    "# Identify the outliers\n",
    "outliers = train_df[~mask]\n",
    "\n",
    "print(\"Outliers:\")\n",
    "outliers\n",
    "\n",
    "#print(\"DataFrame without outliers:\")\n"
   ]
  },
  {
   "cell_type": "code",
   "execution_count": 8,
   "id": "a4038eca-f04e-4b94-b0ec-c514d27d0c16",
   "metadata": {},
   "outputs": [
    {
     "data": {
      "text/html": [
       "<div>\n",
       "<style scoped>\n",
       "    .dataframe tbody tr th:only-of-type {\n",
       "        vertical-align: middle;\n",
       "    }\n",
       "\n",
       "    .dataframe tbody tr th {\n",
       "        vertical-align: top;\n",
       "    }\n",
       "\n",
       "    .dataframe thead th {\n",
       "        text-align: right;\n",
       "    }\n",
       "</style>\n",
       "<table border=\"1\" class=\"dataframe\">\n",
       "  <thead>\n",
       "    <tr style=\"text-align: right;\">\n",
       "      <th></th>\n",
       "      <th>battery_power</th>\n",
       "      <th>blue</th>\n",
       "      <th>clock_speed</th>\n",
       "      <th>dual_sim</th>\n",
       "      <th>fc</th>\n",
       "      <th>four_g</th>\n",
       "      <th>int_memory</th>\n",
       "      <th>m_dep</th>\n",
       "      <th>mobile_wt</th>\n",
       "      <th>n_cores</th>\n",
       "      <th>...</th>\n",
       "      <th>px_height</th>\n",
       "      <th>px_width</th>\n",
       "      <th>ram</th>\n",
       "      <th>sc_h</th>\n",
       "      <th>sc_w</th>\n",
       "      <th>talk_time</th>\n",
       "      <th>three_g</th>\n",
       "      <th>touch_screen</th>\n",
       "      <th>wifi</th>\n",
       "      <th>price_range</th>\n",
       "    </tr>\n",
       "  </thead>\n",
       "  <tbody>\n",
       "    <tr>\n",
       "      <th>0</th>\n",
       "      <td>842</td>\n",
       "      <td>0</td>\n",
       "      <td>2.2</td>\n",
       "      <td>0</td>\n",
       "      <td>1</td>\n",
       "      <td>0</td>\n",
       "      <td>7</td>\n",
       "      <td>0.6</td>\n",
       "      <td>188</td>\n",
       "      <td>2</td>\n",
       "      <td>...</td>\n",
       "      <td>20</td>\n",
       "      <td>756</td>\n",
       "      <td>2549</td>\n",
       "      <td>9</td>\n",
       "      <td>7</td>\n",
       "      <td>19</td>\n",
       "      <td>0</td>\n",
       "      <td>0</td>\n",
       "      <td>1</td>\n",
       "      <td>1</td>\n",
       "    </tr>\n",
       "    <tr>\n",
       "      <th>1</th>\n",
       "      <td>1021</td>\n",
       "      <td>1</td>\n",
       "      <td>0.5</td>\n",
       "      <td>1</td>\n",
       "      <td>0</td>\n",
       "      <td>1</td>\n",
       "      <td>53</td>\n",
       "      <td>0.7</td>\n",
       "      <td>136</td>\n",
       "      <td>3</td>\n",
       "      <td>...</td>\n",
       "      <td>905</td>\n",
       "      <td>1988</td>\n",
       "      <td>2631</td>\n",
       "      <td>17</td>\n",
       "      <td>3</td>\n",
       "      <td>7</td>\n",
       "      <td>1</td>\n",
       "      <td>1</td>\n",
       "      <td>0</td>\n",
       "      <td>2</td>\n",
       "    </tr>\n",
       "    <tr>\n",
       "      <th>2</th>\n",
       "      <td>563</td>\n",
       "      <td>1</td>\n",
       "      <td>0.5</td>\n",
       "      <td>1</td>\n",
       "      <td>2</td>\n",
       "      <td>1</td>\n",
       "      <td>41</td>\n",
       "      <td>0.9</td>\n",
       "      <td>145</td>\n",
       "      <td>5</td>\n",
       "      <td>...</td>\n",
       "      <td>1263</td>\n",
       "      <td>1716</td>\n",
       "      <td>2603</td>\n",
       "      <td>11</td>\n",
       "      <td>2</td>\n",
       "      <td>9</td>\n",
       "      <td>1</td>\n",
       "      <td>1</td>\n",
       "      <td>0</td>\n",
       "      <td>2</td>\n",
       "    </tr>\n",
       "    <tr>\n",
       "      <th>3</th>\n",
       "      <td>615</td>\n",
       "      <td>1</td>\n",
       "      <td>2.5</td>\n",
       "      <td>0</td>\n",
       "      <td>0</td>\n",
       "      <td>0</td>\n",
       "      <td>10</td>\n",
       "      <td>0.8</td>\n",
       "      <td>131</td>\n",
       "      <td>6</td>\n",
       "      <td>...</td>\n",
       "      <td>1216</td>\n",
       "      <td>1786</td>\n",
       "      <td>2769</td>\n",
       "      <td>16</td>\n",
       "      <td>8</td>\n",
       "      <td>11</td>\n",
       "      <td>1</td>\n",
       "      <td>0</td>\n",
       "      <td>0</td>\n",
       "      <td>2</td>\n",
       "    </tr>\n",
       "    <tr>\n",
       "      <th>4</th>\n",
       "      <td>1821</td>\n",
       "      <td>1</td>\n",
       "      <td>1.2</td>\n",
       "      <td>0</td>\n",
       "      <td>13</td>\n",
       "      <td>1</td>\n",
       "      <td>44</td>\n",
       "      <td>0.6</td>\n",
       "      <td>141</td>\n",
       "      <td>2</td>\n",
       "      <td>...</td>\n",
       "      <td>1208</td>\n",
       "      <td>1212</td>\n",
       "      <td>1411</td>\n",
       "      <td>8</td>\n",
       "      <td>2</td>\n",
       "      <td>15</td>\n",
       "      <td>1</td>\n",
       "      <td>1</td>\n",
       "      <td>0</td>\n",
       "      <td>1</td>\n",
       "    </tr>\n",
       "    <tr>\n",
       "      <th>...</th>\n",
       "      <td>...</td>\n",
       "      <td>...</td>\n",
       "      <td>...</td>\n",
       "      <td>...</td>\n",
       "      <td>...</td>\n",
       "      <td>...</td>\n",
       "      <td>...</td>\n",
       "      <td>...</td>\n",
       "      <td>...</td>\n",
       "      <td>...</td>\n",
       "      <td>...</td>\n",
       "      <td>...</td>\n",
       "      <td>...</td>\n",
       "      <td>...</td>\n",
       "      <td>...</td>\n",
       "      <td>...</td>\n",
       "      <td>...</td>\n",
       "      <td>...</td>\n",
       "      <td>...</td>\n",
       "      <td>...</td>\n",
       "      <td>...</td>\n",
       "    </tr>\n",
       "    <tr>\n",
       "      <th>1995</th>\n",
       "      <td>794</td>\n",
       "      <td>1</td>\n",
       "      <td>0.5</td>\n",
       "      <td>1</td>\n",
       "      <td>0</td>\n",
       "      <td>1</td>\n",
       "      <td>2</td>\n",
       "      <td>0.8</td>\n",
       "      <td>106</td>\n",
       "      <td>6</td>\n",
       "      <td>...</td>\n",
       "      <td>1222</td>\n",
       "      <td>1890</td>\n",
       "      <td>668</td>\n",
       "      <td>13</td>\n",
       "      <td>4</td>\n",
       "      <td>19</td>\n",
       "      <td>1</td>\n",
       "      <td>1</td>\n",
       "      <td>0</td>\n",
       "      <td>0</td>\n",
       "    </tr>\n",
       "    <tr>\n",
       "      <th>1996</th>\n",
       "      <td>1965</td>\n",
       "      <td>1</td>\n",
       "      <td>2.6</td>\n",
       "      <td>1</td>\n",
       "      <td>0</td>\n",
       "      <td>0</td>\n",
       "      <td>39</td>\n",
       "      <td>0.2</td>\n",
       "      <td>187</td>\n",
       "      <td>4</td>\n",
       "      <td>...</td>\n",
       "      <td>915</td>\n",
       "      <td>1965</td>\n",
       "      <td>2032</td>\n",
       "      <td>11</td>\n",
       "      <td>10</td>\n",
       "      <td>16</td>\n",
       "      <td>1</td>\n",
       "      <td>1</td>\n",
       "      <td>1</td>\n",
       "      <td>2</td>\n",
       "    </tr>\n",
       "    <tr>\n",
       "      <th>1997</th>\n",
       "      <td>1911</td>\n",
       "      <td>0</td>\n",
       "      <td>0.9</td>\n",
       "      <td>1</td>\n",
       "      <td>1</td>\n",
       "      <td>1</td>\n",
       "      <td>36</td>\n",
       "      <td>0.7</td>\n",
       "      <td>108</td>\n",
       "      <td>8</td>\n",
       "      <td>...</td>\n",
       "      <td>868</td>\n",
       "      <td>1632</td>\n",
       "      <td>3057</td>\n",
       "      <td>9</td>\n",
       "      <td>1</td>\n",
       "      <td>5</td>\n",
       "      <td>1</td>\n",
       "      <td>1</td>\n",
       "      <td>0</td>\n",
       "      <td>3</td>\n",
       "    </tr>\n",
       "    <tr>\n",
       "      <th>1998</th>\n",
       "      <td>1512</td>\n",
       "      <td>0</td>\n",
       "      <td>0.9</td>\n",
       "      <td>0</td>\n",
       "      <td>4</td>\n",
       "      <td>1</td>\n",
       "      <td>46</td>\n",
       "      <td>0.1</td>\n",
       "      <td>145</td>\n",
       "      <td>5</td>\n",
       "      <td>...</td>\n",
       "      <td>336</td>\n",
       "      <td>670</td>\n",
       "      <td>869</td>\n",
       "      <td>18</td>\n",
       "      <td>10</td>\n",
       "      <td>19</td>\n",
       "      <td>1</td>\n",
       "      <td>1</td>\n",
       "      <td>1</td>\n",
       "      <td>0</td>\n",
       "    </tr>\n",
       "    <tr>\n",
       "      <th>1999</th>\n",
       "      <td>510</td>\n",
       "      <td>1</td>\n",
       "      <td>2.0</td>\n",
       "      <td>1</td>\n",
       "      <td>5</td>\n",
       "      <td>1</td>\n",
       "      <td>45</td>\n",
       "      <td>0.9</td>\n",
       "      <td>168</td>\n",
       "      <td>6</td>\n",
       "      <td>...</td>\n",
       "      <td>483</td>\n",
       "      <td>754</td>\n",
       "      <td>3919</td>\n",
       "      <td>19</td>\n",
       "      <td>4</td>\n",
       "      <td>2</td>\n",
       "      <td>1</td>\n",
       "      <td>1</td>\n",
       "      <td>1</td>\n",
       "      <td>3</td>\n",
       "    </tr>\n",
       "  </tbody>\n",
       "</table>\n",
       "<p>1988 rows × 21 columns</p>\n",
       "</div>"
      ],
      "text/plain": [
       "      battery_power  blue  clock_speed  dual_sim  fc  four_g  int_memory  \\\n",
       "0               842     0          2.2         0   1       0           7   \n",
       "1              1021     1          0.5         1   0       1          53   \n",
       "2               563     1          0.5         1   2       1          41   \n",
       "3               615     1          2.5         0   0       0          10   \n",
       "4              1821     1          1.2         0  13       1          44   \n",
       "...             ...   ...          ...       ...  ..     ...         ...   \n",
       "1995            794     1          0.5         1   0       1           2   \n",
       "1996           1965     1          2.6         1   0       0          39   \n",
       "1997           1911     0          0.9         1   1       1          36   \n",
       "1998           1512     0          0.9         0   4       1          46   \n",
       "1999            510     1          2.0         1   5       1          45   \n",
       "\n",
       "      m_dep  mobile_wt  n_cores  ...  px_height  px_width   ram  sc_h  sc_w  \\\n",
       "0       0.6        188        2  ...         20       756  2549     9     7   \n",
       "1       0.7        136        3  ...        905      1988  2631    17     3   \n",
       "2       0.9        145        5  ...       1263      1716  2603    11     2   \n",
       "3       0.8        131        6  ...       1216      1786  2769    16     8   \n",
       "4       0.6        141        2  ...       1208      1212  1411     8     2   \n",
       "...     ...        ...      ...  ...        ...       ...   ...   ...   ...   \n",
       "1995    0.8        106        6  ...       1222      1890   668    13     4   \n",
       "1996    0.2        187        4  ...        915      1965  2032    11    10   \n",
       "1997    0.7        108        8  ...        868      1632  3057     9     1   \n",
       "1998    0.1        145        5  ...        336       670   869    18    10   \n",
       "1999    0.9        168        6  ...        483       754  3919    19     4   \n",
       "\n",
       "      talk_time  three_g  touch_screen  wifi  price_range  \n",
       "0            19        0             0     1            1  \n",
       "1             7        1             1     0            2  \n",
       "2             9        1             1     0            2  \n",
       "3            11        1             0     0            2  \n",
       "4            15        1             1     0            1  \n",
       "...         ...      ...           ...   ...          ...  \n",
       "1995         19        1             1     0            0  \n",
       "1996         16        1             1     1            2  \n",
       "1997          5        1             1     0            3  \n",
       "1998         19        1             1     1            0  \n",
       "1999          2        1             1     1            3  \n",
       "\n",
       "[1988 rows x 21 columns]"
      ]
     },
     "execution_count": 8,
     "metadata": {},
     "output_type": "execute_result"
    }
   ],
   "source": [
    "train_df"
   ]
  },
  {
   "attachments": {},
   "cell_type": "markdown",
   "id": "35069458-8a94-4313-94b3-1407eeb406e2",
   "metadata": {},
   "source": [
    "### Features ➕ Target 🎯"
   ]
  },
  {
   "cell_type": "code",
   "execution_count": 9,
   "id": "ac54e6db-d51c-4942-85ad-31bf30907eb4",
   "metadata": {},
   "outputs": [],
   "source": [
    "Y = train_df.price_range\n",
    "X = train_df.drop('price_range', axis=1)"
   ]
  },
  {
   "cell_type": "markdown",
   "id": "278609d5-0612-4f59-a4fa-b3db7d249b48",
   "metadata": {},
   "source": [
    "### EDA: Exploratory Data Analysis"
   ]
  },
  {
   "cell_type": "markdown",
   "id": "6774a03a-e11b-44af-b2fa-71147b5790e3",
   "metadata": {},
   "source": [
    "- #### feature-feature correlation"
   ]
  },
  {
   "cell_type": "code",
   "execution_count": 10,
   "id": "bec49e31-e1e7-4a33-b962-92624b33ed64",
   "metadata": {},
   "outputs": [
    {
     "data": {
      "image/png": "[encoded data removed]",
      "text/plain": [
       "<Figure size 1200x1000 with 2 Axes>"
      ]
     },
     "metadata": {},
     "output_type": "display_data"
    }
   ],
   "source": [
    "correlation_matrix = X.corr()\n",
    "plt.figure(figsize=(12, 10))\n",
    "sns.heatmap(correlation_matrix, annot=False, cmap='coolwarm', cbar=True)\n",
    "plt.title('Feature-to-Feature Correlation')\n",
    "plt.savefig(\"imgs\\Feature-to-Feature Correlation.png\")\n",
    "plt.show()"
   ]
  },
  {
   "cell_type": "markdown",
   "id": "e96a70ca-850d-4110-9354-1c7467b71c7b",
   "metadata": {},
   "source": [
    "\"**KDE plot**\""
   ]
  },
  {
   "cell_type": "code",
   "execution_count": 11,
   "id": "6b77441b-abc3-4b91-8328-114394d0bc45",
   "metadata": {},
   "outputs": [
    {
     "data": {
      "image/png": "[encoded data removed]",
      "text/plain": [
       "<Figure size 600x400 with 1 Axes>"
      ]
     },
     "metadata": {},
     "output_type": "display_data"
    }
   ],
   "source": [
    "plt.figure(figsize=(6,4))\n",
    "\n",
    "sns.kdeplot(data=X['battery_power'], fill=True, legend=True)\n",
    "plt.title(\"Distribution of battery_power Specifics.\")\n",
    "plt.xlabel(f\"Values\")\n",
    "plt.ylabel(\"Density\")\n",
    "plt.grid(True)\n",
    "plt.savefig(\"imgs\\Distribution of battery_power.png\")\n",
    "plt.show()"
   ]
  },
  {
   "cell_type": "code",
   "execution_count": 12,
   "id": "8cc63e95-c5e4-4b97-b932-315bf014271f",
   "metadata": {},
   "outputs": [
    {
     "data": {
      "image/png": "[encoded data removed]",
      "text/plain": [
       "<Figure size 600x400 with 1 Axes>"
      ]
     },
     "metadata": {},
     "output_type": "display_data"
    }
   ],
   "source": [
    "plt.figure(figsize=(6,4))\n",
    "\n",
    "sns.kdeplot(data=X['talk_time'], fill=True, legend=True)\n",
    "plt.title(\"Distribution of talk_time Specifics.\")\n",
    "plt.xlabel(f\"Values\")\n",
    "plt.ylabel(\"Density\")\n",
    "plt.grid(True)\n",
    "plt.savefig(\"imgs\\Distribution of talk_time.png\")\n",
    "plt.show()"
   ]
  },
  {
   "cell_type": "code",
   "execution_count": 13,
   "id": "564c9bed-dbc2-40ca-be4b-fdb2ac73d63b",
   "metadata": {},
   "outputs": [
    {
     "data": {
      "image/png": "[encoded data removed]",
      "text/plain": [
       "<Figure size 600x400 with 1 Axes>"
      ]
     },
     "metadata": {},
     "output_type": "display_data"
    }
   ],
   "source": [
    "plt.figure(figsize=(6,4))\n",
    "\n",
    "sns.kdeplot(data=X['mobile_wt'], fill=True, legend=True)\n",
    "plt.title(\"Distribution of mobile_wt Specifics.\")\n",
    "plt.xlabel(f\"Values\")\n",
    "plt.ylabel(\"Density\")\n",
    "plt.grid(True)\n",
    "plt.savefig(\"imgs\\Distribution of mobile_wt.png\")\n",
    "plt.show()"
   ]
  },
  {
   "cell_type": "markdown",
   "id": "8e5eacdf-74db-401d-9db9-93d39bcd720a",
   "metadata": {},
   "source": [
    "\"**Box plot**\""
   ]
  },
  {
   "cell_type": "code",
   "execution_count": 14,
   "id": "4ba6a94e-da46-4a77-a81e-9196f92e3e30",
   "metadata": {},
   "outputs": [
    {
     "data": {
      "image/png": "[encoded data removed]",
      "text/plain": [
       "<Figure size 1500x1000 with 20 Axes>"
      ]
     },
     "metadata": {},
     "output_type": "display_data"
    }
   ],
   "source": [
    "plt.figure(figsize=(15, 10))\n",
    "for i, column in enumerate(X.columns, 1):\n",
    "    plt.subplot(4, 5, i)\n",
    "    sns.boxplot(y=X[column])\n",
    "    plt.title(column)\n",
    "\n",
    "plt.tight_layout()\n",
    "plt.show()"
   ]
  },
  {
   "cell_type": "code",
   "execution_count": null,
   "id": "28ddf6d5-ad21-47ee-bc13-dfd8058c6cb9",
   "metadata": {},
   "outputs": [],
   "source": []
  },
  {
   "cell_type": "markdown",
   "id": "92af2d60-f890-4808-a598-33229308e16e",
   "metadata": {},
   "source": [
    "\"**Bar plot**\""
   ]
  },
  {
   "cell_type": "markdown",
   "id": "dfffddaf-6e3e-448e-82fc-1c1dbff6effb",
   "metadata": {},
   "source": [
    "\"**Heatmap**\""
   ]
  },
  {
   "cell_type": "markdown",
   "id": "366cf37b-d4f9-4c4a-9cbf-5cc340801414",
   "metadata": {},
   "source": [
    "\"**Histogram**\""
   ]
  },
  {
   "cell_type": "code",
   "execution_count": null,
   "id": "645d5307-51e2-496d-8be2-fb7f11b110ac",
   "metadata": {},
   "outputs": [],
   "source": []
  },
  {
   "cell_type": "code",
   "execution_count": 15,
   "id": "3812a7e2-86c0-4615-acce-984221a2b44a",
   "metadata": {},
   "outputs": [
    {
     "data": {
      "image/png": "[encoded data removed]",
      "text/plain": [
       "<Figure size 1500x1000 with 20 Axes>"
      ]
     },
     "metadata": {},
     "output_type": "display_data"
    }
   ],
   "source": [
    "X.hist(bins=20, figsize=(15, 10))\n",
    "plt.tight_layout()\n",
    "plt.show()"
   ]
  },
  {
   "cell_type": "code",
   "execution_count": null,
   "id": "2ba0c4c4-4eec-4c1c-85a5-81b96a8a05d0",
   "metadata": {},
   "outputs": [],
   "source": []
  },
  {
   "cell_type": "markdown",
   "id": "dd93bb5a-d6c3-4641-830c-6873dedfad1a",
   "metadata": {},
   "source": [
    "### Standardization"
   ]
  },
  {
   "cell_type": "code",
   "execution_count": 16,
   "id": "459b9a69-dab0-4eb0-b261-f8bb58859615",
   "metadata": {},
   "outputs": [],
   "source": [
    "from sklearn.preprocessing import StandardScaler\n",
    "\n",
    "scaler = StandardScaler()\n",
    "scaled_features = scaler.fit_transform(X)\n",
    "\n",
    "joblib.dump(scaler , \"files\\scaler.pkl\") # sace the scaler\n",
    "\n",
    "scaled_df = pd.DataFrame(scaled_features, columns=X.columns)\n",
    "\n",
    "mob_data = pd.concat([scaled_df, Y.reset_index(drop=True)], axis=1)"
   ]
  },
  {
   "cell_type": "code",
   "execution_count": 45,
   "id": "c2a7809b-066b-45c9-b167-ea6e063fd6d5",
   "metadata": {},
   "outputs": [
    {
     "data": {
      "text/html": [
       "<div>\n",
       "<style scoped>\n",
       "    .dataframe tbody tr th:only-of-type {\n",
       "        vertical-align: middle;\n",
       "    }\n",
       "\n",
       "    .dataframe tbody tr th {\n",
       "        vertical-align: top;\n",
       "    }\n",
       "\n",
       "    .dataframe thead th {\n",
       "        text-align: right;\n",
       "    }\n",
       "</style>\n",
       "<table border=\"1\" class=\"dataframe\">\n",
       "  <thead>\n",
       "    <tr style=\"text-align: right;\">\n",
       "      <th></th>\n",
       "      <th>battery_power</th>\n",
       "      <th>blue</th>\n",
       "      <th>clock_speed</th>\n",
       "      <th>dual_sim</th>\n",
       "      <th>fc</th>\n",
       "      <th>four_g</th>\n",
       "      <th>int_memory</th>\n",
       "      <th>m_dep</th>\n",
       "      <th>mobile_wt</th>\n",
       "      <th>n_cores</th>\n",
       "      <th>...</th>\n",
       "      <th>px_height</th>\n",
       "      <th>px_width</th>\n",
       "      <th>ram</th>\n",
       "      <th>sc_h</th>\n",
       "      <th>sc_w</th>\n",
       "      <th>talk_time</th>\n",
       "      <th>three_g</th>\n",
       "      <th>touch_screen</th>\n",
       "      <th>wifi</th>\n",
       "      <th>price_range</th>\n",
       "    </tr>\n",
       "  </thead>\n",
       "  <tbody>\n",
       "    <tr>\n",
       "      <th>0</th>\n",
       "      <td>-0.900327</td>\n",
       "      <td>-0.990986</td>\n",
       "      <td>0.830104</td>\n",
       "      <td>-1.018276</td>\n",
       "      <td>-0.764723</td>\n",
       "      <td>-1.042134</td>\n",
       "      <td>-1.384328</td>\n",
       "      <td>0.339804</td>\n",
       "      <td>1.353256</td>\n",
       "      <td>-1.102534</td>\n",
       "      <td>...</td>\n",
       "      <td>-1.408890</td>\n",
       "      <td>-1.147132</td>\n",
       "      <td>0.389750</td>\n",
       "      <td>-0.784980</td>\n",
       "      <td>0.281717</td>\n",
       "      <td>1.463059</td>\n",
       "      <td>-1.782266</td>\n",
       "      <td>-1.005043</td>\n",
       "      <td>0.989990</td>\n",
       "      <td>1</td>\n",
       "    </tr>\n",
       "    <tr>\n",
       "      <th>1</th>\n",
       "      <td>-0.492942</td>\n",
       "      <td>1.009096</td>\n",
       "      <td>-1.251685</td>\n",
       "      <td>0.982052</td>\n",
       "      <td>-1.001747</td>\n",
       "      <td>0.959569</td>\n",
       "      <td>1.153797</td>\n",
       "      <td>0.686586</td>\n",
       "      <td>-0.117658</td>\n",
       "      <td>-0.665739</td>\n",
       "      <td>...</td>\n",
       "      <td>0.589531</td>\n",
       "      <td>1.704865</td>\n",
       "      <td>0.465402</td>\n",
       "      <td>1.113199</td>\n",
       "      <td>-0.635651</td>\n",
       "      <td>-0.735539</td>\n",
       "      <td>0.561084</td>\n",
       "      <td>0.994982</td>\n",
       "      <td>-1.010111</td>\n",
       "      <td>2</td>\n",
       "    </tr>\n",
       "    <tr>\n",
       "      <th>2</th>\n",
       "      <td>-1.535301</td>\n",
       "      <td>1.009096</td>\n",
       "      <td>-1.251685</td>\n",
       "      <td>0.982052</td>\n",
       "      <td>-0.527699</td>\n",
       "      <td>0.959569</td>\n",
       "      <td>0.491677</td>\n",
       "      <td>1.380149</td>\n",
       "      <td>0.136923</td>\n",
       "      <td>0.207851</td>\n",
       "      <td>...</td>\n",
       "      <td>1.397932</td>\n",
       "      <td>1.075203</td>\n",
       "      <td>0.439570</td>\n",
       "      <td>-0.310435</td>\n",
       "      <td>-0.864993</td>\n",
       "      <td>-0.369106</td>\n",
       "      <td>0.561084</td>\n",
       "      <td>0.994982</td>\n",
       "      <td>-1.010111</td>\n",
       "      <td>2</td>\n",
       "    </tr>\n",
       "    <tr>\n",
       "      <th>3</th>\n",
       "      <td>-1.416954</td>\n",
       "      <td>1.009096</td>\n",
       "      <td>1.197478</td>\n",
       "      <td>-1.018276</td>\n",
       "      <td>-1.001747</td>\n",
       "      <td>-1.042134</td>\n",
       "      <td>-1.218798</td>\n",
       "      <td>1.033367</td>\n",
       "      <td>-0.259092</td>\n",
       "      <td>0.644646</td>\n",
       "      <td>...</td>\n",
       "      <td>1.291801</td>\n",
       "      <td>1.237249</td>\n",
       "      <td>0.592719</td>\n",
       "      <td>0.875926</td>\n",
       "      <td>0.511059</td>\n",
       "      <td>-0.002673</td>\n",
       "      <td>0.561084</td>\n",
       "      <td>-1.005043</td>\n",
       "      <td>-1.010111</td>\n",
       "      <td>2</td>\n",
       "    </tr>\n",
       "    <tr>\n",
       "      <th>4</th>\n",
       "      <td>1.327771</td>\n",
       "      <td>1.009096</td>\n",
       "      <td>-0.394478</td>\n",
       "      <td>-1.018276</td>\n",
       "      <td>2.079560</td>\n",
       "      <td>0.959569</td>\n",
       "      <td>0.657207</td>\n",
       "      <td>0.339804</td>\n",
       "      <td>0.023776</td>\n",
       "      <td>-1.102534</td>\n",
       "      <td>...</td>\n",
       "      <td>1.273736</td>\n",
       "      <td>-0.091523</td>\n",
       "      <td>-0.660149</td>\n",
       "      <td>-1.022252</td>\n",
       "      <td>-0.864993</td>\n",
       "      <td>0.730193</td>\n",
       "      <td>0.561084</td>\n",
       "      <td>0.994982</td>\n",
       "      <td>-1.010111</td>\n",
       "      <td>1</td>\n",
       "    </tr>\n",
       "    <tr>\n",
       "      <th>...</th>\n",
       "      <td>...</td>\n",
       "      <td>...</td>\n",
       "      <td>...</td>\n",
       "      <td>...</td>\n",
       "      <td>...</td>\n",
       "      <td>...</td>\n",
       "      <td>...</td>\n",
       "      <td>...</td>\n",
       "      <td>...</td>\n",
       "      <td>...</td>\n",
       "      <td>...</td>\n",
       "      <td>...</td>\n",
       "      <td>...</td>\n",
       "      <td>...</td>\n",
       "      <td>...</td>\n",
       "      <td>...</td>\n",
       "      <td>...</td>\n",
       "      <td>...</td>\n",
       "      <td>...</td>\n",
       "      <td>...</td>\n",
       "      <td>...</td>\n",
       "    </tr>\n",
       "    <tr>\n",
       "      <th>1983</th>\n",
       "      <td>-1.009570</td>\n",
       "      <td>1.009096</td>\n",
       "      <td>-1.251685</td>\n",
       "      <td>0.982052</td>\n",
       "      <td>-1.001747</td>\n",
       "      <td>0.959569</td>\n",
       "      <td>-1.660212</td>\n",
       "      <td>1.033367</td>\n",
       "      <td>-0.966262</td>\n",
       "      <td>0.644646</td>\n",
       "      <td>...</td>\n",
       "      <td>1.305349</td>\n",
       "      <td>1.478002</td>\n",
       "      <td>-1.345628</td>\n",
       "      <td>0.164109</td>\n",
       "      <td>-0.406309</td>\n",
       "      <td>1.463059</td>\n",
       "      <td>0.561084</td>\n",
       "      <td>0.994982</td>\n",
       "      <td>-1.010111</td>\n",
       "      <td>0</td>\n",
       "    </tr>\n",
       "    <tr>\n",
       "      <th>1984</th>\n",
       "      <td>1.655499</td>\n",
       "      <td>1.009096</td>\n",
       "      <td>1.319937</td>\n",
       "      <td>0.982052</td>\n",
       "      <td>-1.001747</td>\n",
       "      <td>-1.042134</td>\n",
       "      <td>0.381324</td>\n",
       "      <td>-1.047322</td>\n",
       "      <td>1.324969</td>\n",
       "      <td>-0.228944</td>\n",
       "      <td>...</td>\n",
       "      <td>0.612112</td>\n",
       "      <td>1.651621</td>\n",
       "      <td>-0.087225</td>\n",
       "      <td>-0.310435</td>\n",
       "      <td>0.969743</td>\n",
       "      <td>0.913410</td>\n",
       "      <td>0.561084</td>\n",
       "      <td>0.994982</td>\n",
       "      <td>0.989990</td>\n",
       "      <td>2</td>\n",
       "    </tr>\n",
       "    <tr>\n",
       "      <th>1985</th>\n",
       "      <td>1.532601</td>\n",
       "      <td>-0.990986</td>\n",
       "      <td>-0.761853</td>\n",
       "      <td>0.982052</td>\n",
       "      <td>-0.764723</td>\n",
       "      <td>0.959569</td>\n",
       "      <td>0.215794</td>\n",
       "      <td>0.686586</td>\n",
       "      <td>-0.909688</td>\n",
       "      <td>1.518236</td>\n",
       "      <td>...</td>\n",
       "      <td>0.505981</td>\n",
       "      <td>0.880749</td>\n",
       "      <td>0.858422</td>\n",
       "      <td>-0.784980</td>\n",
       "      <td>-1.094335</td>\n",
       "      <td>-1.101972</td>\n",
       "      <td>0.561084</td>\n",
       "      <td>0.994982</td>\n",
       "      <td>-1.010111</td>\n",
       "      <td>3</td>\n",
       "    </tr>\n",
       "    <tr>\n",
       "      <th>1986</th>\n",
       "      <td>0.624520</td>\n",
       "      <td>-0.990986</td>\n",
       "      <td>-0.761853</td>\n",
       "      <td>-1.018276</td>\n",
       "      <td>-0.053652</td>\n",
       "      <td>0.959569</td>\n",
       "      <td>0.767560</td>\n",
       "      <td>-1.394104</td>\n",
       "      <td>0.136923</td>\n",
       "      <td>0.207851</td>\n",
       "      <td>...</td>\n",
       "      <td>-0.695330</td>\n",
       "      <td>-1.346216</td>\n",
       "      <td>-1.160189</td>\n",
       "      <td>1.350471</td>\n",
       "      <td>0.969743</td>\n",
       "      <td>1.463059</td>\n",
       "      <td>0.561084</td>\n",
       "      <td>0.994982</td>\n",
       "      <td>0.989990</td>\n",
       "      <td>0</td>\n",
       "    </tr>\n",
       "    <tr>\n",
       "      <th>1987</th>\n",
       "      <td>-1.655923</td>\n",
       "      <td>1.009096</td>\n",
       "      <td>0.585188</td>\n",
       "      <td>0.982052</td>\n",
       "      <td>0.183371</td>\n",
       "      <td>0.959569</td>\n",
       "      <td>0.712384</td>\n",
       "      <td>1.380149</td>\n",
       "      <td>0.787520</td>\n",
       "      <td>0.644646</td>\n",
       "      <td>...</td>\n",
       "      <td>-0.363389</td>\n",
       "      <td>-1.151761</td>\n",
       "      <td>1.653689</td>\n",
       "      <td>1.587744</td>\n",
       "      <td>-0.406309</td>\n",
       "      <td>-1.651621</td>\n",
       "      <td>0.561084</td>\n",
       "      <td>0.994982</td>\n",
       "      <td>0.989990</td>\n",
       "      <td>3</td>\n",
       "    </tr>\n",
       "  </tbody>\n",
       "</table>\n",
       "<p>1988 rows × 21 columns</p>\n",
       "</div>"
      ],
      "text/plain": [
       "      battery_power      blue  clock_speed  dual_sim        fc    four_g  \\\n",
       "0         -0.900327 -0.990986     0.830104 -1.018276 -0.764723 -1.042134   \n",
       "1         -0.492942  1.009096    -1.251685  0.982052 -1.001747  0.959569   \n",
       "2         -1.535301  1.009096    -1.251685  0.982052 -0.527699  0.959569   \n",
       "3         -1.416954  1.009096     1.197478 -1.018276 -1.001747 -1.042134   \n",
       "4          1.327771  1.009096    -0.394478 -1.018276  2.079560  0.959569   \n",
       "...             ...       ...          ...       ...       ...       ...   \n",
       "1983      -1.009570  1.009096    -1.251685  0.982052 -1.001747  0.959569   \n",
       "1984       1.655499  1.009096     1.319937  0.982052 -1.001747 -1.042134   \n",
       "1985       1.532601 -0.990986    -0.761853  0.982052 -0.764723  0.959569   \n",
       "1986       0.624520 -0.990986    -0.761853 -1.018276 -0.053652  0.959569   \n",
       "1987      -1.655923  1.009096     0.585188  0.982052  0.183371  0.959569   \n",
       "\n",
       "      int_memory     m_dep  mobile_wt   n_cores  ...  px_height  px_width  \\\n",
       "0      -1.384328  0.339804   1.353256 -1.102534  ...  -1.408890 -1.147132   \n",
       "1       1.153797  0.686586  -0.117658 -0.665739  ...   0.589531  1.704865   \n",
       "2       0.491677  1.380149   0.136923  0.207851  ...   1.397932  1.075203   \n",
       "3      -1.218798  1.033367  -0.259092  0.644646  ...   1.291801  1.237249   \n",
       "4       0.657207  0.339804   0.023776 -1.102534  ...   1.273736 -0.091523   \n",
       "...          ...       ...        ...       ...  ...        ...       ...   \n",
       "1983   -1.660212  1.033367  -0.966262  0.644646  ...   1.305349  1.478002   \n",
       "1984    0.381324 -1.047322   1.324969 -0.228944  ...   0.612112  1.651621   \n",
       "1985    0.215794  0.686586  -0.909688  1.518236  ...   0.505981  0.880749   \n",
       "1986    0.767560 -1.394104   0.136923  0.207851  ...  -0.695330 -1.346216   \n",
       "1987    0.712384  1.380149   0.787520  0.644646  ...  -0.363389 -1.151761   \n",
       "\n",
       "           ram      sc_h      sc_w  talk_time   three_g  touch_screen  \\\n",
       "0     0.389750 -0.784980  0.281717   1.463059 -1.782266     -1.005043   \n",
       "1     0.465402  1.113199 -0.635651  -0.735539  0.561084      0.994982   \n",
       "2     0.439570 -0.310435 -0.864993  -0.369106  0.561084      0.994982   \n",
       "3     0.592719  0.875926  0.511059  -0.002673  0.561084     -1.005043   \n",
       "4    -0.660149 -1.022252 -0.864993   0.730193  0.561084      0.994982   \n",
       "...        ...       ...       ...        ...       ...           ...   \n",
       "1983 -1.345628  0.164109 -0.406309   1.463059  0.561084      0.994982   \n",
       "1984 -0.087225 -0.310435  0.969743   0.913410  0.561084      0.994982   \n",
       "1985  0.858422 -0.784980 -1.094335  -1.101972  0.561084      0.994982   \n",
       "1986 -1.160189  1.350471  0.969743   1.463059  0.561084      0.994982   \n",
       "1987  1.653689  1.587744 -0.406309  -1.651621  0.561084      0.994982   \n",
       "\n",
       "          wifi  price_range  \n",
       "0     0.989990            1  \n",
       "1    -1.010111            2  \n",
       "2    -1.010111            2  \n",
       "3    -1.010111            2  \n",
       "4    -1.010111            1  \n",
       "...        ...          ...  \n",
       "1983 -1.010111            0  \n",
       "1984  0.989990            2  \n",
       "1985 -1.010111            3  \n",
       "1986  0.989990            0  \n",
       "1987  0.989990            3  \n",
       "\n",
       "[1988 rows x 21 columns]"
      ]
     },
     "execution_count": 45,
     "metadata": {},
     "output_type": "execute_result"
    }
   ],
   "source": [
    "mob_data"
   ]
  },
  {
   "cell_type": "code",
   "execution_count": 17,
   "id": "121bd706-5a3a-4ae5-841b-dde3f312306b",
   "metadata": {},
   "outputs": [
    {
     "data": {
      "text/plain": [
       "battery_power    0\n",
       "blue             0\n",
       "clock_speed      0\n",
       "dual_sim         0\n",
       "fc               0\n",
       "four_g           0\n",
       "int_memory       0\n",
       "m_dep            0\n",
       "mobile_wt        0\n",
       "n_cores          0\n",
       "pc               0\n",
       "px_height        0\n",
       "px_width         0\n",
       "ram              0\n",
       "sc_h             0\n",
       "sc_w             0\n",
       "talk_time        0\n",
       "three_g          0\n",
       "touch_screen     0\n",
       "wifi             0\n",
       "price_range      0\n",
       "dtype: int64"
      ]
     },
     "execution_count": 17,
     "metadata": {},
     "output_type": "execute_result"
    }
   ],
   "source": [
    "mob_data.isna().sum()"
   ]
  },
  {
   "cell_type": "raw",
   "id": "8f340dbc-ba22-4d84-aed1-74f9c5bea02c",
   "metadata": {},
   "source": [
    "mob_data.hist(bins=20, figsize=(15, 10))\n",
    "plt.tight_layout()\n",
    "plt.show()"
   ]
  },
  {
   "cell_type": "code",
   "execution_count": null,
   "id": "9c8444d2-30a0-4f9e-afa0-1d820a465a47",
   "metadata": {},
   "outputs": [],
   "source": []
  },
  {
   "cell_type": "raw",
   "id": "32c3100f-156d-4955-a969-278d2dc56005",
   "metadata": {},
   "source": [
    "### Log transformation for positively skewed features"
   ]
  },
  {
   "cell_type": "raw",
   "id": "cf8e22a7-23c6-403c-8cca-d227fc9de27a",
   "metadata": {},
   "source": [
    "skewed_features = ['fc', 'sc_w', 'px_height']\n",
    "\n",
    "trans_scaled_df[skewed_features] = scaled_df[skewed_features].apply(np.log1p)\n",
    "\n",
    "for column in scaled_features_df.columns:\n",
    "    plt.figure()\n",
    "    sns.histplot(scaled_features_df[column], kde=True)\n",
    "    plt.title(column)\n",
    "    plt.show()"
   ]
  },
  {
   "cell_type": "code",
   "execution_count": null,
   "id": "e31747d8-02d6-4df5-b94d-f8ac4ae636ec",
   "metadata": {},
   "outputs": [],
   "source": []
  },
  {
   "cell_type": "markdown",
   "id": "db60891d-1ab1-4c8f-a191-da2f73edc1a8",
   "metadata": {},
   "source": [
    "\"**Splitting features**\""
   ]
  },
  {
   "cell_type": "code",
   "execution_count": 18,
   "id": "ddf2816f-8fc2-426c-b349-0ce3d403a309",
   "metadata": {},
   "outputs": [],
   "source": [
    "# Split into features (X) and target (y)\n",
    "y_train = mob_data.price_range\n",
    "x_train = mob_data.drop('price_range', axis=1)"
   ]
  },
  {
   "cell_type": "code",
   "execution_count": 19,
   "id": "dea7bcfc-fb06-43a6-b1dc-ee5964b6e0c7",
   "metadata": {},
   "outputs": [
    {
     "name": "stdout",
     "output_type": "stream",
     "text": [
      "(1988, 20)\n"
     ]
    }
   ],
   "source": [
    "print(x_train.shape)"
   ]
  },
  {
   "cell_type": "code",
   "execution_count": 20,
   "id": "886ceb18-0d63-48c0-9558-e45a623897e3",
   "metadata": {},
   "outputs": [
    {
     "data": {
      "text/plain": [
       "Index(['battery_power', 'blue', 'clock_speed', 'dual_sim', 'fc', 'four_g',\n",
       "       'int_memory', 'm_dep', 'mobile_wt', 'n_cores', 'pc', 'px_height',\n",
       "       'px_width', 'ram', 'sc_h', 'sc_w', 'talk_time', 'three_g',\n",
       "       'touch_screen', 'wifi'],\n",
       "      dtype='object')"
      ]
     },
     "execution_count": 20,
     "metadata": {},
     "output_type": "execute_result"
    }
   ],
   "source": [
    "x_train.columns"
   ]
  },
  {
   "cell_type": "code",
   "execution_count": 21,
   "id": "31910985-9831-42e8-8cf3-2bceff2d3cfa",
   "metadata": {},
   "outputs": [
    {
     "name": "stdout",
     "output_type": "stream",
     "text": [
      "(1000, 21)\n"
     ]
    }
   ],
   "source": [
    "print(test_df.shape)"
   ]
  },
  {
   "cell_type": "code",
   "execution_count": 22,
   "id": "25fa753c-e95d-4e8b-9523-f379dba72539",
   "metadata": {},
   "outputs": [
    {
     "data": {
      "text/plain": [
       "Index(['id', 'battery_power', 'blue', 'clock_speed', 'dual_sim', 'fc',\n",
       "       'four_g', 'int_memory', 'm_dep', 'mobile_wt', 'n_cores', 'pc',\n",
       "       'px_height', 'px_width', 'ram', 'sc_h', 'sc_w', 'talk_time', 'three_g',\n",
       "       'touch_screen', 'wifi'],\n",
       "      dtype='object')"
      ]
     },
     "execution_count": 22,
     "metadata": {},
     "output_type": "execute_result"
    }
   ],
   "source": [
    "test_df.columns"
   ]
  },
  {
   "cell_type": "code",
   "execution_count": 23,
   "id": "78aad718-efe5-4b2b-bf0e-3c6b5d1958ef",
   "metadata": {},
   "outputs": [
    {
     "name": "stdout",
     "output_type": "stream",
     "text": [
      "Extra columns in test: {'id'}\n"
     ]
    }
   ],
   "source": [
    "# Check for extra columns in test_df not present in train_df\n",
    "extra_columns_in_test = set(test_df.columns) - set(x_train.columns)\n",
    "print(\"Extra columns in test:\", extra_columns_in_test)\n",
    "\n",
    "# Remove extra columns from test_df if necessary\n",
    "if extra_columns_in_test:\n",
    "    test_df = test_df.drop(columns=extra_columns_in_test)\n"
   ]
  },
  {
   "cell_type": "code",
   "execution_count": 24,
   "id": "6f2ff08b-3d7d-410b-9df3-9b92acdd8780",
   "metadata": {},
   "outputs": [
    {
     "data": {
      "text/plain": [
       "(1000, 20)"
      ]
     },
     "execution_count": 24,
     "metadata": {},
     "output_type": "execute_result"
    }
   ],
   "source": [
    "test_df.columns\n",
    "test_df.shape"
   ]
  },
  {
   "cell_type": "code",
   "execution_count": null,
   "id": "c0427e40-581f-4dde-b1dd-f4b78abb08fb",
   "metadata": {},
   "outputs": [],
   "source": []
  },
  {
   "cell_type": "markdown",
   "id": "970c6592-5b95-48a9-af06-cab598f1abc3",
   "metadata": {},
   "source": [
    "### Load the scaler for test data transformation"
   ]
  },
  {
   "cell_type": "code",
   "execution_count": 25,
   "id": "03564be1-0e1d-4cc6-97a0-e254e41fd46a",
   "metadata": {},
   "outputs": [
    {
     "data": {
      "text/html": [
       "<div>\n",
       "<style scoped>\n",
       "    .dataframe tbody tr th:only-of-type {\n",
       "        vertical-align: middle;\n",
       "    }\n",
       "\n",
       "    .dataframe tbody tr th {\n",
       "        vertical-align: top;\n",
       "    }\n",
       "\n",
       "    .dataframe thead th {\n",
       "        text-align: right;\n",
       "    }\n",
       "</style>\n",
       "<table border=\"1\" class=\"dataframe\">\n",
       "  <thead>\n",
       "    <tr style=\"text-align: right;\">\n",
       "      <th></th>\n",
       "      <th>battery_power</th>\n",
       "      <th>blue</th>\n",
       "      <th>clock_speed</th>\n",
       "      <th>dual_sim</th>\n",
       "      <th>fc</th>\n",
       "      <th>four_g</th>\n",
       "      <th>int_memory</th>\n",
       "      <th>m_dep</th>\n",
       "      <th>mobile_wt</th>\n",
       "      <th>n_cores</th>\n",
       "      <th>pc</th>\n",
       "      <th>px_height</th>\n",
       "      <th>px_width</th>\n",
       "      <th>ram</th>\n",
       "      <th>sc_h</th>\n",
       "      <th>sc_w</th>\n",
       "      <th>talk_time</th>\n",
       "      <th>three_g</th>\n",
       "      <th>touch_screen</th>\n",
       "      <th>wifi</th>\n",
       "    </tr>\n",
       "  </thead>\n",
       "  <tbody>\n",
       "    <tr>\n",
       "      <th>0</th>\n",
       "      <td>-0.442873</td>\n",
       "      <td>1.009096</td>\n",
       "      <td>0.340271</td>\n",
       "      <td>0.982052</td>\n",
       "      <td>2.316584</td>\n",
       "      <td>-1.042134</td>\n",
       "      <td>-1.494682</td>\n",
       "      <td>-1.394104</td>\n",
       "      <td>1.494690</td>\n",
       "      <td>-0.665739</td>\n",
       "      <td>1.017856</td>\n",
       "      <td>-0.943721</td>\n",
       "      <td>0.371464</td>\n",
       "      <td>1.244985</td>\n",
       "      <td>-0.073163</td>\n",
       "      <td>0.281717</td>\n",
       "      <td>-1.651621</td>\n",
       "      <td>-1.782266</td>\n",
       "      <td>0.994982</td>\n",
       "      <td>-1.010111</td>\n",
       "    </tr>\n",
       "    <tr>\n",
       "      <th>1</th>\n",
       "      <td>-0.902603</td>\n",
       "      <td>1.009096</td>\n",
       "      <td>-1.251685</td>\n",
       "      <td>0.982052</td>\n",
       "      <td>-0.053652</td>\n",
       "      <td>0.959569</td>\n",
       "      <td>1.595210</td>\n",
       "      <td>1.033367</td>\n",
       "      <td>1.438116</td>\n",
       "      <td>0.207851</td>\n",
       "      <td>0.354957</td>\n",
       "      <td>0.230492</td>\n",
       "      <td>-0.913323</td>\n",
       "      <td>1.631547</td>\n",
       "      <td>-1.496797</td>\n",
       "      <td>-1.323677</td>\n",
       "      <td>-0.735539</td>\n",
       "      <td>0.561084</td>\n",
       "      <td>-1.005043</td>\n",
       "      <td>-1.010111</td>\n",
       "    </tr>\n",
       "    <tr>\n",
       "      <th>2</th>\n",
       "      <td>1.295908</td>\n",
       "      <td>1.009096</td>\n",
       "      <td>1.564853</td>\n",
       "      <td>-1.018276</td>\n",
       "      <td>-0.764723</td>\n",
       "      <td>-1.042134</td>\n",
       "      <td>-0.280796</td>\n",
       "      <td>1.380149</td>\n",
       "      <td>1.296682</td>\n",
       "      <td>-0.665739</td>\n",
       "      <td>-0.970839</td>\n",
       "      <td>1.413738</td>\n",
       "      <td>0.264977</td>\n",
       "      <td>0.248595</td>\n",
       "      <td>1.113199</td>\n",
       "      <td>0.969743</td>\n",
       "      <td>-0.185889</td>\n",
       "      <td>-1.782266</td>\n",
       "      <td>0.994982</td>\n",
       "      <td>0.989990</td>\n",
       "    </tr>\n",
       "    <tr>\n",
       "      <th>3</th>\n",
       "      <td>0.701901</td>\n",
       "      <td>-0.990986</td>\n",
       "      <td>-1.251685</td>\n",
       "      <td>0.982052</td>\n",
       "      <td>3.264678</td>\n",
       "      <td>0.959569</td>\n",
       "      <td>-0.391149</td>\n",
       "      <td>-0.006977</td>\n",
       "      <td>-1.249130</td>\n",
       "      <td>1.518236</td>\n",
       "      <td>1.680754</td>\n",
       "      <td>-0.787912</td>\n",
       "      <td>1.158541</td>\n",
       "      <td>1.629702</td>\n",
       "      <td>-0.547708</td>\n",
       "      <td>-1.323677</td>\n",
       "      <td>-0.735539</td>\n",
       "      <td>0.561084</td>\n",
       "      <td>0.994982</td>\n",
       "      <td>-1.010111</td>\n",
       "    </tr>\n",
       "    <tr>\n",
       "      <th>4</th>\n",
       "      <td>0.447001</td>\n",
       "      <td>-0.990986</td>\n",
       "      <td>-0.149562</td>\n",
       "      <td>-1.018276</td>\n",
       "      <td>1.605513</td>\n",
       "      <td>0.959569</td>\n",
       "      <td>0.933090</td>\n",
       "      <td>-0.006977</td>\n",
       "      <td>-0.909688</td>\n",
       "      <td>0.644646</td>\n",
       "      <td>1.349305</td>\n",
       "      <td>0.237267</td>\n",
       "      <td>-1.022125</td>\n",
       "      <td>-0.326174</td>\n",
       "      <td>0.638654</td>\n",
       "      <td>0.511059</td>\n",
       "      <td>-0.735539</td>\n",
       "      <td>0.561084</td>\n",
       "      <td>-1.005043</td>\n",
       "      <td>0.989990</td>\n",
       "    </tr>\n",
       "    <tr>\n",
       "      <th>...</th>\n",
       "      <td>...</td>\n",
       "      <td>...</td>\n",
       "      <td>...</td>\n",
       "      <td>...</td>\n",
       "      <td>...</td>\n",
       "      <td>...</td>\n",
       "      <td>...</td>\n",
       "      <td>...</td>\n",
       "      <td>...</td>\n",
       "      <td>...</td>\n",
       "      <td>...</td>\n",
       "      <td>...</td>\n",
       "      <td>...</td>\n",
       "      <td>...</td>\n",
       "      <td>...</td>\n",
       "      <td>...</td>\n",
       "      <td>...</td>\n",
       "      <td>...</td>\n",
       "      <td>...</td>\n",
       "      <td>...</td>\n",
       "    </tr>\n",
       "    <tr>\n",
       "      <th>995</th>\n",
       "      <td>1.052388</td>\n",
       "      <td>1.009096</td>\n",
       "      <td>0.462729</td>\n",
       "      <td>-1.018276</td>\n",
       "      <td>-1.001747</td>\n",
       "      <td>0.959569</td>\n",
       "      <td>1.208973</td>\n",
       "      <td>-0.006977</td>\n",
       "      <td>0.844093</td>\n",
       "      <td>1.081441</td>\n",
       "      <td>1.183580</td>\n",
       "      <td>0.000166</td>\n",
       "      <td>-0.783687</td>\n",
       "      <td>-0.005115</td>\n",
       "      <td>0.401382</td>\n",
       "      <td>0.511059</td>\n",
       "      <td>0.730193</td>\n",
       "      <td>0.561084</td>\n",
       "      <td>0.994982</td>\n",
       "      <td>-1.010111</td>\n",
       "    </tr>\n",
       "    <tr>\n",
       "      <th>996</th>\n",
       "      <td>-1.430610</td>\n",
       "      <td>-0.990986</td>\n",
       "      <td>0.340271</td>\n",
       "      <td>0.982052</td>\n",
       "      <td>-1.001747</td>\n",
       "      <td>-1.042134</td>\n",
       "      <td>-1.053269</td>\n",
       "      <td>1.380149</td>\n",
       "      <td>1.296682</td>\n",
       "      <td>-0.228944</td>\n",
       "      <td>-1.302288</td>\n",
       "      <td>1.147282</td>\n",
       "      <td>0.880749</td>\n",
       "      <td>-0.178561</td>\n",
       "      <td>-1.022252</td>\n",
       "      <td>-1.094335</td>\n",
       "      <td>1.463059</td>\n",
       "      <td>-1.782266</td>\n",
       "      <td>0.994982</td>\n",
       "      <td>0.989990</td>\n",
       "    </tr>\n",
       "    <tr>\n",
       "      <th>997</th>\n",
       "      <td>-0.119696</td>\n",
       "      <td>-0.990986</td>\n",
       "      <td>-0.149562</td>\n",
       "      <td>-1.018276</td>\n",
       "      <td>-0.764723</td>\n",
       "      <td>0.959569</td>\n",
       "      <td>-1.329152</td>\n",
       "      <td>-0.006977</td>\n",
       "      <td>-1.701718</td>\n",
       "      <td>-1.539329</td>\n",
       "      <td>0.354957</td>\n",
       "      <td>-0.376937</td>\n",
       "      <td>-0.987401</td>\n",
       "      <td>-0.833594</td>\n",
       "      <td>-1.734069</td>\n",
       "      <td>-1.323677</td>\n",
       "      <td>0.546977</td>\n",
       "      <td>0.561084</td>\n",
       "      <td>-1.005043</td>\n",
       "      <td>-1.010111</td>\n",
       "    </tr>\n",
       "    <tr>\n",
       "      <th>998</th>\n",
       "      <td>0.672314</td>\n",
       "      <td>1.009096</td>\n",
       "      <td>-1.251685</td>\n",
       "      <td>0.982052</td>\n",
       "      <td>-1.001747</td>\n",
       "      <td>-1.042134</td>\n",
       "      <td>0.988267</td>\n",
       "      <td>-0.353759</td>\n",
       "      <td>0.872380</td>\n",
       "      <td>-1.102534</td>\n",
       "      <td>0.354957</td>\n",
       "      <td>-1.368245</td>\n",
       "      <td>-0.971197</td>\n",
       "      <td>0.352847</td>\n",
       "      <td>0.638654</td>\n",
       "      <td>1.199084</td>\n",
       "      <td>-0.918755</td>\n",
       "      <td>-1.782266</td>\n",
       "      <td>0.994982</td>\n",
       "      <td>-1.010111</td>\n",
       "    </tr>\n",
       "    <tr>\n",
       "      <th>999</th>\n",
       "      <td>0.073755</td>\n",
       "      <td>1.009096</td>\n",
       "      <td>-1.251685</td>\n",
       "      <td>-1.018276</td>\n",
       "      <td>-0.053652</td>\n",
       "      <td>0.959569</td>\n",
       "      <td>0.160617</td>\n",
       "      <td>-1.394104</td>\n",
       "      <td>-0.004511</td>\n",
       "      <td>0.644646</td>\n",
       "      <td>1.515029</td>\n",
       "      <td>-0.422099</td>\n",
       "      <td>-1.489742</td>\n",
       "      <td>0.647151</td>\n",
       "      <td>-0.784980</td>\n",
       "      <td>-0.864993</td>\n",
       "      <td>-1.468405</td>\n",
       "      <td>0.561084</td>\n",
       "      <td>-1.005043</td>\n",
       "      <td>0.989990</td>\n",
       "    </tr>\n",
       "  </tbody>\n",
       "</table>\n",
       "<p>1000 rows × 20 columns</p>\n",
       "</div>"
      ],
      "text/plain": [
       "     battery_power      blue  clock_speed  dual_sim        fc    four_g  \\\n",
       "0        -0.442873  1.009096     0.340271  0.982052  2.316584 -1.042134   \n",
       "1        -0.902603  1.009096    -1.251685  0.982052 -0.053652  0.959569   \n",
       "2         1.295908  1.009096     1.564853 -1.018276 -0.764723 -1.042134   \n",
       "3         0.701901 -0.990986    -1.251685  0.982052  3.264678  0.959569   \n",
       "4         0.447001 -0.990986    -0.149562 -1.018276  1.605513  0.959569   \n",
       "..             ...       ...          ...       ...       ...       ...   \n",
       "995       1.052388  1.009096     0.462729 -1.018276 -1.001747  0.959569   \n",
       "996      -1.430610 -0.990986     0.340271  0.982052 -1.001747 -1.042134   \n",
       "997      -0.119696 -0.990986    -0.149562 -1.018276 -0.764723  0.959569   \n",
       "998       0.672314  1.009096    -1.251685  0.982052 -1.001747 -1.042134   \n",
       "999       0.073755  1.009096    -1.251685 -1.018276 -0.053652  0.959569   \n",
       "\n",
       "     int_memory     m_dep  mobile_wt   n_cores        pc  px_height  px_width  \\\n",
       "0     -1.494682 -1.394104   1.494690 -0.665739  1.017856  -0.943721  0.371464   \n",
       "1      1.595210  1.033367   1.438116  0.207851  0.354957   0.230492 -0.913323   \n",
       "2     -0.280796  1.380149   1.296682 -0.665739 -0.970839   1.413738  0.264977   \n",
       "3     -0.391149 -0.006977  -1.249130  1.518236  1.680754  -0.787912  1.158541   \n",
       "4      0.933090 -0.006977  -0.909688  0.644646  1.349305   0.237267 -1.022125   \n",
       "..          ...       ...        ...       ...       ...        ...       ...   \n",
       "995    1.208973 -0.006977   0.844093  1.081441  1.183580   0.000166 -0.783687   \n",
       "996   -1.053269  1.380149   1.296682 -0.228944 -1.302288   1.147282  0.880749   \n",
       "997   -1.329152 -0.006977  -1.701718 -1.539329  0.354957  -0.376937 -0.987401   \n",
       "998    0.988267 -0.353759   0.872380 -1.102534  0.354957  -1.368245 -0.971197   \n",
       "999    0.160617 -1.394104  -0.004511  0.644646  1.515029  -0.422099 -1.489742   \n",
       "\n",
       "          ram      sc_h      sc_w  talk_time   three_g  touch_screen      wifi  \n",
       "0    1.244985 -0.073163  0.281717  -1.651621 -1.782266      0.994982 -1.010111  \n",
       "1    1.631547 -1.496797 -1.323677  -0.735539  0.561084     -1.005043 -1.010111  \n",
       "2    0.248595  1.113199  0.969743  -0.185889 -1.782266      0.994982  0.989990  \n",
       "3    1.629702 -0.547708 -1.323677  -0.735539  0.561084      0.994982 -1.010111  \n",
       "4   -0.326174  0.638654  0.511059  -0.735539  0.561084     -1.005043  0.989990  \n",
       "..        ...       ...       ...        ...       ...           ...       ...  \n",
       "995 -0.005115  0.401382  0.511059   0.730193  0.561084      0.994982 -1.010111  \n",
       "996 -0.178561 -1.022252 -1.094335   1.463059 -1.782266      0.994982  0.989990  \n",
       "997 -0.833594 -1.734069 -1.323677   0.546977  0.561084     -1.005043 -1.010111  \n",
       "998  0.352847  0.638654  1.199084  -0.918755 -1.782266      0.994982 -1.010111  \n",
       "999  0.647151 -0.784980 -0.864993  -1.468405  0.561084     -1.005043  0.989990  \n",
       "\n",
       "[1000 rows x 20 columns]"
      ]
     },
     "execution_count": 25,
     "metadata": {},
     "output_type": "execute_result"
    }
   ],
   "source": [
    "scaler = joblib.load(\"files\\scaler.pkl\")\n",
    "\n",
    "# Transform test data using the loaded scaler\n",
    "x_test = scaler.transform(test_df)\n",
    "x_test = pd.DataFrame(x_test, columns=test_df.columns)\n",
    "x_test"
   ]
  },
  {
   "cell_type": "code",
   "execution_count": 26,
   "id": "a3e41b34-639b-45d1-bc4f-2cb3fafce34a",
   "metadata": {},
   "outputs": [],
   "source": [
    "from sklearn.model_selection import cross_val_score\n",
    "from sklearn.metrics import classification_report\n",
    "from sklearn.preprocessing import StandardScaler\n",
    "from sklearn.linear_model import LogisticRegression, SGDClassifier\n",
    "from sklearn.discriminant_analysis import LinearDiscriminantAnalysis\n",
    "from sklearn.neighbors import KNeighborsClassifier\n",
    "from sklearn.tree import DecisionTreeClassifier\n",
    "from sklearn.naive_bayes import GaussianNB\n",
    "from sklearn.svm import SVC\n",
    "from sklearn.ensemble import AdaBoostClassifier, GradientBoostingClassifier, RandomForestClassifier, ExtraTreesClassifier\n",
    "from sklearn.neural_network import MLPClassifier\n"
   ]
  },
  {
   "cell_type": "code",
   "execution_count": null,
   "id": "34803d84-6a9c-4342-8ab7-5778c06c9f4a",
   "metadata": {},
   "outputs": [],
   "source": []
  },
  {
   "cell_type": "markdown",
   "id": "989e9712-372d-491a-9602-6c51d4aacefb",
   "metadata": {},
   "source": [
    "### Define baseline models"
   ]
  },
  {
   "cell_type": "code",
   "execution_count": null,
   "id": "d25beace-30ad-413e-998f-f8fee14b5b34",
   "metadata": {},
   "outputs": [],
   "source": []
  },
  {
   "cell_type": "code",
   "execution_count": 27,
   "id": "4234c765-dfdc-4cb8-9497-f83bc0f8f464",
   "metadata": {},
   "outputs": [],
   "source": [
    "def get_based_models():\n",
    "    based_models = []\n",
    "    \n",
    "    based_models.append(('LR_L2', LogisticRegression(penalty='l2')))\n",
    "    \n",
    "    based_models.append(('LDA', LinearDiscriminantAnalysis()))\n",
    "    \n",
    "    based_models.append(('KNN_5', KNeighborsClassifier(n_neighbors=5)))\n",
    "    based_models.append(('KNN_7', KNeighborsClassifier(n_neighbors=7)))\n",
    "    based_models.append(('KNN_9', KNeighborsClassifier(n_neighbors=9)))\n",
    "    based_models.append(('KNN_11', KNeighborsClassifier(n_neighbors=11)))\n",
    "    \n",
    "    based_models.append(('CART', DecisionTreeClassifier()))\n",
    "    \n",
    "    based_models.append(('NB', GaussianNB()))\n",
    "    \n",
    "    based_models.append(('SVM_Linear', SVC(kernel='linear', gamma='auto', probability=True)))\n",
    "    based_models.append(('SVM_RBF', SVC(kernel='rbf', gamma='auto', probability=True)))\n",
    "    based_models.append(('SVM_Sigmoid', SVC(kernel='sigmoid', gamma='auto', probability=True)))\n",
    "    based_models.append(('SVM_Poly', SVC(kernel='poly', gamma='auto', probability=True)))\n",
    "    \n",
    "    based_models.append(('AdaBoost', AdaBoostClassifier()))\n",
    "    \n",
    "    based_models.append(('GradientBoosting', GradientBoostingClassifier(n_estimators=100, max_features='sqrt')))\n",
    "    \n",
    "    based_models.append(('RF_Entropy_100', RandomForestClassifier(criterion='entropy', n_estimators=100)))\n",
    "    based_models.append(('RF_Entropy_500', RandomForestClassifier(criterion='entropy', n_estimators=500)))\n",
    "\n",
    "    based_models.append(('RF_Gini_100', RandomForestClassifier(criterion='gini', n_estimators=100)))\n",
    "    based_models.append(('RF_Gini_500', RandomForestClassifier(criterion='gini', n_estimators=500)))\n",
    "\n",
    "    based_models.append(('ExtraTrees_100', ExtraTreesClassifier(n_estimators=100)))\n",
    "    based_models.append(('ExtraTrees_500', ExtraTreesClassifier(n_estimators=500)))\n",
    "    based_models.append(('ExtraTrees_1000', ExtraTreesClassifier(n_estimators=1000)))\n",
    "\n",
    "    based_models.append(('MLP', MLPClassifier()))\n",
    "    \n",
    "    based_models.append(('SGD', SGDClassifier(max_iter=1000, tol=1e-4)))\n",
    "\n",
    "    \n",
    "    return based_models"
   ]
  },
  {
   "cell_type": "markdown",
   "id": "e84c780e-5dc9-4a62-b680-6159a619801f",
   "metadata": {},
   "source": [
    "### 10-Fold Cross Validation"
   ]
  },
  {
   "cell_type": "code",
   "execution_count": 28,
   "id": "aba0b901-bfbb-4168-a24d-06f642dfaaa0",
   "metadata": {},
   "outputs": [
    {
     "name": "stdout",
     "output_type": "stream",
     "text": [
      "LR_L2: Mean Accuracy: 0.9628 (Std Dev: 0.0096)\n",
      "LDA: Mean Accuracy: 0.9442 (Std Dev: 0.0099)\n",
      "KNN_5: Mean Accuracy: 0.5050 (Std Dev: 0.0280)\n",
      "KNN_7: Mean Accuracy: 0.5181 (Std Dev: 0.0377)\n",
      "KNN_9: Mean Accuracy: 0.5382 (Std Dev: 0.0340)\n",
      "KNN_11: Mean Accuracy: 0.5523 (Std Dev: 0.0316)\n",
      "CART: Mean Accuracy: 0.8310 (Std Dev: 0.0236)\n",
      "NB: Mean Accuracy: 0.8063 (Std Dev: 0.0180)\n",
      "SVM_Linear: Mean Accuracy: 0.9588 (Std Dev: 0.0121)\n",
      "SVM_RBF: Mean Accuracy: 0.8767 (Std Dev: 0.0181)\n",
      "SVM_Sigmoid: Mean Accuracy: 0.9266 (Std Dev: 0.0141)\n",
      "SVM_Poly: Mean Accuracy: 0.7862 (Std Dev: 0.0232)\n",
      "AdaBoost: Mean Accuracy: 0.6851 (Std Dev: 0.0621)\n",
      "GradientBoosting: Mean Accuracy: 0.8677 (Std Dev: 0.0118)\n",
      "RF_Entropy_100: Mean Accuracy: 0.8793 (Std Dev: 0.0191)\n",
      "RF_Entropy_500: Mean Accuracy: 0.8903 (Std Dev: 0.0133)\n",
      "RF_Gini_100: Mean Accuracy: 0.8808 (Std Dev: 0.0134)\n",
      "RF_Gini_500: Mean Accuracy: 0.8863 (Std Dev: 0.0138)\n",
      "ExtraTrees_100: Mean Accuracy: 0.8672 (Std Dev: 0.0225)\n",
      "ExtraTrees_500: Mean Accuracy: 0.8863 (Std Dev: 0.0154)\n",
      "ExtraTrees_1000: Mean Accuracy: 0.8803 (Std Dev: 0.0120)\n",
      "MLP: Mean Accuracy: 0.9170 (Std Dev: 0.0115)\n",
      "SGD: Mean Accuracy: 0.7701 (Std Dev: 0.0251)\n"
     ]
    }
   ],
   "source": [
    "# Define the models\n",
    "models = get_based_models()\n",
    "\n",
    "# Evaluate each model using cross-validation\n",
    "results = []\n",
    "names = []\n",
    "\n",
    "for name, model in models:\n",
    "    kfold = KFold(n_splits=10, random_state=42, shuffle=True)\n",
    "    cv_results = cross_val_score(model, x_train, y_train, cv=kfold, scoring='accuracy')\n",
    "    results.append(cv_results)\n",
    "    names.append(name)\n",
    "    print(f'{name}: Mean Accuracy: {np.mean(cv_results):.4f} (Std Dev: {np.std(cv_results):.4f})')\n"
   ]
  },
  {
   "cell_type": "markdown",
   "id": "c5d09e8b-fe6d-4fb5-80d9-4ceea2821a0b",
   "metadata": {},
   "source": [
    "### High performance models\n",
    "> - LR_L2: Mean Accuracy: 0.9628 (Std Dev: 0.0096)\n",
    "> - \n",
    "LDA: Mean Accuracy: 0.9442 (Std Dev: 0.0099\n",
    "> - SVM_Linear: Mean Accuracy: 0.9588 (Std Dev: 0.0121)\n",
    "> - \n",
    "SVM_RBF: Mean Accuracy: 0.8767 (Std Dev: 0.0181\n",
    "> - \r\n",
    "SVM_Sigmoid: Mean Accuracy: 0.9266 (Std Dev: 0.014\n",
    "> - RF_Entropy_100: Mean Accuracy: 0.8848 (Std Dev: 0.0120)\n",
    "> - MLP: Mean Accuracy: 0.9230 (Std Dev: 0.0168)1))"
   ]
  },
  {
   "cell_type": "code",
   "execution_count": null,
   "id": "647f8c3c-caf6-4ca9-9f60-21c3c3aee931",
   "metadata": {},
   "outputs": [],
   "source": []
  },
  {
   "cell_type": "markdown",
   "id": "9def0a58-f864-4149-b007-5de3e8773a14",
   "metadata": {},
   "source": [
    "#### \"define cross validation strategy\""
   ]
  },
  {
   "cell_type": "code",
   "execution_count": 29,
   "id": "9c80deab-0521-4f37-b619-8a51c61c79f4",
   "metadata": {},
   "outputs": [],
   "source": [
    "kfold = KFold(n_splits=8, random_state=42, shuffle=True)"
   ]
  },
  {
   "cell_type": "markdown",
   "id": "989e7ec4-87c0-4a98-86f8-7d5923631cf1",
   "metadata": {},
   "source": [
    "### 1. Logistic Regression"
   ]
  },
  {
   "cell_type": "code",
   "execution_count": 30,
   "id": "30a5631d-f943-4491-8220-38f95d750b09",
   "metadata": {},
   "outputs": [
    {
     "name": "stdout",
     "output_type": "stream",
     "text": [
      "Logistic Regression => Mean Accuracy: 0.9628, Mean Std Deviation: 0.0154\n",
      "Cross-Validation Performance:\n",
      "Accuracy: 0.96\n",
      "Recall: 0.96\n",
      "Precision: 0.96\n",
      "F1-score: 0.96\n",
      "Training Set Performance:\n",
      "Accuracy: 0.98%\n",
      "Recall: 0.98%\n",
      "Precision: 0.98%\n",
      "F1-score: 0.98%\n"
     ]
    }
   ],
   "source": [
    "cl1 = LogisticRegression()\n",
    "\n",
    "# evaluate the model using cross validation\n",
    "crossvalid_results = cross_val_score(cl1, x_train, y_train, cv=kfold, scoring='accuracy')\n",
    "# output the mean accuracy and std deviation\n",
    "print(f\"Logistic Regression => Mean Accuracy: {np.mean(crossvalid_results):.4f}, Mean Std Deviation: {np.std(crossvalid_results):.4f}\")\n",
    "\n",
    "\n",
    "# Perform cross-validation and get cross-validation predictions\n",
    "crossval_preds = cross_val_predict(cl1, x_train, y_train, cv=kfold)\n",
    "\n",
    "# Calculate cross-validation metrics\n",
    "crossval_accuracy = accuracy_score(y_train, crossval_preds)\n",
    "crossval_recall = recall_score(y_train, crossval_preds, average='macro')\n",
    "crossval_precision = precision_score(y_train, crossval_preds, average='macro')\n",
    "crossval_f1 = f1_score(y_train, crossval_preds, average='macro')\n",
    "\n",
    "print(\"Cross-Validation Performance:\")\n",
    "print(f\"Accuracy: {crossval_accuracy:.2f}\")\n",
    "print(f\"Recall: {crossval_recall:.2f}\")\n",
    "print(f\"Precision: {crossval_precision:.2f}\")\n",
    "print(f\"F1-score: {crossval_f1:.2f}\")\n",
    "\n",
    "\n",
    "cl1.fit(x_train, y_train)\n",
    "y_train_pred = cl1.predict(x_train)\n",
    "y_test_pred = cl1.predict(x_test)\n",
    "\n",
    "print(\"Training Set Performance:\")\n",
    "print(f\"Accuracy: {accuracy_score(y_train, y_train_pred):.2f}%\")\n",
    "print(f\"Recall: {recall_score(y_train, y_train_pred, average='macro'):.2f}%\")\n",
    "print(f\"Precision: {precision_score(y_train, y_train_pred, average='macro'):.2f}%\")\n",
    "print(f\"F1-score: {f1_score(y_train, y_train_pred, average='macro'):.2f}%\")"
   ]
  },
  {
   "cell_type": "code",
   "execution_count": null,
   "id": "29738247-afb6-40a7-a0a2-fdb452c5979c",
   "metadata": {},
   "outputs": [],
   "source": []
  },
  {
   "cell_type": "markdown",
   "id": "fbffe636-2ad8-4d49-91b5-f005a6873e66",
   "metadata": {},
   "source": [
    "### 2. Linear Discriminant Analysis"
   ]
  },
  {
   "cell_type": "code",
   "execution_count": 31,
   "id": "3fa2fed0-625d-483e-8464-32b5c657828e",
   "metadata": {},
   "outputs": [
    {
     "name": "stdout",
     "output_type": "stream",
     "text": [
      "Linear Discriminant Analysis => Mean Accuracy: 0.9452, Std Dev: 0.0085\n",
      "Cross-Validation Performance:\n",
      "Accuracy: 0.95\n",
      "Recall: 0.95\n",
      "Precision: 0.95\n",
      "F1-score: 0.95\n",
      "Training Set Performance:\n",
      "Accuracy: 0.95%\n",
      "Recall: 0.95%\n",
      "Precision: 0.95%\n",
      "F1-score: 0.95%\n"
     ]
    }
   ],
   "source": [
    "cl2 = LinearDiscriminantAnalysis()\n",
    "\n",
    "# evaluate the model using cross validation\n",
    "cv_results = cross_val_score(cl2, x_train, y_train, cv=kfold, scoring='accuracy')\n",
    "# Output the mean accuracy and standard deviation\n",
    "print(f\"Linear Discriminant Analysis => Mean Accuracy: {np.mean(cv_results):.4f}, Std Dev: {np.std(cv_results):.4f}\")\n",
    "\n",
    "# Perform cross-validation and get cross-validation predictions\n",
    "crossval_preds = cross_val_predict(cl2, x_train, y_train, cv=kfold)\n",
    "\n",
    "# Calculate cross-validation metrics\n",
    "crossval_accuracy = accuracy_score(y_train, crossval_preds)\n",
    "crossval_recall = recall_score(y_train, crossval_preds, average='macro')\n",
    "crossval_precision = precision_score(y_train, crossval_preds, average='macro')\n",
    "crossval_f1 = f1_score(y_train, crossval_preds, average='macro')\n",
    "\n",
    "print(\"Cross-Validation Performance:\")\n",
    "print(f\"Accuracy: {crossval_accuracy:.2f}\")\n",
    "print(f\"Recall: {crossval_recall:.2f}\")\n",
    "print(f\"Precision: {crossval_precision:.2f}\")\n",
    "print(f\"F1-score: {crossval_f1:.2f}\")\n",
    "\n",
    "# fit the model\n",
    "cl2.fit(x_train, y_train)\n",
    "y_train_pred = cl2.predict(x_train)\n",
    "#2.predict(x_test)\n",
    "\n",
    "print(\"Training Set Performance:\")\n",
    "print(f\"Accuracy: {accuracy_score(y_train, y_train_pred):.2f}%\")\n",
    "print(f\"Recall: {recall_score(y_train, y_train_pred, average='macro'):.2f}%\")\n",
    "print(f\"Precision: {precision_score(y_train, y_train_pred, average='macro'):.2f}%\")\n",
    "print(f\"F1-score: {f1_score(y_train, y_train_pred, average='macro'):.2f}%\")y_test_pred = cl"
   ]
  },
  {
   "cell_type": "code",
   "execution_count": null,
   "id": "6b514596-8660-4e8d-8bbc-278c1b864b66",
   "metadata": {},
   "outputs": [],
   "source": []
  },
  {
   "cell_type": "markdown",
   "id": "bbe5c9b9-07cb-47e4-87aa-ddd8bfaeac4e",
   "metadata": {},
   "source": [
    "### 3. Support Vector Classifier (Linear)"
   ]
  },
  {
   "cell_type": "code",
   "execution_count": 32,
   "id": "1f821b1f-3dd7-46ac-bbbf-27ecdbdcf46b",
   "metadata": {},
   "outputs": [
    {
     "name": "stdout",
     "output_type": "stream",
     "text": [
      "SVC (linear) => Mean Accuracy: 0.8753, Std Dev: 0.0227\n",
      "Cross-Validation Performance:\n",
      "Accuracy: 0.88\n",
      "Recall: 0.88\n",
      "Precision: 0.88\n",
      "F1-score: 0.88\n",
      "Training Set Performance:\n",
      "Accuracy: 0.98%\n",
      "Recall: 0.98%\n",
      "Precision: 0.98%\n",
      "F1-score: 0.98%\n"
     ]
    }
   ],
   "source": [
    "cl3 = SVC()\n",
    "c_valid_results = cross_val_score(cl3, x_train, y_train, cv=kfold, scoring='accuracy')\n",
    "\n",
    "# Output the mean accuracy and standard deviation\n",
    "print(f\"SVC (linear) => Mean Accuracy: {np.mean(c_valid_results):.4f}, Std Dev: {np.std(c_valid_results):.4f}\")\n",
    "\n",
    "# Perform cross-validation and get cross-validation predictions\n",
    "crossval_preds = cross_val_predict(cl3, x_train, y_train, cv=kfold)\n",
    "\n",
    "# Calculate cross-validation metrics\n",
    "crossval_accuracy = accuracy_score(y_train, crossval_preds)\n",
    "crossval_recall = recall_score(y_train, crossval_preds, average='macro')\n",
    "crossval_precision = precision_score(y_train, crossval_preds, average='macro')\n",
    "crossval_f1 = f1_score(y_train, crossval_preds, average='macro')\n",
    "\n",
    "print(\"Cross-Validation Performance:\")\n",
    "print(f\"Accuracy: {crossval_accuracy:.2f}\")\n",
    "print(f\"Recall: {crossval_recall:.2f}\")\n",
    "print(f\"Precision: {crossval_precision:.2f}\")\n",
    "print(f\"F1-score: {crossval_f1:.2f}\")\n",
    "\n",
    "\n",
    "cl3.fit(x_train, y_train)\n",
    "y_train_pred = cl3.predict(x_train)\n",
    "y_test_pred = cl3.predict(x_test)\n",
    "\n",
    "print(\"Training Set Performance:\")\n",
    "print(f\"Accuracy: {accuracy_score(y_train, y_train_pred):.2f}%\")\n",
    "print(f\"Recall: {recall_score(y_train, y_train_pred, average='macro'):.2f}%\")\n",
    "print(f\"Precision: {precision_score(y_train, y_train_pred, average='macro'):.2f}%\")\n",
    "print(f\"F1-score: {f1_score(y_train, y_train_pred, average='macro'):.2f}%\")"
   ]
  },
  {
   "cell_type": "code",
   "execution_count": null,
   "id": "17620fa8-598e-4e85-815c-2e843dfa8f02",
   "metadata": {},
   "outputs": [],
   "source": []
  },
  {
   "cell_type": "markdown",
   "id": "46363c26-9462-4635-9cd0-354c76cc19d4",
   "metadata": {},
   "source": [
    "### 4. Multi-Layer Perceptron"
   ]
  },
  {
   "cell_type": "code",
   "execution_count": 33,
   "id": "f0d01e36-2e94-436d-9df3-e41b2a6d4d75",
   "metadata": {},
   "outputs": [
    {
     "name": "stdout",
     "output_type": "stream",
     "text": [
      "MLP classifier => Mean Accuracy: 0.9200, Std Dev: 0.0142\n",
      "Cross-Validation Performance:\n",
      "Accuracy: 0.92\n",
      "Recall: 0.92\n",
      "Precision: 0.92\n",
      "F1-score: 0.92\n",
      "Training Set Performance:\n",
      "Accuracy: 1.00%\n",
      "Recall: 1.00%\n",
      "Precision: 1.00%\n",
      "F1-score: 1.00%\n"
     ]
    }
   ],
   "source": [
    "cl4 = MLPClassifier()\n",
    "# cross validations\n",
    "c_valid_results = cross_val_score(cl4, x_train, y_train, cv=kfold, scoring='accuracy')\n",
    "\n",
    "# Output the mean accuracy and standard deviation\n",
    "print(f\"MLP classifier => Mean Accuracy: {np.mean(c_valid_results):.4f}, Std Dev: {np.std(c_valid_results):.4f}\")\n",
    "\n",
    "# Perform cross-validation and get cross-validation predictions\n",
    "crossval_preds = cross_val_predict(cl4, x_train, y_train, cv=kfold)\n",
    "\n",
    "# Calculate cross-validation metrics\n",
    "crossval_accuracy = accuracy_score(y_train, crossval_preds)\n",
    "crossval_recall = recall_score(y_train, crossval_preds, average='macro')\n",
    "crossval_precision = precision_score(y_train, crossval_preds, average='macro')\n",
    "crossval_f1 = f1_score(y_train, crossval_preds, average='macro')\n",
    "\n",
    "print(\"Cross-Validation Performance:\")\n",
    "print(f\"Accuracy: {crossval_accuracy:.2f}\")\n",
    "print(f\"Recall: {crossval_recall:.2f}\")\n",
    "print(f\"Precision: {crossval_precision:.2f}\")\n",
    "print(f\"F1-score: {crossval_f1:.2f}\")\n",
    "\n",
    "\n",
    "cl4.fit(x_train, y_train)\n",
    "y_train_pred = cl4.predict(x_train)\n",
    "y_test_pred = cl4.predict(x_test)\n",
    "\n",
    "print(\"Training Set Performance:\")\n",
    "print(f\"Accuracy: {accuracy_score(y_train, y_train_pred):.2f}%\")\n",
    "print(f\"Recall: {recall_score(y_train, y_train_pred, average='macro'):.2f}%\")\n",
    "print(f\"Precision: {precision_score(y_train, y_train_pred, average='macro'):.2f}%\")\n",
    "print(f\"F1-score: {f1_score(y_train, y_train_pred, average='macro'):.2f}%\")"
   ]
  },
  {
   "cell_type": "markdown",
   "id": "5046e260-179e-475f-a752-647300cac02d",
   "metadata": {},
   "source": [
    "***"
   ]
  },
  {
   "cell_type": "markdown",
   "id": "2aaa5bb5-9f21-44ef-8c19-2784aeae9357",
   "metadata": {},
   "source": [
    "### Saving the best performing model (LDA)"
   ]
  },
  {
   "cell_type": "code",
   "execution_count": 34,
   "id": "77bd8b09-d943-4079-b6fb-fcccd9801856",
   "metadata": {},
   "outputs": [
    {
     "data": {
      "text/plain": [
       "['files\\\\mobile-price-classifier_LDA_model.pkl']"
      ]
     },
     "execution_count": 34,
     "metadata": {},
     "output_type": "execute_result"
    }
   ],
   "source": [
    "#joblib.dump(cl2, \"files\\mobile-price-classifier_LDA_model.pkl\")"
   ]
  },
  {
   "cell_type": "markdown",
   "id": "b4f53a8a-2122-4b07-b3d7-fb281c34dbe6",
   "metadata": {},
   "source": [
    "***"
   ]
  },
  {
   "cell_type": "markdown",
   "id": "14369325-3c1f-4304-a7c4-ccf911ab7f97",
   "metadata": {},
   "source": [
    "### Best model with tuned parameters"
   ]
  },
  {
   "cell_type": "raw",
   "id": "dd489df2-f642-4c58-a9d1-860360ba436d",
   "metadata": {},
   "source": [
    "sgd_model = SGDClassifier(alpha= 0.001, loss= 'hinge', max_iter= 2000, tol= 0.0001)\n",
    "sgd_model.fit(x_scaled, y)\n",
    "test_pred = sgd_model.predict(x_test_scaled)\n",
    "\n",
    "# Ensure y_true and test_pred have consistent lengths\n",
    "print(f\"Length of y_true (train data): {len(y)}\")\n",
    "print(f\"Length of test_pred (test data): {len(test_pred)}\")\n"
   ]
  },
  {
   "cell_type": "raw",
   "id": "78310205-b8aa-4feb-9b15-cbbc0b89be94",
   "metadata": {},
   "source": [
    "# Example of validating a sample of predictions\n",
    "for i in range(10):\n",
    "    print(f\"Actual Price Range: {y[i]}, Predicted Price Range: {test_pred[i]}\")\n"
   ]
  },
  {
   "cell_type": "markdown",
   "id": "b93565a9-b877-4d0c-a5f1-d243fd5744ad",
   "metadata": {},
   "source": [
    "\"ــــ\" **model evaluation** \"ــــ\""
   ]
  },
  {
   "cell_type": "raw",
   "id": "dba27976-fb89-4e79-924b-ffcd13723ab1",
   "metadata": {},
   "source": [
    "accuracy = accuracy_score(y_train, y_test_pred)\n",
    "print(f\"Accuracy: {accuracy:.4f}\")\n",
    "\n",
    "precision = precision_score(y_train, y_test_pred, average='weighted')\n",
    "print(f\"Precision: {precision:.4f}\")\n",
    "\n",
    "recall = recall_score(y_train, y_test_pred, average='weighted')\n",
    "print(f\"Recall: {recall:.4f}\")\n",
    "\n",
    "f1 = f1_score(y_train, y_test_pred, average='weighted')\n",
    "print(f\"F1 Score: {f1:.4f}\")\n",
    "\n",
    "report = classification_report(y, test_pred)\n",
    "print(\"\\nClassification Report:\\n\", report)\n",
    "\n",
    "conf_matrix = confusion_matrix(y, test_pred)\n",
    "print(\"\\nConfusion Matrix:\\n\", conf_matrix)"
   ]
  },
  {
   "cell_type": "code",
   "execution_count": null,
   "id": "8a209c0f-0d28-472c-ab25-224ec76ba029",
   "metadata": {},
   "outputs": [],
   "source": []
  },
  {
   "cell_type": "markdown",
   "id": "1d2978ae-9098-4886-aabc-86b4d8b3b6f9",
   "metadata": {},
   "source": [
    "***"
   ]
  },
  {
   "cell_type": "markdown",
   "id": "e6b09760-068d-4447-a232-72284b976bba",
   "metadata": {},
   "source": [
    "### Feature selection"
   ]
  },
  {
   "cell_type": "markdown",
   "id": "1c2c259f-9809-492c-a720-6c83322d44e8",
   "metadata": {},
   "source": [
    "**_Retrieve Coefficients_**: These coefficients represent the importance of each feature in making predictions."
   ]
  },
  {
   "cell_type": "raw",
   "id": "46503c69-97f6-4da7-8ddb-3fa293c09cbd",
   "metadata": {},
   "source": [
    "# Retrieve the coefficients (weights)\n",
    "coefficients = sgd_model.coef_\n",
    "intercept = sgd_model.intercept_\n",
    "\n",
    "# Assuming sgd_model.coef_ is a numpy array\n",
    "coefficients = coefficients.ravel()"
   ]
  },
  {
   "cell_type": "raw",
   "id": "bc68c5bb-c3a2-4810-b837-f5704a73d6e2",
   "metadata": {},
   "source": [
    "# Get the absolute values of coefficients\n",
    "absolute_coefficients = np.abs(coefficients)\n",
    "\n",
    "# Sort indices of coefficients in descending order of importance\n",
    "feature_indices = np.argsort(absolute_coefficients)[::-1]\n",
    "\n",
    "# Select top k features (e.g., top 10 features)\n",
    "k = 10\n",
    "selected_features = x_scaled.columns[feature_indices[:k]]\n",
    "\n",
    "print(\"Selected Features:\")\n",
    "print(selected_features)"
   ]
  },
  {
   "cell_type": "markdown",
   "id": "2399b732-519d-41f4-a639-22e47808b6f6",
   "metadata": {},
   "source": [
    "### - Univariate feature selection"
   ]
  },
  {
   "cell_type": "code",
   "execution_count": 46,
   "id": "68f4b1d9-c91c-499a-8e3e-89ce5b4aded1",
   "metadata": {},
   "outputs": [],
   "source": [
    "from sklearn.feature_selection import chi2, SelectKBest"
   ]
  },
  {
   "cell_type": "code",
   "execution_count": 47,
   "id": "9d1e34a8-d2e6-4d2a-89ba-220dd974064e",
   "metadata": {},
   "outputs": [],
   "source": [
    "# Chi square has a restrict that all features must: \"not contain any negative values\"\n",
    "from sklearn.preprocessing import MinMaxScaler\n",
    "minmax_scaler = MinMaxScaler()\n",
    "x_train_scaled = minmax_scaler.fit_transform(x_train)"
   ]
  },
  {
   "cell_type": "code",
   "execution_count": 48,
   "id": "80df5569-022b-4483-a7b8-107a5da625cd",
   "metadata": {},
   "outputs": [
    {
     "name": "stdout",
     "output_type": "stream",
     "text": [
      "Scores of all features:\n",
      " [ 15.87834017   0.57743783   0.41771431   0.65237237   0.71970309\n",
      "   1.7164213    1.43512954   0.98704611   1.78468479   1.5940223\n",
      "   0.52946738   8.94545083  11.05344098 280.45321724   1.19938754\n",
      "   0.92183969   0.78601541   0.33323259   1.87196096   0.42739113]\n",
      "********************************************************************************\n",
      "best selected feature: Index(['battery_power', 'four_g', 'mobile_wt', 'n_cores', 'px_height',\n",
      "       'px_width', 'ram', 'touch_screen'],\n",
      "      dtype='object')\n"
     ]
    }
   ],
   "source": [
    "feature_select = SelectKBest(chi2, k=8)\n",
    "feature_select.fit(x_train_scaled, y_train)\n",
    "\n",
    "# Get the scores and feature names\n",
    "scores = feature_select.scores_\n",
    "features = x_train.columns  # Assuming x_train is a DataFrame\n",
    "\n",
    "# Get the indices of the selected features\n",
    "selected_feature_indices = feature_select.get_support(indices=True)\n",
    "\n",
    "# Select feature names using the indices\n",
    "selected_feature_names = features[selected_feature_indices]\n",
    "\n",
    "print(\"Scores of all features:\\n\", scores)\n",
    "print(\"*\"*80)\n",
    "print(\"best selected feature:\", selected_feature_names)"
   ]
  },
  {
   "cell_type": "code",
   "execution_count": null,
   "id": "1b3522a2-9ad7-42db-b284-1055951ae88b",
   "metadata": {},
   "outputs": [],
   "source": []
  },
  {
   "cell_type": "markdown",
   "id": "6563bbcf-de9c-40a5-b982-a474dcbc4fb3",
   "metadata": {},
   "source": [
    "## Selected features and new training"
   ]
  },
  {
   "cell_type": "code",
   "execution_count": 49,
   "id": "c709033e-e620-4b47-a4c7-0eb50fe12a1c",
   "metadata": {},
   "outputs": [],
   "source": [
    "y_train = train_df.price_range\n",
    "x_train = train_df[['battery_power', 'four_g', 'mobile_wt', 'n_cores', 'px_height','px_width', 'ram', 'touch_screen']]\n",
    "\n",
    "x_test = test_df[['battery_power', 'four_g', 'mobile_wt', 'n_cores', 'px_height','px_width', 'ram', 'touch_screen']]"
   ]
  },
  {
   "cell_type": "markdown",
   "id": "95290c05-476f-48be-814b-e9f35c25fc47",
   "metadata": {},
   "source": [
    "### Scaling the new selected features"
   ]
  },
  {
   "cell_type": "code",
   "execution_count": null,
   "id": "59729d5f-02a3-42af-826a-02f12bf65635",
   "metadata": {},
   "outputs": [],
   "source": [
    "scaler = MinMaxScaler()\n",
    "x_train_scaled = scaler.fit_transform(x_train)\n",
    "x_train_df = pd.DataFrame(x_train_scaled, columns=x_train.columns)\n",
    "# saving the scaler\n",
    "joblib.dump(scaler, \"files\\\\new_scaler.pkl\")\n",
    "x_train_df.head()"
   ]
  },
  {
   "cell_type": "code",
   "execution_count": 53,
   "id": "c72f5034-eca2-4f03-b982-848b95794aae",
   "metadata": {},
   "outputs": [
    {
     "data": {
      "text/html": [
       "<div>\n",
       "<style scoped>\n",
       "    .dataframe tbody tr th:only-of-type {\n",
       "        vertical-align: middle;\n",
       "    }\n",
       "\n",
       "    .dataframe tbody tr th {\n",
       "        vertical-align: top;\n",
       "    }\n",
       "\n",
       "    .dataframe thead th {\n",
       "        text-align: right;\n",
       "    }\n",
       "</style>\n",
       "<table border=\"1\" class=\"dataframe\">\n",
       "  <thead>\n",
       "    <tr style=\"text-align: right;\">\n",
       "      <th></th>\n",
       "      <th>battery_power</th>\n",
       "      <th>four_g</th>\n",
       "      <th>mobile_wt</th>\n",
       "      <th>n_cores</th>\n",
       "      <th>px_height</th>\n",
       "      <th>px_width</th>\n",
       "      <th>ram</th>\n",
       "      <th>touch_screen</th>\n",
       "    </tr>\n",
       "  </thead>\n",
       "  <tbody>\n",
       "    <tr>\n",
       "      <th>0</th>\n",
       "      <td>0.362057</td>\n",
       "      <td>0.0</td>\n",
       "      <td>0.941667</td>\n",
       "      <td>0.285714</td>\n",
       "      <td>0.115306</td>\n",
       "      <td>0.608812</td>\n",
       "      <td>0.860502</td>\n",
       "      <td>1.0</td>\n",
       "    </tr>\n",
       "    <tr>\n",
       "      <th>1</th>\n",
       "      <td>0.227121</td>\n",
       "      <td>1.0</td>\n",
       "      <td>0.925000</td>\n",
       "      <td>0.571429</td>\n",
       "      <td>0.380612</td>\n",
       "      <td>0.238318</td>\n",
       "      <td>0.972475</td>\n",
       "      <td>0.0</td>\n",
       "    </tr>\n",
       "    <tr>\n",
       "      <th>2</th>\n",
       "      <td>0.872411</td>\n",
       "      <td>0.0</td>\n",
       "      <td>0.883333</td>\n",
       "      <td>0.285714</td>\n",
       "      <td>0.647959</td>\n",
       "      <td>0.578104</td>\n",
       "      <td>0.571887</td>\n",
       "      <td>1.0</td>\n",
       "    </tr>\n",
       "    <tr>\n",
       "      <th>3</th>\n",
       "      <td>0.698063</td>\n",
       "      <td>1.0</td>\n",
       "      <td>0.133333</td>\n",
       "      <td>1.000000</td>\n",
       "      <td>0.150510</td>\n",
       "      <td>0.835781</td>\n",
       "      <td>0.971940</td>\n",
       "      <td>1.0</td>\n",
       "    </tr>\n",
       "    <tr>\n",
       "      <th>4</th>\n",
       "      <td>0.623246</td>\n",
       "      <td>1.0</td>\n",
       "      <td>0.233333</td>\n",
       "      <td>0.714286</td>\n",
       "      <td>0.382143</td>\n",
       "      <td>0.206943</td>\n",
       "      <td>0.405398</td>\n",
       "      <td>0.0</td>\n",
       "    </tr>\n",
       "    <tr>\n",
       "      <th>...</th>\n",
       "      <td>...</td>\n",
       "      <td>...</td>\n",
       "      <td>...</td>\n",
       "      <td>...</td>\n",
       "      <td>...</td>\n",
       "      <td>...</td>\n",
       "      <td>...</td>\n",
       "      <td>...</td>\n",
       "    </tr>\n",
       "    <tr>\n",
       "      <th>995</th>\n",
       "      <td>0.800935</td>\n",
       "      <td>1.0</td>\n",
       "      <td>0.750000</td>\n",
       "      <td>0.857143</td>\n",
       "      <td>0.328571</td>\n",
       "      <td>0.275701</td>\n",
       "      <td>0.498397</td>\n",
       "      <td>1.0</td>\n",
       "    </tr>\n",
       "    <tr>\n",
       "      <th>996</th>\n",
       "      <td>0.072144</td>\n",
       "      <td>0.0</td>\n",
       "      <td>0.883333</td>\n",
       "      <td>0.428571</td>\n",
       "      <td>0.587755</td>\n",
       "      <td>0.755674</td>\n",
       "      <td>0.448156</td>\n",
       "      <td>1.0</td>\n",
       "    </tr>\n",
       "    <tr>\n",
       "      <th>997</th>\n",
       "      <td>0.456914</td>\n",
       "      <td>1.0</td>\n",
       "      <td>0.000000</td>\n",
       "      <td>0.000000</td>\n",
       "      <td>0.243367</td>\n",
       "      <td>0.216956</td>\n",
       "      <td>0.258418</td>\n",
       "      <td>0.0</td>\n",
       "    </tr>\n",
       "    <tr>\n",
       "      <th>998</th>\n",
       "      <td>0.689379</td>\n",
       "      <td>0.0</td>\n",
       "      <td>0.758333</td>\n",
       "      <td>0.142857</td>\n",
       "      <td>0.019388</td>\n",
       "      <td>0.221629</td>\n",
       "      <td>0.602084</td>\n",
       "      <td>1.0</td>\n",
       "    </tr>\n",
       "    <tr>\n",
       "      <th>999</th>\n",
       "      <td>0.513694</td>\n",
       "      <td>1.0</td>\n",
       "      <td>0.500000</td>\n",
       "      <td>0.714286</td>\n",
       "      <td>0.233163</td>\n",
       "      <td>0.072096</td>\n",
       "      <td>0.687333</td>\n",
       "      <td>0.0</td>\n",
       "    </tr>\n",
       "  </tbody>\n",
       "</table>\n",
       "<p>1000 rows × 8 columns</p>\n",
       "</div>"
      ],
      "text/plain": [
       "     battery_power  four_g  mobile_wt   n_cores  px_height  px_width  \\\n",
       "0         0.362057     0.0   0.941667  0.285714   0.115306  0.608812   \n",
       "1         0.227121     1.0   0.925000  0.571429   0.380612  0.238318   \n",
       "2         0.872411     0.0   0.883333  0.285714   0.647959  0.578104   \n",
       "3         0.698063     1.0   0.133333  1.000000   0.150510  0.835781   \n",
       "4         0.623246     1.0   0.233333  0.714286   0.382143  0.206943   \n",
       "..             ...     ...        ...       ...        ...       ...   \n",
       "995       0.800935     1.0   0.750000  0.857143   0.328571  0.275701   \n",
       "996       0.072144     0.0   0.883333  0.428571   0.587755  0.755674   \n",
       "997       0.456914     1.0   0.000000  0.000000   0.243367  0.216956   \n",
       "998       0.689379     0.0   0.758333  0.142857   0.019388  0.221629   \n",
       "999       0.513694     1.0   0.500000  0.714286   0.233163  0.072096   \n",
       "\n",
       "          ram  touch_screen  \n",
       "0    0.860502           1.0  \n",
       "1    0.972475           0.0  \n",
       "2    0.571887           1.0  \n",
       "3    0.971940           1.0  \n",
       "4    0.405398           0.0  \n",
       "..        ...           ...  \n",
       "995  0.498397           1.0  \n",
       "996  0.448156           1.0  \n",
       "997  0.258418           0.0  \n",
       "998  0.602084           1.0  \n",
       "999  0.687333           0.0  \n",
       "\n",
       "[1000 rows x 8 columns]"
      ]
     },
     "execution_count": 53,
     "metadata": {},
     "output_type": "execute_result"
    }
   ],
   "source": [
    "saved_scaler = joblib.load(\"files\\\\new_scaler.pkl\")\n",
    "x_test_scaled = saved_scaler.transform(x_test)\n",
    "x_test_df = pd.DataFrame(x_test_scaled, columns=x_test.columns)\n",
    "x_test_df.head()"
   ]
  },
  {
   "cell_type": "markdown",
   "id": "05c61f63-43cf-4666-81ab-19cdc2589c20",
   "metadata": {},
   "source": [
    "## \"*Train the saved model with only best features selected (LDA):*\""
   ]
  },
  {
   "cell_type": "code",
   "execution_count": 56,
   "id": "de0ee233-57aa-473c-87b2-f5c049d48e48",
   "metadata": {},
   "outputs": [
    {
     "name": "stdout",
     "output_type": "stream",
     "text": [
      "Linear Discriminant Analysis => Mean Accuracy: 0.9487, Std Dev: 0.0118\n",
      "Cross-Validation Performance:\n",
      "Accuracy: 0.95\n",
      "Recall: 0.95\n",
      "Precision: 0.95\n",
      "F1-score: 0.95\n",
      "Training Set Performance:\n",
      "Accuracy: 0.95%\n",
      "Recall: 0.95%\n",
      "Precision: 0.95%\n",
      "F1-score: 0.95%\n"
     ]
    }
   ],
   "source": [
    "cl2 = LinearDiscriminantAnalysis()\n",
    "\n",
    "# evaluate the model using cross validation\n",
    "cv_results = cross_val_score(cl2, x_train_df, y_train, cv=kfold, scoring='accuracy')\n",
    "# Output the mean accuracy and standard deviation\n",
    "print(f\"Linear Discriminant Analysis => Mean Accuracy: {np.mean(cv_results):.4f}, Std Dev: {np.std(cv_results):.4f}\")\n",
    "\n",
    "# Perform cross-validation and get cross-validation predictions\n",
    "crossval_preds = cross_val_predict(cl2, x_train_df, y_train, cv=kfold)\n",
    "\n",
    "# Calculate cross-validation metrics\n",
    "crossval_accuracy = accuracy_score(y_train, crossval_preds)\n",
    "crossval_recall = recall_score(y_train, crossval_preds, average='macro')\n",
    "crossval_precision = precision_score(y_train, crossval_preds, average='macro')\n",
    "crossval_f1 = f1_score(y_train, crossval_preds, average='macro')\n",
    "\n",
    "print(\"Cross-Validation Performance:\")\n",
    "print(f\"Accuracy: {crossval_accuracy:.2f}\")\n",
    "print(f\"Recall: {crossval_recall:.2f}\")\n",
    "print(f\"Precision: {crossval_precision:.2f}\")\n",
    "print(f\"F1-score: {crossval_f1:.2f}\")\n",
    "\n",
    "# fit the model\n",
    "cl2.fit(x_train_df, y_train)\n",
    "y_train_pred = cl2.predict(x_train_df)\n",
    "#y_test_pred = cl2.predict(x_test)\n",
    "\n",
    "print(\"Training Set Performance:\")\n",
    "print(f\"Accuracy: {accuracy_score(y_train, y_train_pred):.2f}%\")\n",
    "print(f\"Recall: {recall_score(y_train, y_train_pred, average='macro'):.2f}%\")\n",
    "print(f\"Precision: {precision_score(y_train, y_train_pred, average='macro'):.2f}%\")\n",
    "print(f\"F1-score: {f1_score(y_train, y_train_pred, average='macro'):.2f}%\")"
   ]
  },
  {
   "cell_type": "markdown",
   "id": "d678efcb-4e6e-427b-8cd3-8e970edaf589",
   "metadata": {},
   "source": [
    "***"
   ]
  },
  {
   "cell_type": "markdown",
   "id": "eec672b4-2e3b-40a6-8837-4d838172c737",
   "metadata": {},
   "source": [
    "_**hyperparameter tuning**_"
   ]
  },
  {
   "cell_type": "code",
   "execution_count": 57,
   "id": "42000845-1325-4ee4-9899-7783e00f7318",
   "metadata": {},
   "outputs": [
    {
     "name": "stdout",
     "output_type": "stream",
     "text": [
      "Best parameters for LDA: {'shrinkage': None, 'solver': 'svd'}\n",
      "Best cross-validation accuracy score: 0.9481969039150412\n"
     ]
    }
   ],
   "source": [
    "# Define the parameter grid for LDA\n",
    "param_grid_lda = {\n",
    "    'solver': ['svd', 'lsqr', 'eigen'],  # Solver options\n",
    "    'shrinkage': [None, 'auto']  # Shrinkage options\n",
    "}\n",
    "\n",
    "# Create a GridSearchCV object\n",
    "grid_search_lda = GridSearchCV(cl2, param_grid_lda, cv=5, scoring='accuracy')\n",
    "\n",
    "# Fit the grid search to your data\n",
    "grid_search_lda.fit(x_train_df, y_train)\n",
    "\n",
    "# Get the best parameters and the best score\n",
    "best_params_lda = grid_search_lda.best_params_\n",
    "best_score_lda = grid_search_lda.best_score_\n",
    "\n",
    "print(\"Best parameters for LDA:\", best_params_lda)\n",
    "print(\"Best cross-validation accuracy score:\", best_score_lda)"
   ]
  },
  {
   "cell_type": "code",
   "execution_count": 58,
   "id": "f178df83-96c1-422e-800f-4a076bd3eb10",
   "metadata": {},
   "outputs": [
    {
     "name": "stdout",
     "output_type": "stream",
     "text": [
      "Linear Discriminant Analysis => Mean Accuracy: 0.9487, Std Dev: 0.0118\n",
      "Cross-Validation Performance:\n",
      "Accuracy: 0.95\n",
      "Recall: 0.95\n",
      "Precision: 0.95\n",
      "F1-score: 0.95\n",
      "Training Set Performance:\n",
      "Accuracy: 0.95%\n",
      "Recall: 0.95%\n",
      "Precision: 0.95%\n",
      "F1-score: 0.95%\n"
     ]
    }
   ],
   "source": [
    "cl2 = LinearDiscriminantAnalysis()\n",
    "\n",
    "# evaluate the model using cross validation\n",
    "cv_results = cross_val_score(cl2, x_train_df, y_train, cv=kfold, scoring='accuracy')\n",
    "# Output the mean accuracy and standard deviation\n",
    "print(f\"Linear Discriminant Analysis => Mean Accuracy: {np.mean(cv_results):.4f}, Std Dev: {np.std(cv_results):.4f}\")\n",
    "\n",
    "# Perform cross-validation and get cross-validation predictions\n",
    "crossval_preds = cross_val_predict(cl2, x_train_df, y_train, cv=kfold)\n",
    "\n",
    "# Calculate cross-validation metrics\n",
    "crossval_accuracy = accuracy_score(y_train, crossval_preds)\n",
    "crossval_recall = recall_score(y_train, crossval_preds, average='macro')\n",
    "crossval_precision = precision_score(y_train, crossval_preds, average='macro')\n",
    "crossval_f1 = f1_score(y_train, crossval_preds, average='macro')\n",
    "\n",
    "print(\"Cross-Validation Performance:\")\n",
    "print(f\"Accuracy: {crossval_accuracy:.2f}\")\n",
    "print(f\"Recall: {crossval_recall:.2f}\")\n",
    "print(f\"Precision: {crossval_precision:.2f}\")\n",
    "print(f\"F1-score: {crossval_f1:.2f}\")\n",
    "\n",
    "# fit the model\n",
    "cl2.fit(x_train_df, y_train)\n",
    "y_train_pred = cl2.predict(x_train_df)\n",
    "#y_test_pred = cl2.predict(x_test)\n",
    "\n",
    "print(\"Training Set Performance:\")\n",
    "print(f\"Accuracy: {accuracy_score(y_train, y_train_pred):.2f}%\")\n",
    "print(f\"Recall: {recall_score(y_train, y_train_pred, average='macro'):.2f}%\")\n",
    "print(f\"Precision: {precision_score(y_train, y_train_pred, average='macro'):.2f}%\")\n",
    "print(f\"F1-score: {f1_score(y_train, y_train_pred, average='macro'):.2f}%\")"
   ]
  },
  {
   "cell_type": "markdown",
   "id": "46c8cdf6-f0be-4ab3-88d2-b55e74d3fe12",
   "metadata": {},
   "source": [
    "***"
   ]
  },
  {
   "cell_type": "markdown",
   "id": "70218bcf-9e8c-49b6-9ad2-3689259069a7",
   "metadata": {},
   "source": [
    "## \"*Logistic Regression with best selected features*\""
   ]
  },
  {
   "cell_type": "code",
   "execution_count": 59,
   "id": "ec6aa0bd-1a6b-4039-9876-486d7415f3d1",
   "metadata": {},
   "outputs": [
    {
     "name": "stdout",
     "output_type": "stream",
     "text": [
      "Logistic Regression => Mean Accuracy: 0.9396, Mean Std Deviation: 0.0107\n",
      "Cross-Validation Performance:\n",
      "Accuracy: 0.94\n",
      "Recall: 0.94\n",
      "Precision: 0.94\n",
      "F1-score: 0.94\n",
      "Training Set Performance:\n",
      "Accuracy: 0.95%\n",
      "Recall: 0.95%\n",
      "Precision: 0.95%\n",
      "F1-score: 0.95%\n"
     ]
    }
   ],
   "source": [
    "cl1 = LogisticRegression()\n",
    "\n",
    "# evaluate the model using cross validation\n",
    "crossvalid_results = cross_val_score(cl1, x_train_df, y_train, cv=kfold, scoring='accuracy')\n",
    "# output the mean accuracy and std deviation\n",
    "print(f\"Logistic Regression => Mean Accuracy: {np.mean(crossvalid_results):.4f}, Mean Std Deviation: {np.std(crossvalid_results):.4f}\")\n",
    "\n",
    "\n",
    "# Perform cross-validation and get cross-validation predictions\n",
    "crossval_preds = cross_val_predict(cl1, x_train_df, y_train, cv=kfold)\n",
    "\n",
    "# Calculate cross-validation metrics\n",
    "crossval_accuracy = accuracy_score(y_train, crossval_preds)\n",
    "crossval_recall = recall_score(y_train, crossval_preds, average='macro')\n",
    "crossval_precision = precision_score(y_train, crossval_preds, average='macro')\n",
    "crossval_f1 = f1_score(y_train, crossval_preds, average='macro')\n",
    "\n",
    "print(\"Cross-Validation Performance:\")\n",
    "print(f\"Accuracy: {crossval_accuracy:.2f}\")\n",
    "print(f\"Recall: {crossval_recall:.2f}\")\n",
    "print(f\"Precision: {crossval_precision:.2f}\")\n",
    "print(f\"F1-score: {crossval_f1:.2f}\")\n",
    "\n",
    "\n",
    "cl1.fit(x_train_df, y_train)\n",
    "y_train_pred = cl1.predict(x_train_df)\n",
    "#y_test_pred = cl1.predict(x_test_2)\n",
    "\n",
    "print(\"Training Set Performance:\")\n",
    "print(f\"Accuracy: {accuracy_score(y_train, y_train_pred):.2f}%\")\n",
    "print(f\"Recall: {recall_score(y_train, y_train_pred, average='macro'):.2f}%\")\n",
    "print(f\"Precision: {precision_score(y_train, y_train_pred, average='macro'):.2f}%\")\n",
    "print(f\"F1-score: {f1_score(y_train, y_train_pred, average='macro'):.2f}%\")"
   ]
  },
  {
   "cell_type": "markdown",
   "id": "b31be8e4-82f5-4f34-b044-22e6583615b3",
   "metadata": {},
   "source": [
    "***"
   ]
  },
  {
   "cell_type": "markdown",
   "id": "24443119-ce54-4d69-afde-69b89390d838",
   "metadata": {},
   "source": [
    "_**hyperparameter tuning**_"
   ]
  },
  {
   "cell_type": "code",
   "execution_count": 41,
   "id": "ea66cb44-9d0f-4947-881c-43368d767e0f",
   "metadata": {},
   "outputs": [
    {
     "name": "stdout",
     "output_type": "stream",
     "text": [
      "Best parameters for Logistic Regression: {'C': 10, 'penalty': 'l2'}\n",
      "Best cross-validation accuracy score: 0.9743516069010039\n"
     ]
    }
   ],
   "source": [
    "# Define the parameter grid for Logistic Regression\n",
    "param_grid_lr = {\n",
    "    'C': [0.001, 0.01, 0.1, 1, 10, 100],  # Regularization parameter\n",
    "    'penalty': ['l1', 'l2']  # Regularization norm\n",
    "}\n",
    "\n",
    "# Create a GridSearchCV object\n",
    "grid_search_lr = GridSearchCV(cl1, param_grid_lr, cv=5, scoring='accuracy')\n",
    "\n",
    "# Fit the grid search to your data\n",
    "grid_search_lr.fit(x_train_df, y_train)\n",
    "\n",
    "# Get the best parameters and the best score\n",
    "best_params_lr = grid_search_lr.best_params_\n",
    "best_score_lr = grid_search_lr.best_score_\n",
    "\n",
    "print(\"Best parameters for Logistic Regression:\", best_params_lr)\n",
    "print(\"Best cross-validation accuracy score:\", best_score_lr)"
   ]
  },
  {
   "cell_type": "code",
   "execution_count": 60,
   "id": "4f688b50-1296-4ab8-a2b2-ed34082c0bb7",
   "metadata": {},
   "outputs": [
    {
     "name": "stdout",
     "output_type": "stream",
     "text": [
      "Logistic Regression => Mean Accuracy: 0.9663, Mean Std Deviation: 0.0078\n",
      "Cross-Validation Performance:\n",
      "Accuracy: 0.97\n",
      "Recall: 0.97\n",
      "Precision: 0.97\n",
      "F1-score: 0.97\n",
      "Training Set Performance:\n",
      "Accuracy: 0.97%\n",
      "Recall: 0.97%\n",
      "Precision: 0.97%\n",
      "F1-score: 0.97%\n"
     ]
    }
   ],
   "source": [
    "cl1 = LogisticRegression(C=10)\n",
    "\n",
    "# evaluate the model using cross validation\n",
    "crossvalid_results = cross_val_score(cl1, x_train_df, y_train, cv=kfold, scoring='accuracy')\n",
    "# output the mean accuracy and std deviation\n",
    "print(f\"Logistic Regression => Mean Accuracy: {np.mean(crossvalid_results):.4f}, Mean Std Deviation: {np.std(crossvalid_results):.4f}\")\n",
    "\n",
    "\n",
    "# Perform cross-validation and get cross-validation predictions\n",
    "crossval_preds = cross_val_predict(cl1, x_train_df, y_train, cv=kfold)\n",
    "\n",
    "# Calculate cross-validation metrics\n",
    "crossval_accuracy = accuracy_score(y_train, crossval_preds)\n",
    "crossval_recall = recall_score(y_train, crossval_preds, average='macro')\n",
    "crossval_precision = precision_score(y_train, crossval_preds, average='macro')\n",
    "crossval_f1 = f1_score(y_train, crossval_preds, average='macro')\n",
    "\n",
    "print(\"Cross-Validation Performance:\")\n",
    "print(f\"Accuracy: {crossval_accuracy:.2f}\")\n",
    "print(f\"Recall: {crossval_recall:.2f}\")\n",
    "print(f\"Precision: {crossval_precision:.2f}\")\n",
    "print(f\"F1-score: {crossval_f1:.2f}\")\n",
    "\n",
    "\n",
    "cl1.fit(x_train_df, y_train)\n",
    "y_train_pred = cl1.predict(x_train_df)\n",
    "#y_test_pred = cl1.predict(x_test_2)\n",
    "\n",
    "print(\"Training Set Performance:\")\n",
    "print(f\"Accuracy: {accuracy_score(y_train, y_train_pred):.2f}%\")\n",
    "print(f\"Recall: {recall_score(y_train, y_train_pred, average='macro'):.2f}%\")\n",
    "print(f\"Precision: {precision_score(y_train, y_train_pred, average='macro'):.2f}%\")\n",
    "print(f\"F1-score: {f1_score(y_train, y_train_pred, average='macro'):.2f}%\")"
   ]
  },
  {
   "cell_type": "markdown",
   "id": "0525b20b-2521-4f9c-845d-16a65e7dbe38",
   "metadata": {},
   "source": [
    "***"
   ]
  },
  {
   "cell_type": "markdown",
   "id": "8cc149f5-d6a7-4290-bb61-b3441cfa1031",
   "metadata": {},
   "source": [
    "## *Saving the best model whose trained with the best selected features and best paramters! :)*"
   ]
  },
  {
   "cell_type": "code",
   "execution_count": 44,
   "id": "cf486c39-1253-4d98-a7ca-7598616b9db7",
   "metadata": {},
   "outputs": [
    {
     "data": {
      "text/plain": [
       "['files\\\\best_logreg_mob_price_classifier.pkl']"
      ]
     },
     "execution_count": 44,
     "metadata": {},
     "output_type": "execute_result"
    }
   ],
   "source": [
    "#joblib.dump(cl1, \"files\\\\best_logreg_mob_price_classifier.pkl\")"
   ]
  },
  {
   "cell_type": "code",
   "execution_count": null,
   "id": "76f67acc-5717-4960-b9ac-917bac842995",
   "metadata": {},
   "outputs": [],
   "source": []
  }
 ],
 "metadata": {
  "kernelspec": {
   "display_name": "Python 3 (ipykernel)",
   "language": "python",
   "name": "python3"
  },
  "language_info": {
   "codemirror_mode": {
    "name": "ipython",
    "version": 3
   },
   "file_extension": ".py",
   "mimetype": "text/x-python",
   "name": "python",
   "nbconvert_exporter": "python",
   "pygments_lexer": "ipython3",
   "version": "3.11.7"
  }
 },
 "nbformat": 4,
 "nbformat_minor": 5
}
