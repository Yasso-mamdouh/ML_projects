{
 "cells": [
  {
   "cell_type": "markdown",
   "id": "08971f91-6f15-40f9-ba43-bafc53a8bf0f",
   "metadata": {},
   "source": [
    "<h1 align=center style=\"color:#4f0cee; font-family:Script MT;font-weight:bold;\">Model deployment program</h1>"
   ]
  },
  {
   "cell_type": "markdown",
   "id": "730dc68b-6fd6-4c32-a9e1-6e453c18c5ef",
   "metadata": {},
   "source": [
    "- ### *Function to get the mobile specifics:*"
   ]
  },
  {
   "cell_type": "raw",
   "id": "55443a32-bf42-4c25-946c-7a4ded10f685",
   "metadata": {},
   "source": [
    "# fitted data\n",
    "x_train[['battery_power': [501, 1998], 'four_g': [1:yes, 0:no], 'mobile_wt':[80:200], 'n_cores':[1:8], 'px_height':[0: 1960],'px_width':[500:1998], 'ram':[256:3998], 'touch_screen':[1:yes, 0:no]]]\n"
   ]
  },
  {
   "cell_type": "code",
   "execution_count": 1,
   "id": "6963163a-f8bb-4d81-9f7b-a28add6198db",
   "metadata": {},
   "outputs": [],
   "source": [
    "import pandas as pd, joblib as jb"
   ]
  },
  {
   "cell_type": "code",
   "execution_count": 2,
   "id": "5f5c2162-a42f-420b-bb86-66d4c78a9f8c",
   "metadata": {},
   "outputs": [],
   "source": [
    "def mobile_spesifics():\n",
    "    print(\"Welcome to \\\"MobilyShop\\\"\\nwe are here to help you got the best Mobile price (●'◡'●)\")\n",
    "    mob_spec = {\n",
    "        'battery_power': None,\n",
    "        'four_g': None,\n",
    "        'mobile_wt': None,\n",
    "        'n_cores': None,\n",
    "        'px_height': None,\n",
    "        'px_width': None,\n",
    "        'ram': None,\n",
    "        'touch_screen': None      \n",
    "    }\n",
    "    try:\n",
    "        battery_pow = int(input(\"Enter the battery power: \"))\n",
    "        while battery_pow < 501 or battery_pow > 1998:\n",
    "            battery_pow = int(input(\"please enter a valid integer between 501 and 1998: \"))\n",
    "        mob_spec['battery_power'] = battery_pow\n",
    "#_________________________________________________________________________________________________________________\n",
    "        _4g = input(\"Does it support 4G connection: \").lower()\n",
    "        while _4g not in ('yes', 'no'):\n",
    "            _4d = input(\"Plz enter a valid choice\\n: \\\"yes\\\" for support and \\\"no\\\" if it doesn't support:\").lower()\n",
    "        mob_spec['four_g'] = 1 if _4g == 'yes' else 0\n",
    "#_________________________________________________________________________________________________________________\n",
    "        mob_watt = int(input(\"How many Watt is the mobile charge: \"))\n",
    "        while mob_watt < 80 or mob_watt > 200:\n",
    "            mob_watt = int(input(\"please enter a valid integer between 80 and 200: \"))\n",
    "        mob_spec['mobile_wt'] = mob_watt\n",
    "#_________________________________________________________________________________________________________________\n",
    "        core_num = int(input(\"How many Cores: \"))\n",
    "        while core_num < 1 or core_num > 8:\n",
    "            core_num = int(input(\"please enter a valid integer between 1 and 8: \"))\n",
    "        mob_spec['n_cores'] = core_num\n",
    "#_________________________________________________________________________________________________________________\n",
    "        height = int(input(\"How much is height in PX?: \"))\n",
    "        while height < 0 or height > 1960:\n",
    "            height = int(input(\"please enter a valid integer between 0 and 1960: \"))\n",
    "        mob_spec['px_height'] = height\n",
    "#_________________________________________________________________________________________________________________\n",
    "        width = int(input(\"How much is width in PX?: \"))\n",
    "        while width < 500 or width > 1998:\n",
    "            width = int(input(\"please enter a valid integer between 500 and 1998: \"))\n",
    "        mob_spec['px_width'] = width\n",
    "#_________________________________________________________________________________________________________________\n",
    "        ram_num = int(input(\"How many Rams it has?: \"))\n",
    "        while ram_num < 256 or ram_num > 3998:\n",
    "            ram_num = int(input(\"please enter a valid integer between 256 and 3998: \"))\n",
    "        mob_spec['ram'] = ram_num\n",
    "#_________________________________________________________________________________________________________________\n",
    "        touch_scr = input(\"Is it has a touch screen?: \").lower()\n",
    "        while touch_scr not in ('yes', 'no'):\n",
    "            touch_scr = input(\"Plz enter a valid choice\\n: \\\"yes\\\" for support and \\\"no\\\" if it doesn't support:\").lower()\n",
    "        mob_spec['touch_screen'] = 1 if touch_scr == 'yes' else 0\n",
    "        \n",
    "    except ValueError as e:\n",
    "        print(f\"Invalid input: {e}\")\n",
    "        return None\n",
    "\n",
    "    return pd.DataFrame([mob_spec])\n",
    "\n",
    "#mobile_spesifics()"
   ]
  },
  {
   "cell_type": "markdown",
   "id": "078b95b0-2749-43ed-9c77-1ec47e2eea29",
   "metadata": {},
   "source": [
    "- ### *Function to make prediction:*"
   ]
  },
  {
   "cell_type": "code",
   "execution_count": 6,
   "id": "2564ea46-03ca-45f1-b78e-547dc9e5123e",
   "metadata": {},
   "outputs": [],
   "source": [
    "def predict_mob_price(model_file, scaler_file):\n",
    "    # loading the files\n",
    "    scaler = scaler_file\n",
    "    model = model_file\n",
    "    # got the mobile specifics\n",
    "    mobile_spec = mobile_spesifics()\n",
    "    # scale the mobile data with the pre-saved scaler file \n",
    "    mobile_spec_scaled = scaler.transform(mobile_spec)\n",
    "    mobile_spec_df = pd.DataFrame(mobile_spec_scaled, columns=mobile_spec.columns)\n",
    "    \n",
    "    # make predictions using the pre-saved model\n",
    "    prediction = model.predict(mobile_spec_df)\n",
    "\n",
    "    # handle the prediction output with a user-friendly message\n",
    "    price_category = {0: \"low cost\", 1: \"medium cost\", 2: \"high cost\", 3: \"very high cost\"}\n",
    "    print(f\"This mobile is predicted to be in the {price_category[prediction[0]]} category :)\")\n"
   ]
  },
  {
   "cell_type": "code",
   "execution_count": 7,
   "id": "9b68607f-34c3-4f60-8720-64177bce4474",
   "metadata": {},
   "outputs": [],
   "source": [
    "try:\n",
    "    scaler_file = jb.load('files\\\\new_scaler.pkl')\n",
    "    model_file = jb.load('files\\\\best_logreg_mob_price_classifier.pkl')\n",
    "\n",
    "except:\n",
    "    raise FileNotFoundError"
   ]
  },
  {
   "cell_type": "code",
   "execution_count": 8,
   "id": "111b3a1a-6216-42af-b549-fc9d6e3d8c0f",
   "metadata": {},
   "outputs": [
    {
     "name": "stdout",
     "output_type": "stream",
     "text": [
      "Welcome to \"MobilyShop\"\n",
      "we are here to help you got the best Mobile price (●'◡'●)\n"
     ]
    },
    {
     "name": "stdin",
     "output_type": "stream",
     "text": [
      "Enter the battery power:  220\n",
      "please enter a valid integer between 501 and 1998:  510\n",
      "Does it support 4G connection:  yes\n",
      "How many Watt is the mobile charge:  120\n",
      "How many Cores:  3\n",
      "How much is height in PX?:  650\n",
      "How much is width in PX?:  720\n",
      "How many Rams it has?:  220\n",
      "please enter a valid integer between 256 and 3998:  275\n",
      "Is it has a touch screen?:  no\n"
     ]
    },
    {
     "name": "stdout",
     "output_type": "stream",
     "text": [
      "This mobile is predicted to be in the low cost category :)\n"
     ]
    }
   ],
   "source": [
    "predict_mob_price(model_file, scaler_file)"
   ]
  },
  {
   "cell_type": "code",
   "execution_count": 9,
   "id": "9f46ec9f-5693-472b-8dde-6f9e1878def1",
   "metadata": {},
   "outputs": [
    {
     "name": "stdout",
     "output_type": "stream",
     "text": [
      "Welcome to \"MobilyShop\"\n",
      "we are here to help you got the best Mobile price (●'◡'●)\n"
     ]
    },
    {
     "name": "stdin",
     "output_type": "stream",
     "text": [
      "Enter the battery power:  800\n",
      "Does it support 4G connection:  yes\n",
      "How many Watt is the mobile charge:  150\n",
      "How many Cores:  4\n",
      "How much is height in PX?:  1202\n",
      "How much is width in PX?:  985\n",
      "How many Rams it has?:  375\n",
      "Is it has a touch screen?:  no\n"
     ]
    },
    {
     "name": "stdout",
     "output_type": "stream",
     "text": [
      "This mobile is predicted to be in the low cost category :)\n"
     ]
    }
   ],
   "source": [
    "predict_mob_price(model_file, scaler_file)"
   ]
  },
  {
   "cell_type": "code",
   "execution_count": 10,
   "id": "0f1ec5f4-b4c0-4a3c-a121-8a8c7b15f4bf",
   "metadata": {},
   "outputs": [
    {
     "name": "stdout",
     "output_type": "stream",
     "text": [
      "Welcome to \"MobilyShop\"\n",
      "we are here to help you got the best Mobile price (●'◡'●)\n"
     ]
    },
    {
     "name": "stdin",
     "output_type": "stream",
     "text": [
      "Enter the battery power:  1500\n",
      "Does it support 4G connection:  yes\n",
      "How many Watt is the mobile charge:  190\n",
      "How many Cores:  8\n",
      "How much is height in PX?:  1959\n",
      "How much is width in PX?:  1990\n",
      "How many Rams it has?:  3000\n",
      "Is it has a touch screen?:  yes\n"
     ]
    },
    {
     "name": "stdout",
     "output_type": "stream",
     "text": [
      "This mobile is predicted to be in the very high cost category :)\n"
     ]
    }
   ],
   "source": [
    "predict_mob_price(model_file, scaler_file)"
   ]
  },
  {
   "cell_type": "code",
   "execution_count": 11,
   "id": "74b19f3a-7b23-43d6-9833-487f9ccd4268",
   "metadata": {},
   "outputs": [
    {
     "name": "stdout",
     "output_type": "stream",
     "text": [
      "Welcome to \"MobilyShop\"\n",
      "we are here to help you got the best Mobile price (●'◡'●)\n"
     ]
    },
    {
     "name": "stdin",
     "output_type": "stream",
     "text": [
      "Enter the battery power:  500\n",
      "please enter a valid integer between 501 and 1998:  1010\n",
      "Does it support 4G connection:  yes\n",
      "How many Watt is the mobile charge:  50\n",
      "please enter a valid integer between 80 and 200:  165\n",
      "How many Cores:  7\n",
      "How much is height in PX?:  50\n",
      "How much is width in PX?:  1500\n",
      "How many Rams it has?:  200\n",
      "please enter a valid integer between 256 and 3998:  2000\n",
      "Is it has a touch screen?:  no\n"
     ]
    },
    {
     "name": "stdout",
     "output_type": "stream",
     "text": [
      "This mobile is predicted to be in the medium cost category :)\n"
     ]
    }
   ],
   "source": [
    "predict_mob_price(model_file, scaler_file)"
   ]
  },
  {
   "cell_type": "code",
   "execution_count": null,
   "id": "f6187092-754e-4585-9e52-9cbcb36b9d6e",
   "metadata": {},
   "outputs": [],
   "source": []
  },
  {
   "cell_type": "markdown",
   "id": "db0d189f-bc0a-4441-8f67-937a4210bcd1",
   "metadata": {},
   "source": [
    "<h1 style=\"width:80%; height:55px; margin:auto; font-family:Segoe Script; font-weight:bold; font-size:40px; border:5px dotted orange; text-align:center; background-color:black; color:orange; letter-spacing:0.3em; padding:30px 0 10px 0\">Thanks</h1>"
   ]
  },
  {
   "cell_type": "code",
   "execution_count": null,
   "id": "ae294e88-7fe2-46c7-b0c9-ab8dcf9623c2",
   "metadata": {},
   "outputs": [],
   "source": []
  }
 ],
 "metadata": {
  "kernelspec": {
   "display_name": "Python 3 (ipykernel)",
   "language": "python",
   "name": "python3"
  },
  "language_info": {
   "codemirror_mode": {
    "name": "ipython",
    "version": 3
   },
   "file_extension": ".py",
   "mimetype": "text/x-python",
   "name": "python",
   "nbconvert_exporter": "python",
   "pygments_lexer": "ipython3",
   "version": "3.11.7"
  },
  "widgets": {
   "application/vnd.jupyter.widget-state+json": {
    "state": {},
    "version_major": 2,
    "version_minor": 0
   }
  }
 },
 "nbformat": 4,
 "nbformat_minor": 5
}
