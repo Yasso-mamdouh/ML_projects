{
 "cells": [
  {
   "cell_type": "code",
   "execution_count": 3,
   "id": "cee23a8a-b40e-482e-b225-bb3e0b7432f3",
   "metadata": {},
   "outputs": [
    {
     "name": "stdin",
     "output_type": "stream",
     "text": [
      "The Iris Sepal length:  4.9\n",
      "The Iris Sepal width:  3.1\n",
      "The Iris Petal length:  1.5\n",
      "The Iris Petal width:  0.1\n"
     ]
    },
    {
     "name": "stdout",
     "output_type": "stream",
     "text": [
      "It's Iris-setosa.\n"
     ]
    }
   ],
   "source": [
    "import pandas as pd, joblib\n",
    "\n",
    "\n",
    "def get_features():\n",
    "    try:\n",
    "        sepal_length = float(input(\"The Iris Sepal length: \"))\n",
    "        while sepal_length == \"\":\n",
    "            print(\"please enter a valid number (1.5, 3, 4.02, etc.):\")\n",
    "            sepal_length = float(input(\"The Iris Sepal length: \"))\n",
    "            \n",
    "        sepal_width = float(input(\"The Iris Sepal width: \"))\n",
    "        while sepal_width == \"\":\n",
    "            print(\"please enter a valid number (1.5, 3, 4.02, etc.):\")\n",
    "            sepal_width = float(input(\"The Iris Sepal width: \"))\n",
    "            \n",
    "        petal_length = float(input(\"The Iris Petal length: \"))\n",
    "        while petal_length == \"\":\n",
    "            print(\"please enter a valid number (1.5, 3, 4.02, etc.):\")\n",
    "            petal_length = float(input(\"The Iris Petal length: \"))\n",
    "        \n",
    "        petal_width = float(input(\"The Iris Petal width: \"))\n",
    "        while petal_width == \"\":\n",
    "            print(\"please enter a valid number (1.5, 3, 4.02, etc.):\")\n",
    "            petal_width = float(input(\"The Iris Petal width: \"))\n",
    "    except ValueError as ve:\n",
    "        print(\"invalid input:\", ve)\n",
    "    \n",
    "    iris_features = {\n",
    "        'sepal_length': sepal_length,\n",
    "        'sepal_width': sepal_width,\n",
    "        'petal_length': petal_length,\n",
    "        'petal_width': petal_width,\n",
    "    }\n",
    "    val_df = pd.DataFrame( [iris_features], columns=['sepal_length', 'sepal_width', 'petal_length', 'petal_width'])\n",
    "    return val_df\n",
    "\n",
    "iris_df = get_features()\n",
    "\n",
    "# Import saved model\n",
    "model = joblib.load(\"files\\iris_classifier_svc_poly.pkl\")\n",
    "\n",
    "# predict using the new features\n",
    "prediction = model.predict(iris_df)\n",
    "print(f\"It's {prediction[0]}.\")"
   ]
  },
  {
   "cell_type": "code",
   "execution_count": null,
   "id": "99d78f99-6bb3-4883-a352-740db48d719b",
   "metadata": {},
   "outputs": [],
   "source": []
  }
 ],
 "metadata": {
  "kernelspec": {
   "display_name": "Python 3 (ipykernel)",
   "language": "python",
   "name": "python3"
  },
  "language_info": {
   "codemirror_mode": {
    "name": "ipython",
    "version": 3
   },
   "file_extension": ".py",
   "mimetype": "text/x-python",
   "name": "python",
   "nbconvert_exporter": "python",
   "pygments_lexer": "ipython3",
   "version": "3.11.7"
  },
  "widgets": {
   "application/vnd.jupyter.widget-state+json": {
    "state": {},
    "version_major": 2,
    "version_minor": 0
   }
  }
 },
 "nbformat": 4,
 "nbformat_minor": 5
}
