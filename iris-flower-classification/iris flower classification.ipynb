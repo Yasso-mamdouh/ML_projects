{
 "cells": [
  {
   "cell_type": "markdown",
   "id": "76d15c0f-1c62-4b21-bd1d-60b7003a7056",
   "metadata": {},
   "source": [
    "<img src=\"iris flowers.jpg\" style=\"margin:auto; width:900px; height:420px\">"
   ]
  },
  {
   "cell_type": "markdown",
   "id": "0b4e75cc-283e-42c3-917a-b39292633751",
   "metadata": {},
   "source": [
    "<h1 style=\"color:#fa01ca; letter-spacing:0.15em; text-align:center\">Intern2Grow</h1> \n",
    "<h2 style=\"color:#fa01ca; letter-spacing:0.08em; text-align:center\">Iris Flower classification</h2>\n",
    "<h3 style=\"color:#fa01ca; letter-spacing:0.15em; text-align:center\">yaser Mamdouh</h3>"
   ]
  },
  {
   "cell_type": "markdown",
   "id": "e1b2f355-50ef-4a4c-afe6-ba37aaeaeeb5",
   "metadata": {},
   "source": [
    "***"
   ]
  },
  {
   "cell_type": "markdown",
   "id": "52c874d6-d56d-4485-a2c8-f3a60d5b09fc",
   "metadata": {},
   "source": [
    "## Import all required packages"
   ]
  },
  {
   "cell_type": "code",
   "execution_count": 1,
   "id": "dbde896f-5f2d-4ad0-a33c-52476e386d14",
   "metadata": {},
   "outputs": [],
   "source": [
    "import pandas as pd, numpy as np, seaborn as sns, matplotlib.pyplot as plt\n",
    "%matplotlib inline"
   ]
  },
  {
   "cell_type": "code",
   "execution_count": 2,
   "id": "5b92fc0c-a392-4ba9-8cf5-93fc24dfa15e",
   "metadata": {},
   "outputs": [],
   "source": [
    "from sklearn.preprocessing import StandardScaler\n",
    "from sklearn.model_selection import cross_val_score, train_test_split, GridSearchCV, KFold\n",
    "from sklearn.linear_model import LogisticRegression, SGDClassifier\n",
    "from sklearn.svm import SVC\n",
    "from sklearn.neighbors import KNeighborsClassifier\n",
    "from sklearn.discriminant_analysis import LinearDiscriminantAnalysis\n",
    "from sklearn.naive_bayes import GaussianNB\n",
    "from sklearn.ensemble import AdaBoostClassifier, GradientBoostingClassifier, RandomForestClassifier, ExtraTreesClassifier\n",
    "from sklearn.tree import DecisionTreeClassifier\n",
    "from sklearn.metrics import classification_report, accuracy_score, recall_score, precision_score, f1_score, confusion_matrix\n",
    "from sklearn.neural_network import MLPClassifier\n",
    "#from scipy.stats import zscore\n",
    "import joblib"
   ]
  },
  {
   "cell_type": "code",
   "execution_count": null,
   "id": "cbf72d0e-d699-4913-88e7-658297e5e1d5",
   "metadata": {},
   "outputs": [],
   "source": []
  },
  {
   "cell_type": "code",
   "execution_count": null,
   "id": "abdd30e4-0a7f-464a-9f72-eeb20b585ece",
   "metadata": {},
   "outputs": [],
   "source": []
  },
  {
   "cell_type": "markdown",
   "id": "15a2966f-3c6a-4589-b3a5-955cf082c1d9",
   "metadata": {},
   "source": [
    "## loading the dataset"
   ]
  },
  {
   "cell_type": "code",
   "execution_count": 3,
   "id": "4e59c4b4-c11c-4c54-a576-b7ffaccbd879",
   "metadata": {},
   "outputs": [],
   "source": [
    "data = pd.read_csv('dataset.csv')"
   ]
  },
  {
   "cell_type": "markdown",
   "id": "5b87faf3-54fe-46da-b22c-11538618a7cf",
   "metadata": {},
   "source": [
    "## Data overview"
   ]
  },
  {
   "cell_type": "code",
   "execution_count": 4,
   "id": "9e55a0d1-d60e-4ecf-8b7a-86295a036e8a",
   "metadata": {},
   "outputs": [
    {
     "data": {
      "text/html": [
       "<div>\n",
       "<style scoped>\n",
       "    .dataframe tbody tr th:only-of-type {\n",
       "        vertical-align: middle;\n",
       "    }\n",
       "\n",
       "    .dataframe tbody tr th {\n",
       "        vertical-align: top;\n",
       "    }\n",
       "\n",
       "    .dataframe thead th {\n",
       "        text-align: right;\n",
       "    }\n",
       "</style>\n",
       "<table border=\"1\" class=\"dataframe\">\n",
       "  <thead>\n",
       "    <tr style=\"text-align: right;\">\n",
       "      <th></th>\n",
       "      <th>Sepal_Length</th>\n",
       "      <th>Sepal_Width</th>\n",
       "      <th>Petal_Length</th>\n",
       "      <th>Petal_Width</th>\n",
       "      <th>Class</th>\n",
       "    </tr>\n",
       "  </thead>\n",
       "  <tbody>\n",
       "    <tr>\n",
       "      <th>0</th>\n",
       "      <td>5.1</td>\n",
       "      <td>3.5</td>\n",
       "      <td>1.4</td>\n",
       "      <td>0.2</td>\n",
       "      <td>Iris-setosa</td>\n",
       "    </tr>\n",
       "    <tr>\n",
       "      <th>1</th>\n",
       "      <td>4.9</td>\n",
       "      <td>3.0</td>\n",
       "      <td>1.4</td>\n",
       "      <td>0.2</td>\n",
       "      <td>Iris-setosa</td>\n",
       "    </tr>\n",
       "    <tr>\n",
       "      <th>2</th>\n",
       "      <td>4.7</td>\n",
       "      <td>3.2</td>\n",
       "      <td>1.3</td>\n",
       "      <td>0.2</td>\n",
       "      <td>Iris-setosa</td>\n",
       "    </tr>\n",
       "    <tr>\n",
       "      <th>3</th>\n",
       "      <td>4.6</td>\n",
       "      <td>3.1</td>\n",
       "      <td>1.5</td>\n",
       "      <td>0.2</td>\n",
       "      <td>Iris-setosa</td>\n",
       "    </tr>\n",
       "    <tr>\n",
       "      <th>4</th>\n",
       "      <td>5.0</td>\n",
       "      <td>3.6</td>\n",
       "      <td>1.4</td>\n",
       "      <td>0.2</td>\n",
       "      <td>Iris-setosa</td>\n",
       "    </tr>\n",
       "  </tbody>\n",
       "</table>\n",
       "</div>"
      ],
      "text/plain": [
       "   Sepal_Length  Sepal_Width  Petal_Length  Petal_Width        Class\n",
       "0           5.1          3.5           1.4          0.2  Iris-setosa\n",
       "1           4.9          3.0           1.4          0.2  Iris-setosa\n",
       "2           4.7          3.2           1.3          0.2  Iris-setosa\n",
       "3           4.6          3.1           1.5          0.2  Iris-setosa\n",
       "4           5.0          3.6           1.4          0.2  Iris-setosa"
      ]
     },
     "execution_count": 4,
     "metadata": {},
     "output_type": "execute_result"
    }
   ],
   "source": [
    "data.head()"
   ]
  },
  {
   "cell_type": "markdown",
   "id": "99b45261-3ea6-4acc-955d-f679031d7c8b",
   "metadata": {},
   "source": [
    "- ##### Columns datatype"
   ]
  },
  {
   "cell_type": "code",
   "execution_count": 5,
   "id": "934f60d3-d296-47d2-8539-7aad2aad96b7",
   "metadata": {},
   "outputs": [
    {
     "data": {
      "text/plain": [
       "Sepal_Length    float64\n",
       "Sepal_Width     float64\n",
       "Petal_Length    float64\n",
       "Petal_Width     float64\n",
       "Class            object\n",
       "dtype: object"
      ]
     },
     "execution_count": 5,
     "metadata": {},
     "output_type": "execute_result"
    }
   ],
   "source": [
    "data.dtypes"
   ]
  },
  {
   "cell_type": "markdown",
   "id": "473623e9-5aad-4e74-a6ff-1e7673cd592c",
   "metadata": {},
   "source": [
    "- ##### Rows and Columns"
   ]
  },
  {
   "cell_type": "code",
   "execution_count": 6,
   "id": "27864790-98a7-4283-8557-052e7625ae43",
   "metadata": {},
   "outputs": [
    {
     "data": {
      "text/plain": [
       "(150, 5)"
      ]
     },
     "execution_count": 6,
     "metadata": {},
     "output_type": "execute_result"
    }
   ],
   "source": [
    "data.shape"
   ]
  },
  {
   "cell_type": "code",
   "execution_count": null,
   "id": "9d892c06-e4a0-44e1-9a03-3bbc45e0441e",
   "metadata": {},
   "outputs": [],
   "source": []
  },
  {
   "cell_type": "code",
   "execution_count": null,
   "id": "16d7a993-c1a3-445e-9462-1915d82aa222",
   "metadata": {},
   "outputs": [],
   "source": []
  },
  {
   "cell_type": "markdown",
   "id": "b3ac6312-fe32-42da-87ac-203c7ba971fc",
   "metadata": {},
   "source": [
    "## Iris data processing"
   ]
  },
  {
   "cell_type": "markdown",
   "id": "1b2250e9-ba41-400d-b4b4-02dac11868bf",
   "metadata": {},
   "source": [
    "- ##### Adjust all column names to lowercase"
   ]
  },
  {
   "cell_type": "code",
   "execution_count": 7,
   "id": "c86a7371-27f4-4e4e-aa5b-7d530c25a44b",
   "metadata": {},
   "outputs": [],
   "source": [
    "data_col = data.columns\n",
    "    \n",
    "data = data.set_axis(data_col.str.lower(), axis=1)"
   ]
  },
  {
   "cell_type": "code",
   "execution_count": 8,
   "id": "2d526b60-f693-45c3-a5d9-c053dd6aef68",
   "metadata": {},
   "outputs": [
    {
     "data": {
      "text/html": [
       "<div>\n",
       "<style scoped>\n",
       "    .dataframe tbody tr th:only-of-type {\n",
       "        vertical-align: middle;\n",
       "    }\n",
       "\n",
       "    .dataframe tbody tr th {\n",
       "        vertical-align: top;\n",
       "    }\n",
       "\n",
       "    .dataframe thead th {\n",
       "        text-align: right;\n",
       "    }\n",
       "</style>\n",
       "<table border=\"1\" class=\"dataframe\">\n",
       "  <thead>\n",
       "    <tr style=\"text-align: right;\">\n",
       "      <th></th>\n",
       "      <th>sepal_length</th>\n",
       "      <th>sepal_width</th>\n",
       "      <th>petal_length</th>\n",
       "      <th>petal_width</th>\n",
       "      <th>class</th>\n",
       "    </tr>\n",
       "  </thead>\n",
       "  <tbody>\n",
       "    <tr>\n",
       "      <th>0</th>\n",
       "      <td>5.1</td>\n",
       "      <td>3.5</td>\n",
       "      <td>1.4</td>\n",
       "      <td>0.2</td>\n",
       "      <td>Iris-setosa</td>\n",
       "    </tr>\n",
       "    <tr>\n",
       "      <th>1</th>\n",
       "      <td>4.9</td>\n",
       "      <td>3.0</td>\n",
       "      <td>1.4</td>\n",
       "      <td>0.2</td>\n",
       "      <td>Iris-setosa</td>\n",
       "    </tr>\n",
       "    <tr>\n",
       "      <th>2</th>\n",
       "      <td>4.7</td>\n",
       "      <td>3.2</td>\n",
       "      <td>1.3</td>\n",
       "      <td>0.2</td>\n",
       "      <td>Iris-setosa</td>\n",
       "    </tr>\n",
       "    <tr>\n",
       "      <th>3</th>\n",
       "      <td>4.6</td>\n",
       "      <td>3.1</td>\n",
       "      <td>1.5</td>\n",
       "      <td>0.2</td>\n",
       "      <td>Iris-setosa</td>\n",
       "    </tr>\n",
       "    <tr>\n",
       "      <th>4</th>\n",
       "      <td>5.0</td>\n",
       "      <td>3.6</td>\n",
       "      <td>1.4</td>\n",
       "      <td>0.2</td>\n",
       "      <td>Iris-setosa</td>\n",
       "    </tr>\n",
       "    <tr>\n",
       "      <th>...</th>\n",
       "      <td>...</td>\n",
       "      <td>...</td>\n",
       "      <td>...</td>\n",
       "      <td>...</td>\n",
       "      <td>...</td>\n",
       "    </tr>\n",
       "    <tr>\n",
       "      <th>145</th>\n",
       "      <td>6.7</td>\n",
       "      <td>3.0</td>\n",
       "      <td>5.2</td>\n",
       "      <td>2.3</td>\n",
       "      <td>Iris-virginica</td>\n",
       "    </tr>\n",
       "    <tr>\n",
       "      <th>146</th>\n",
       "      <td>6.3</td>\n",
       "      <td>2.5</td>\n",
       "      <td>5.0</td>\n",
       "      <td>1.9</td>\n",
       "      <td>Iris-virginica</td>\n",
       "    </tr>\n",
       "    <tr>\n",
       "      <th>147</th>\n",
       "      <td>6.5</td>\n",
       "      <td>3.0</td>\n",
       "      <td>5.2</td>\n",
       "      <td>2.0</td>\n",
       "      <td>Iris-virginica</td>\n",
       "    </tr>\n",
       "    <tr>\n",
       "      <th>148</th>\n",
       "      <td>6.2</td>\n",
       "      <td>3.4</td>\n",
       "      <td>5.4</td>\n",
       "      <td>2.3</td>\n",
       "      <td>Iris-virginica</td>\n",
       "    </tr>\n",
       "    <tr>\n",
       "      <th>149</th>\n",
       "      <td>5.9</td>\n",
       "      <td>3.0</td>\n",
       "      <td>5.1</td>\n",
       "      <td>1.8</td>\n",
       "      <td>Iris-virginica</td>\n",
       "    </tr>\n",
       "  </tbody>\n",
       "</table>\n",
       "<p>150 rows × 5 columns</p>\n",
       "</div>"
      ],
      "text/plain": [
       "     sepal_length  sepal_width  petal_length  petal_width           class\n",
       "0             5.1          3.5           1.4          0.2     Iris-setosa\n",
       "1             4.9          3.0           1.4          0.2     Iris-setosa\n",
       "2             4.7          3.2           1.3          0.2     Iris-setosa\n",
       "3             4.6          3.1           1.5          0.2     Iris-setosa\n",
       "4             5.0          3.6           1.4          0.2     Iris-setosa\n",
       "..            ...          ...           ...          ...             ...\n",
       "145           6.7          3.0           5.2          2.3  Iris-virginica\n",
       "146           6.3          2.5           5.0          1.9  Iris-virginica\n",
       "147           6.5          3.0           5.2          2.0  Iris-virginica\n",
       "148           6.2          3.4           5.4          2.3  Iris-virginica\n",
       "149           5.9          3.0           5.1          1.8  Iris-virginica\n",
       "\n",
       "[150 rows x 5 columns]"
      ]
     },
     "execution_count": 8,
     "metadata": {},
     "output_type": "execute_result"
    }
   ],
   "source": [
    "data"
   ]
  },
  {
   "cell_type": "code",
   "execution_count": null,
   "id": "9f3d4ac5-55af-4656-b66a-5b076989936c",
   "metadata": {},
   "outputs": [],
   "source": []
  },
  {
   "cell_type": "markdown",
   "id": "83c1123e-732e-4ca9-a735-b313c0086639",
   "metadata": {},
   "source": [
    "- ##### Check for any missing values"
   ]
  },
  {
   "cell_type": "code",
   "execution_count": 9,
   "id": "a96c2f85-cd6a-4819-ac47-9c7eeb502b53",
   "metadata": {},
   "outputs": [
    {
     "data": {
      "text/plain": [
       "sepal_length    0\n",
       "sepal_width     0\n",
       "petal_length    0\n",
       "petal_width     0\n",
       "class           0\n",
       "dtype: int64"
      ]
     },
     "execution_count": 9,
     "metadata": {},
     "output_type": "execute_result"
    }
   ],
   "source": [
    "data.isna().sum()"
   ]
  },
  {
   "cell_type": "markdown",
   "id": "cc44fde8-5a1c-4bfe-8959-2b6fa0e13af9",
   "metadata": {},
   "source": [
    "- ##### Check for any duplications"
   ]
  },
  {
   "cell_type": "code",
   "execution_count": 10,
   "id": "a9f30072-f5af-48e9-afdc-f6b81e871eeb",
   "metadata": {},
   "outputs": [
    {
     "data": {
      "text/html": [
       "<div>\n",
       "<style scoped>\n",
       "    .dataframe tbody tr th:only-of-type {\n",
       "        vertical-align: middle;\n",
       "    }\n",
       "\n",
       "    .dataframe tbody tr th {\n",
       "        vertical-align: top;\n",
       "    }\n",
       "\n",
       "    .dataframe thead th {\n",
       "        text-align: right;\n",
       "    }\n",
       "</style>\n",
       "<table border=\"1\" class=\"dataframe\">\n",
       "  <thead>\n",
       "    <tr style=\"text-align: right;\">\n",
       "      <th></th>\n",
       "      <th>sepal_length</th>\n",
       "      <th>sepal_width</th>\n",
       "      <th>petal_length</th>\n",
       "      <th>petal_width</th>\n",
       "      <th>class</th>\n",
       "    </tr>\n",
       "  </thead>\n",
       "  <tbody>\n",
       "    <tr>\n",
       "      <th>34</th>\n",
       "      <td>4.9</td>\n",
       "      <td>3.1</td>\n",
       "      <td>1.5</td>\n",
       "      <td>0.1</td>\n",
       "      <td>Iris-setosa</td>\n",
       "    </tr>\n",
       "    <tr>\n",
       "      <th>37</th>\n",
       "      <td>4.9</td>\n",
       "      <td>3.1</td>\n",
       "      <td>1.5</td>\n",
       "      <td>0.1</td>\n",
       "      <td>Iris-setosa</td>\n",
       "    </tr>\n",
       "    <tr>\n",
       "      <th>142</th>\n",
       "      <td>5.8</td>\n",
       "      <td>2.7</td>\n",
       "      <td>5.1</td>\n",
       "      <td>1.9</td>\n",
       "      <td>Iris-virginica</td>\n",
       "    </tr>\n",
       "  </tbody>\n",
       "</table>\n",
       "</div>"
      ],
      "text/plain": [
       "     sepal_length  sepal_width  petal_length  petal_width           class\n",
       "34            4.9          3.1           1.5          0.1     Iris-setosa\n",
       "37            4.9          3.1           1.5          0.1     Iris-setosa\n",
       "142           5.8          2.7           5.1          1.9  Iris-virginica"
      ]
     },
     "execution_count": 10,
     "metadata": {},
     "output_type": "execute_result"
    }
   ],
   "source": [
    "duplicated_indices = data[data.duplicated()]\n",
    "duplicated_indices"
   ]
  },
  {
   "cell_type": "markdown",
   "id": "127e1288-79ec-4b39-8287-17daff6918dd",
   "metadata": {},
   "source": [
    "- ##### Remove duplicates"
   ]
  },
  {
   "cell_type": "code",
   "execution_count": 11,
   "id": "af04d753-b61a-4836-82e4-d4abc92db65b",
   "metadata": {},
   "outputs": [],
   "source": [
    "data.drop_duplicates(inplace=True)"
   ]
  },
  {
   "cell_type": "markdown",
   "id": "1a5d1939-344d-4943-9ed2-5f6f4d3543af",
   "metadata": {},
   "source": [
    "- ##### Check that duplicated rows deleted successfully"
   ]
  },
  {
   "cell_type": "code",
   "execution_count": 12,
   "id": "f86def4f-9e17-424a-9b07-1762936d1051",
   "metadata": {},
   "outputs": [
    {
     "data": {
      "text/plain": [
       "0"
      ]
     },
     "execution_count": 12,
     "metadata": {},
     "output_type": "execute_result"
    }
   ],
   "source": [
    "data.duplicated().sum()"
   ]
  },
  {
   "cell_type": "markdown",
   "id": "d3a78cd8-1561-4a1e-b954-df7b40e95675",
   "metadata": {},
   "source": [
    "- ##### Iris class count"
   ]
  },
  {
   "cell_type": "code",
   "execution_count": 13,
   "id": "7aeaf27f-6f29-4c2d-826a-ef1115cf9421",
   "metadata": {},
   "outputs": [
    {
     "data": {
      "text/plain": [
       "class\n",
       "Iris-versicolor    50\n",
       "Iris-virginica     49\n",
       "Iris-setosa        48\n",
       "Name: count, dtype: int64"
      ]
     },
     "execution_count": 13,
     "metadata": {},
     "output_type": "execute_result"
    }
   ],
   "source": [
    "data['class'].value_counts()"
   ]
  },
  {
   "cell_type": "markdown",
   "id": "51477e7c-759f-4866-99f9-bc28269b1100",
   "metadata": {},
   "source": [
    "***"
   ]
  },
  {
   "cell_type": "raw",
   "id": "b292d11a-c217-4bbf-acfd-4264d4f780ed",
   "metadata": {},
   "source": [
    "\n",
    "\n",
    "# to rename the iris classes \n",
    "data['class'] = data['class'].str.slice_replace(stop=5, repl=\"\" )\n",
    "data['class']\n",
    "\n",
    "encoded_data = pd.get_dummies(data, prefix='iris', columns=['class'], dtype=int)\n",
    "\n",
    "encoded_data\n",
    "\n",
    "- ##### Features and target\n",
    "\n",
    "X = encoded_data[['sepal_length','sepal_width', 'petal_length', 'petal_width']]\n",
    "Y = encoded_data[['iris_setosa', 'iris_versicolor', 'iris_virginica']]\n",
    "\n",
    "print(f\"Iris features shape: {X.shape}\")\n",
    "print(f\"Iris classes shape: {Y.shape}\")"
   ]
  },
  {
   "cell_type": "markdown",
   "id": "d6d46c47-fde9-4bb8-adde-a47cf1b22266",
   "metadata": {},
   "source": [
    "***"
   ]
  },
  {
   "cell_type": "markdown",
   "id": "f9856e37-771e-48bd-bee4-858305c5bcf7",
   "metadata": {},
   "source": [
    "## Features and target 🎯"
   ]
  },
  {
   "cell_type": "code",
   "execution_count": 14,
   "id": "b6c46fd8-e272-4eb9-9bdf-fec871462547",
   "metadata": {},
   "outputs": [],
   "source": [
    "y = data['class']\n",
    "x = data.drop('class', axis=1)"
   ]
  },
  {
   "cell_type": "markdown",
   "id": "1073713b-6881-4f60-b49a-c1bae44c6230",
   "metadata": {},
   "source": [
    "## Exploratory Data Analysis"
   ]
  },
  {
   "cell_type": "markdown",
   "id": "2f804e07-b741-4929-874b-1ca018e1ebec",
   "metadata": {},
   "source": [
    "- #### Summary statistics for Iris Flower Specifics 📈"
   ]
  },
  {
   "cell_type": "code",
   "execution_count": 15,
   "id": "6ee6112d-e1f2-4aec-83a7-abda326c4afb",
   "metadata": {},
   "outputs": [
    {
     "data": {
      "text/html": [
       "<div>\n",
       "<style scoped>\n",
       "    .dataframe tbody tr th:only-of-type {\n",
       "        vertical-align: middle;\n",
       "    }\n",
       "\n",
       "    .dataframe tbody tr th {\n",
       "        vertical-align: top;\n",
       "    }\n",
       "\n",
       "    .dataframe thead th {\n",
       "        text-align: right;\n",
       "    }\n",
       "</style>\n",
       "<table border=\"1\" class=\"dataframe\">\n",
       "  <thead>\n",
       "    <tr style=\"text-align: right;\">\n",
       "      <th></th>\n",
       "      <th>sepal_length</th>\n",
       "      <th>sepal_width</th>\n",
       "      <th>petal_length</th>\n",
       "      <th>petal_width</th>\n",
       "    </tr>\n",
       "  </thead>\n",
       "  <tbody>\n",
       "    <tr>\n",
       "      <th>count</th>\n",
       "      <td>147.000000</td>\n",
       "      <td>147.000000</td>\n",
       "      <td>147.000000</td>\n",
       "      <td>147.000000</td>\n",
       "    </tr>\n",
       "    <tr>\n",
       "      <th>mean</th>\n",
       "      <td>5.856463</td>\n",
       "      <td>3.055782</td>\n",
       "      <td>3.780272</td>\n",
       "      <td>1.208844</td>\n",
       "    </tr>\n",
       "    <tr>\n",
       "      <th>std</th>\n",
       "      <td>0.829100</td>\n",
       "      <td>0.437009</td>\n",
       "      <td>1.759111</td>\n",
       "      <td>0.757874</td>\n",
       "    </tr>\n",
       "    <tr>\n",
       "      <th>min</th>\n",
       "      <td>4.300000</td>\n",
       "      <td>2.000000</td>\n",
       "      <td>1.000000</td>\n",
       "      <td>0.100000</td>\n",
       "    </tr>\n",
       "    <tr>\n",
       "      <th>25%</th>\n",
       "      <td>5.100000</td>\n",
       "      <td>2.800000</td>\n",
       "      <td>1.600000</td>\n",
       "      <td>0.300000</td>\n",
       "    </tr>\n",
       "    <tr>\n",
       "      <th>50%</th>\n",
       "      <td>5.800000</td>\n",
       "      <td>3.000000</td>\n",
       "      <td>4.400000</td>\n",
       "      <td>1.300000</td>\n",
       "    </tr>\n",
       "    <tr>\n",
       "      <th>75%</th>\n",
       "      <td>6.400000</td>\n",
       "      <td>3.300000</td>\n",
       "      <td>5.100000</td>\n",
       "      <td>1.800000</td>\n",
       "    </tr>\n",
       "    <tr>\n",
       "      <th>max</th>\n",
       "      <td>7.900000</td>\n",
       "      <td>4.400000</td>\n",
       "      <td>6.900000</td>\n",
       "      <td>2.500000</td>\n",
       "    </tr>\n",
       "  </tbody>\n",
       "</table>\n",
       "</div>"
      ],
      "text/plain": [
       "       sepal_length  sepal_width  petal_length  petal_width\n",
       "count    147.000000   147.000000    147.000000   147.000000\n",
       "mean       5.856463     3.055782      3.780272     1.208844\n",
       "std        0.829100     0.437009      1.759111     0.757874\n",
       "min        4.300000     2.000000      1.000000     0.100000\n",
       "25%        5.100000     2.800000      1.600000     0.300000\n",
       "50%        5.800000     3.000000      4.400000     1.300000\n",
       "75%        6.400000     3.300000      5.100000     1.800000\n",
       "max        7.900000     4.400000      6.900000     2.500000"
      ]
     },
     "execution_count": 15,
     "metadata": {},
     "output_type": "execute_result"
    }
   ],
   "source": [
    "x.describe()"
   ]
  },
  {
   "cell_type": "markdown",
   "id": "6d87aaab-e193-44c2-b76b-45fadb5577c3",
   "metadata": {},
   "source": [
    "### Count PLot for y"
   ]
  },
  {
   "cell_type": "code",
   "execution_count": 16,
   "id": "0b74274b-0921-4a8e-b2c9-2840d53653ec",
   "metadata": {},
   "outputs": [
    {
     "data": {
      "image/png": "[encoded data removed]",
      "text/plain": [
       "<Figure size 500x300 with 1 Axes>"
      ]
     },
     "metadata": {},
     "output_type": "display_data"
    }
   ],
   "source": [
    "plt.figure(figsize=(5, 3))\n",
    "sns.set_style('darkgrid')\n",
    "sns.countplot(x='class', data=data, width=0.45)\n",
    "plt.xlabel(\"class\")\n",
    "plt.ylabel(\"count\")\n",
    "plt.title('Count of each class in the Iris dataset')\n",
    "plt.show()"
   ]
  },
  {
   "cell_type": "code",
   "execution_count": null,
   "id": "c1fd90f3-2a5b-4127-8d52-6a371ec62890",
   "metadata": {},
   "outputs": [],
   "source": []
  },
  {
   "cell_type": "code",
   "execution_count": null,
   "id": "eb5ee494-e3f0-493d-85b2-a9c7c24f5547",
   "metadata": {},
   "outputs": [],
   "source": []
  },
  {
   "cell_type": "markdown",
   "id": "e500d54a-d370-4c20-b255-a9e89094e9c1",
   "metadata": {},
   "source": [
    "- ##### Check distribution for numerical values"
   ]
  },
  {
   "cell_type": "code",
   "execution_count": 17,
   "id": "3726b047-5767-4fa1-ada4-0df815a177dd",
   "metadata": {},
   "outputs": [
    {
     "data": {
      "image/png": "[encoded data removed]",
      "text/plain": [
       "<Figure size 800x500 with 1 Axes>"
      ]
     },
     "metadata": {},
     "output_type": "display_data"
    }
   ],
   "source": [
    "plt.figure(figsize=(8,5))\n",
    "\n",
    "sns.kdeplot(data=x, fill=True, legend=True)\n",
    "plt.title(\"Distribution of Iris Flower Specifics.\")\n",
    "plt.xlabel(f\"Values\")\n",
    "plt.ylabel(\"Density\")\n",
    "plt.grid(True)\n",
    "plt.savefig(\"imgs\\Distribution of iris flower Specifics.png\")\n",
    "plt.show()"
   ]
  },
  {
   "cell_type": "code",
   "execution_count": null,
   "id": "8ae35326-72de-44b2-bf9a-5173d7ae5794",
   "metadata": {},
   "outputs": [],
   "source": []
  },
  {
   "cell_type": "markdown",
   "id": "7983e559-99fd-4c4f-959b-70f9a605e08b",
   "metadata": {},
   "source": [
    "#### Check Outliers 😒🧛‍♂️"
   ]
  },
  {
   "cell_type": "code",
   "execution_count": 18,
   "id": "e08ade39-4ef6-4353-82fb-200d79127678",
   "metadata": {},
   "outputs": [
    {
     "name": "stdout",
     "output_type": "stream",
     "text": [
      "Outliers:\n",
      "    sepal_length  sepal_width  petal_length  petal_width        class\n",
      "15           5.7          4.4           1.5          0.4  Iris-setosa\n"
     ]
    }
   ],
   "source": [
    "# Calculate the Z-score for each numerical feature\n",
    "z_scores = np.abs((x - x.mean()) / x.std())\n",
    "\n",
    "# Set the threshold for identifying outliers\n",
    "threshold = 3\n",
    "\n",
    "# Create a boolean mask for non-outliers\n",
    "mask = (z_scores < threshold).all(axis=1)\n",
    "\n",
    "# Apply the mask to get the DataFrame without outliers\n",
    "cleaned_data = data[mask]\n",
    "\n",
    "# Identify the outliers\n",
    "outliers = data[~mask]\n",
    "\n",
    "print(\"Outliers:\")\n",
    "print(outliers)"
   ]
  },
  {
   "cell_type": "code",
   "execution_count": 19,
   "id": "d2c8ea50-953a-44a8-b9e7-5aa77e5030d2",
   "metadata": {},
   "outputs": [
    {
     "name": "stdout",
     "output_type": "stream",
     "text": [
      "DataFrame without outliers:\n"
     ]
    },
    {
     "data": {
      "text/html": [
       "<div>\n",
       "<style scoped>\n",
       "    .dataframe tbody tr th:only-of-type {\n",
       "        vertical-align: middle;\n",
       "    }\n",
       "\n",
       "    .dataframe tbody tr th {\n",
       "        vertical-align: top;\n",
       "    }\n",
       "\n",
       "    .dataframe thead th {\n",
       "        text-align: right;\n",
       "    }\n",
       "</style>\n",
       "<table border=\"1\" class=\"dataframe\">\n",
       "  <thead>\n",
       "    <tr style=\"text-align: right;\">\n",
       "      <th></th>\n",
       "      <th>sepal_length</th>\n",
       "      <th>sepal_width</th>\n",
       "      <th>petal_length</th>\n",
       "      <th>petal_width</th>\n",
       "      <th>class</th>\n",
       "    </tr>\n",
       "  </thead>\n",
       "  <tbody>\n",
       "    <tr>\n",
       "      <th>0</th>\n",
       "      <td>5.1</td>\n",
       "      <td>3.5</td>\n",
       "      <td>1.4</td>\n",
       "      <td>0.2</td>\n",
       "      <td>Iris-setosa</td>\n",
       "    </tr>\n",
       "    <tr>\n",
       "      <th>1</th>\n",
       "      <td>4.9</td>\n",
       "      <td>3.0</td>\n",
       "      <td>1.4</td>\n",
       "      <td>0.2</td>\n",
       "      <td>Iris-setosa</td>\n",
       "    </tr>\n",
       "    <tr>\n",
       "      <th>2</th>\n",
       "      <td>4.7</td>\n",
       "      <td>3.2</td>\n",
       "      <td>1.3</td>\n",
       "      <td>0.2</td>\n",
       "      <td>Iris-setosa</td>\n",
       "    </tr>\n",
       "    <tr>\n",
       "      <th>3</th>\n",
       "      <td>4.6</td>\n",
       "      <td>3.1</td>\n",
       "      <td>1.5</td>\n",
       "      <td>0.2</td>\n",
       "      <td>Iris-setosa</td>\n",
       "    </tr>\n",
       "    <tr>\n",
       "      <th>4</th>\n",
       "      <td>5.0</td>\n",
       "      <td>3.6</td>\n",
       "      <td>1.4</td>\n",
       "      <td>0.2</td>\n",
       "      <td>Iris-setosa</td>\n",
       "    </tr>\n",
       "    <tr>\n",
       "      <th>...</th>\n",
       "      <td>...</td>\n",
       "      <td>...</td>\n",
       "      <td>...</td>\n",
       "      <td>...</td>\n",
       "      <td>...</td>\n",
       "    </tr>\n",
       "    <tr>\n",
       "      <th>145</th>\n",
       "      <td>6.7</td>\n",
       "      <td>3.0</td>\n",
       "      <td>5.2</td>\n",
       "      <td>2.3</td>\n",
       "      <td>Iris-virginica</td>\n",
       "    </tr>\n",
       "    <tr>\n",
       "      <th>146</th>\n",
       "      <td>6.3</td>\n",
       "      <td>2.5</td>\n",
       "      <td>5.0</td>\n",
       "      <td>1.9</td>\n",
       "      <td>Iris-virginica</td>\n",
       "    </tr>\n",
       "    <tr>\n",
       "      <th>147</th>\n",
       "      <td>6.5</td>\n",
       "      <td>3.0</td>\n",
       "      <td>5.2</td>\n",
       "      <td>2.0</td>\n",
       "      <td>Iris-virginica</td>\n",
       "    </tr>\n",
       "    <tr>\n",
       "      <th>148</th>\n",
       "      <td>6.2</td>\n",
       "      <td>3.4</td>\n",
       "      <td>5.4</td>\n",
       "      <td>2.3</td>\n",
       "      <td>Iris-virginica</td>\n",
       "    </tr>\n",
       "    <tr>\n",
       "      <th>149</th>\n",
       "      <td>5.9</td>\n",
       "      <td>3.0</td>\n",
       "      <td>5.1</td>\n",
       "      <td>1.8</td>\n",
       "      <td>Iris-virginica</td>\n",
       "    </tr>\n",
       "  </tbody>\n",
       "</table>\n",
       "<p>146 rows × 5 columns</p>\n",
       "</div>"
      ],
      "text/plain": [
       "     sepal_length  sepal_width  petal_length  petal_width           class\n",
       "0             5.1          3.5           1.4          0.2     Iris-setosa\n",
       "1             4.9          3.0           1.4          0.2     Iris-setosa\n",
       "2             4.7          3.2           1.3          0.2     Iris-setosa\n",
       "3             4.6          3.1           1.5          0.2     Iris-setosa\n",
       "4             5.0          3.6           1.4          0.2     Iris-setosa\n",
       "..            ...          ...           ...          ...             ...\n",
       "145           6.7          3.0           5.2          2.3  Iris-virginica\n",
       "146           6.3          2.5           5.0          1.9  Iris-virginica\n",
       "147           6.5          3.0           5.2          2.0  Iris-virginica\n",
       "148           6.2          3.4           5.4          2.3  Iris-virginica\n",
       "149           5.9          3.0           5.1          1.8  Iris-virginica\n",
       "\n",
       "[146 rows x 5 columns]"
      ]
     },
     "execution_count": 19,
     "metadata": {},
     "output_type": "execute_result"
    }
   ],
   "source": [
    "print(\"DataFrame without outliers:\")\n",
    "cleaned_data"
   ]
  },
  {
   "cell_type": "code",
   "execution_count": null,
   "id": "f87e08c4-7f86-4951-af2e-fe6dc18c3941",
   "metadata": {},
   "outputs": [],
   "source": []
  },
  {
   "cell_type": "code",
   "execution_count": null,
   "id": "1821cf58-bad6-4541-bcf1-31ecfaf61b42",
   "metadata": {},
   "outputs": [],
   "source": []
  },
  {
   "cell_type": "markdown",
   "id": "e5816897-df1f-49d5-8185-113c898a864f",
   "metadata": {},
   "source": [
    "## splitting data"
   ]
  },
  {
   "cell_type": "code",
   "execution_count": 20,
   "id": "27deb8dc-fb03-4646-a47f-418432785c27",
   "metadata": {},
   "outputs": [],
   "source": [
    "y = cleaned_data['class']\n",
    "x = cleaned_data.drop('class', axis=1)\n",
    "x_train, x_test, y_train, y_test = train_test_split(x, y, test_size=0.2, random_state=42, stratify=y)"
   ]
  },
  {
   "cell_type": "code",
   "execution_count": 21,
   "id": "0de4c657-eea8-49f0-8922-0248e47e4f15",
   "metadata": {},
   "outputs": [
    {
     "name": "stdout",
     "output_type": "stream",
     "text": [
      "Shape of x_train = (116, 4), and  x_test = (30, 4)\n",
      "Shape of y_train = (116,), and  y_test = (30,)\n"
     ]
    }
   ],
   "source": [
    "print(f\"Shape of x_train = {x_train.shape}, and  x_test = {x_test.shape}\")\n",
    "print(f\"Shape of y_train = {y_train.shape}, and  y_test = {y_test.shape}\")"
   ]
  },
  {
   "cell_type": "code",
   "execution_count": null,
   "id": "d22f7469-4cd9-4d57-beb7-6bcabeb87d64",
   "metadata": {},
   "outputs": [],
   "source": []
  },
  {
   "cell_type": "markdown",
   "id": "2e109b28-2a1b-4636-ad70-35014d9da94e",
   "metadata": {},
   "source": [
    "## Baseline models and cross validation to select the top performing models"
   ]
  },
  {
   "cell_type": "code",
   "execution_count": 22,
   "id": "cbaffab9-537b-461d-9d53-e232c5c3ddca",
   "metadata": {},
   "outputs": [],
   "source": [
    "def get_based_models():\n",
    "    based_models = []\n",
    "    \n",
    "    based_models.append(('LR_L2', LogisticRegression(penalty='l2')))\n",
    "    \n",
    "    based_models.append(('LDA', LinearDiscriminantAnalysis()))\n",
    "    \n",
    "    based_models.append(('KNN_5', KNeighborsClassifier(n_neighbors=5)))\n",
    "    based_models.append(('KNN_7', KNeighborsClassifier(n_neighbors=7)))\n",
    "    based_models.append(('KNN_9', KNeighborsClassifier(n_neighbors=9)))\n",
    "    based_models.append(('KNN_11', KNeighborsClassifier(n_neighbors=11)))\n",
    "    \n",
    "    based_models.append(('DT_gini', DecisionTreeClassifier(criterion='gini')))\n",
    "    based_models.append(('DT_entropy', DecisionTreeClassifier(criterion='entropy' )))\n",
    "    \n",
    "    based_models.append(('NB', GaussianNB()))\n",
    "    \n",
    "    based_models.append(('SVM_Linear', SVC(kernel='linear', gamma='auto', probability=True)))\n",
    "    based_models.append(('SVM_RBF', SVC(kernel='rbf', gamma='auto', probability=True)))\n",
    "    based_models.append(('SVM_Sigmoid', SVC(kernel='sigmoid', gamma='auto', probability=True)))\n",
    "    based_models.append(('SVM_Poly', SVC(kernel='poly', gamma='auto', probability=True)))\n",
    "    \n",
    "    based_models.append(('AdaBoost', AdaBoostClassifier()))\n",
    "    \n",
    "    based_models.append(('GradientBoosting', GradientBoostingClassifier(n_estimators=100, max_features='sqrt')))\n",
    "    based_models.append(('GradientBoosting', GradientBoostingClassifier(n_estimators=500, max_features='sqrt')))\n",
    "    \n",
    "    based_models.append(('RF_Entropy_100', RandomForestClassifier(criterion='entropy', n_estimators=100)))\n",
    "    based_models.append(('RF_Entropy_500', RandomForestClassifier(criterion='entropy', n_estimators=500)))\n",
    "\n",
    "    based_models.append(('RF_Gini_100', RandomForestClassifier(criterion='gini', n_estimators=100)))\n",
    "    based_models.append(('RF_Gini_500', RandomForestClassifier(criterion='gini', n_estimators=500)))\n",
    "\n",
    "    based_models.append(('ExtraTrees_100', ExtraTreesClassifier(n_estimators=100)))\n",
    "    based_models.append(('ExtraTrees_500', ExtraTreesClassifier(n_estimators=500)))\n",
    "    based_models.append(('ExtraTrees_1000', ExtraTreesClassifier(n_estimators=1000)))\n",
    "\n",
    "    based_models.append(('MLP', MLPClassifier()))\n",
    "    \n",
    "    based_models.append(('SGD', SGDClassifier(max_iter=5000, tol=1e-4)))\n",
    "\n",
    "    \n",
    "    return based_models"
   ]
  },
  {
   "cell_type": "code",
   "execution_count": 23,
   "id": "1c957860-a904-4c8d-a32e-a7c9477b5612",
   "metadata": {},
   "outputs": [
    {
     "name": "stdout",
     "output_type": "stream",
     "text": [
      "LR_L2: Mean Accuracy: 0.9572 (Std Dev: 0.0381)\n",
      "LDA: Mean Accuracy: 0.9743 (Std Dev: 0.0210)\n",
      "KNN_5: Mean Accuracy: 0.9656 (Std Dev: 0.0506)\n",
      "KNN_7: Mean Accuracy: 0.9656 (Std Dev: 0.0506)\n",
      "KNN_9: Mean Accuracy: 0.9659 (Std Dev: 0.0417)\n",
      "KNN_11: Mean Accuracy: 0.9656 (Std Dev: 0.0324)\n",
      "DT_gini: Mean Accuracy: 0.9572 (Std Dev: 0.0264)\n",
      "DT_entropy: Mean Accuracy: 0.9659 (Std Dev: 0.0314)\n",
      "NB: Mean Accuracy: 0.9572 (Std Dev: 0.0381)\n",
      "SVM_Linear: Mean Accuracy: 0.9830 (Std Dev: 0.0209)\n",
      "SVM_RBF: Mean Accuracy: 0.9743 (Std Dev: 0.0346)\n",
      "SVM_Sigmoid: Mean Accuracy: 0.2500 (Std Dev: 0.0638)\n",
      "SVM_Poly: Mean Accuracy: 0.9486 (Std Dev: 0.0318)\n"
     ]
    },
    {
     "name": "stderr",
     "output_type": "stream",
     "text": [
      "E:\\environment_src\\Anaconda_installation\\Lib\\site-packages\\sklearn\\ensemble\\_weight_boosting.py:519: FutureWarning: The SAMME.R algorithm (the default) is deprecated and will be removed in 1.6. Use the SAMME algorithm to circumvent this warning.\n",
      "  warnings.warn(\n",
      "E:\\environment_src\\Anaconda_installation\\Lib\\site-packages\\sklearn\\ensemble\\_weight_boosting.py:519: FutureWarning: The SAMME.R algorithm (the default) is deprecated and will be removed in 1.6. Use the SAMME algorithm to circumvent this warning.\n",
      "  warnings.warn(\n",
      "E:\\environment_src\\Anaconda_installation\\Lib\\site-packages\\sklearn\\ensemble\\_weight_boosting.py:519: FutureWarning: The SAMME.R algorithm (the default) is deprecated and will be removed in 1.6. Use the SAMME algorithm to circumvent this warning.\n",
      "  warnings.warn(\n",
      "E:\\environment_src\\Anaconda_installation\\Lib\\site-packages\\sklearn\\ensemble\\_weight_boosting.py:519: FutureWarning: The SAMME.R algorithm (the default) is deprecated and will be removed in 1.6. Use the SAMME algorithm to circumvent this warning.\n",
      "  warnings.warn(\n",
      "E:\\environment_src\\Anaconda_installation\\Lib\\site-packages\\sklearn\\ensemble\\_weight_boosting.py:519: FutureWarning: The SAMME.R algorithm (the default) is deprecated and will be removed in 1.6. Use the SAMME algorithm to circumvent this warning.\n",
      "  warnings.warn(\n"
     ]
    },
    {
     "name": "stdout",
     "output_type": "stream",
     "text": [
      "AdaBoost: Mean Accuracy: 0.9486 (Std Dev: 0.0318)\n",
      "GradientBoosting: Mean Accuracy: 0.9486 (Std Dev: 0.0318)\n",
      "GradientBoosting: Mean Accuracy: 0.9572 (Std Dev: 0.0264)\n",
      "RF_Entropy_100: Mean Accuracy: 0.9572 (Std Dev: 0.0381)\n",
      "RF_Entropy_500: Mean Accuracy: 0.9572 (Std Dev: 0.0381)\n",
      "RF_Gini_100: Mean Accuracy: 0.9572 (Std Dev: 0.0381)\n",
      "RF_Gini_500: Mean Accuracy: 0.9572 (Std Dev: 0.0381)\n",
      "ExtraTrees_100: Mean Accuracy: 0.9489 (Std Dev: 0.0490)\n",
      "ExtraTrees_500: Mean Accuracy: 0.9489 (Std Dev: 0.0490)\n",
      "ExtraTrees_1000: Mean Accuracy: 0.9489 (Std Dev: 0.0490)\n"
     ]
    },
    {
     "name": "stderr",
     "output_type": "stream",
     "text": [
      "E:\\environment_src\\Anaconda_installation\\Lib\\site-packages\\sklearn\\neural_network\\_multilayer_perceptron.py:691: ConvergenceWarning: Stochastic Optimizer: Maximum iterations (200) reached and the optimization hasn't converged yet.\n",
      "  warnings.warn(\n",
      "E:\\environment_src\\Anaconda_installation\\Lib\\site-packages\\sklearn\\neural_network\\_multilayer_perceptron.py:691: ConvergenceWarning: Stochastic Optimizer: Maximum iterations (200) reached and the optimization hasn't converged yet.\n",
      "  warnings.warn(\n",
      "E:\\environment_src\\Anaconda_installation\\Lib\\site-packages\\sklearn\\neural_network\\_multilayer_perceptron.py:691: ConvergenceWarning: Stochastic Optimizer: Maximum iterations (200) reached and the optimization hasn't converged yet.\n",
      "  warnings.warn(\n"
     ]
    },
    {
     "name": "stdout",
     "output_type": "stream",
     "text": [
      "MLP: Mean Accuracy: 0.9743 (Std Dev: 0.0210)\n",
      "SGD: Mean Accuracy: 0.8355 (Std Dev: 0.1390)\n"
     ]
    },
    {
     "name": "stderr",
     "output_type": "stream",
     "text": [
      "E:\\environment_src\\Anaconda_installation\\Lib\\site-packages\\sklearn\\neural_network\\_multilayer_perceptron.py:691: ConvergenceWarning: Stochastic Optimizer: Maximum iterations (200) reached and the optimization hasn't converged yet.\n",
      "  warnings.warn(\n",
      "E:\\environment_src\\Anaconda_installation\\Lib\\site-packages\\sklearn\\neural_network\\_multilayer_perceptron.py:691: ConvergenceWarning: Stochastic Optimizer: Maximum iterations (200) reached and the optimization hasn't converged yet.\n",
      "  warnings.warn(\n"
     ]
    }
   ],
   "source": [
    "# Define the models\n",
    "models = get_based_models()\n",
    "\n",
    "# Evaluate each model using cross-validation\n",
    "results = []\n",
    "names = []\n",
    "\n",
    "for name, model in models:\n",
    "    kfold = KFold(n_splits=5, random_state=42, shuffle=True)\n",
    "    cv_results = cross_val_score(model, x_train, y_train, cv=kfold, scoring='accuracy')\n",
    "    results.append(cv_results)\n",
    "    names.append(name)\n",
    "    print(f'{name}: Mean Accuracy: {np.mean(cv_results):.4f} (Std Dev: {np.std(cv_results):.4f})')\n"
   ]
  },
  {
   "cell_type": "markdown",
   "id": "75b17ddf-dd56-4cd5-b260-13a431e1db70",
   "metadata": {},
   "source": [
    "## Building a Model with paramter tuning"
   ]
  },
  {
   "cell_type": "markdown",
   "id": "06cc7d77-a096-4f03-a8fe-5e3b8687d431",
   "metadata": {},
   "source": [
    "> ## best models:\n",
    " - ##### LDA: Mean Accuracy: 0.9743 (Std Dev: 0.0210)\n",
    " - ##### KNN_9: Mean Accuracy: 0.9659 (Std Dev: 0.0417)\n",
    " - ##### SVM_Linear: Mean Accuracy: 0.9830 (Std Dev: 0.0209)\n",
    " - ##### SVM_RBF: Mean Accuracy: 0.9743 (Std Dev: 0.0346)"
   ]
  },
  {
   "cell_type": "markdown",
   "id": "87c7f5d1-fc67-4444-a2a0-19310f4e5e63",
   "metadata": {},
   "source": [
    "#### Linear Discriminant Analysis:"
   ]
  },
  {
   "cell_type": "code",
   "execution_count": 24,
   "id": "9b973b6f-e60e-409b-83b1-22dc708c4c37",
   "metadata": {},
   "outputs": [
    {
     "name": "stdout",
     "output_type": "stream",
     "text": [
      "accuracy (train set): 0.97 %\n",
      "accuracy (test set): 1.00 %\n"
     ]
    }
   ],
   "source": [
    "cl1 = LinearDiscriminantAnalysis()\n",
    "cl1.fit(x_train, y_train)\n",
    "y_train_pred = cl1.predict(x_train)\n",
    "y_test_pred = cl1.predict(x_test)\n",
    "\n",
    "print(f\"accuracy (train set): {accuracy_score(y_train, y_train_pred):.2f} %\")\n",
    "print(f\"accuracy (test set): {accuracy_score(y_test, y_test_pred):.2f} %\")\n",
    "\n",
    "#print(\"classification report (train set):\\n\", classification_report(y_train, y_train_pred))\n",
    "#print(\"classification report (test set):\\n\", classification_report(y_test, y_test_pred))"
   ]
  },
  {
   "cell_type": "code",
   "execution_count": null,
   "id": "4ec68163-541a-47e1-89e0-7c42a2f98092",
   "metadata": {},
   "outputs": [],
   "source": []
  },
  {
   "cell_type": "markdown",
   "id": "f739bf1e-e0cd-4faa-8eb7-f0487c01fcd2",
   "metadata": {},
   "source": [
    "#### K-Nearest Neighbors: KNN-9"
   ]
  },
  {
   "cell_type": "code",
   "execution_count": 25,
   "id": "9fbac1a1-256c-4a4b-85b0-0d5883d65b3c",
   "metadata": {},
   "outputs": [
    {
     "name": "stdout",
     "output_type": "stream",
     "text": [
      "accuracy (train set): 0.97 %\n",
      "accuracy (test set): 1.00 %\n"
     ]
    }
   ],
   "source": [
    "cl2 = KNeighborsClassifier(n_neighbors=9)\n",
    "cl2.fit(x_train, y_train)\n",
    "y_train_pred = cl2.predict(x_train)\n",
    "y_test_pred = cl2.predict(x_test)\n",
    "\n",
    "print(f\"accuracy (train set): {accuracy_score(y_train, y_train_pred):.2f} %\")\n",
    "print(f\"accuracy (test set): {accuracy_score(y_test, y_test_pred):.2f} %\")\n"
   ]
  },
  {
   "cell_type": "code",
   "execution_count": null,
   "id": "18138cac-ef51-41dc-9d0d-9c921fb6a9cf",
   "metadata": {},
   "outputs": [],
   "source": []
  },
  {
   "cell_type": "markdown",
   "id": "98ffce4d-bb3e-416e-9d60-97ec1eeee8fe",
   "metadata": {},
   "source": [
    "#### Support Vector Machnie: SVC-linear"
   ]
  },
  {
   "cell_type": "code",
   "execution_count": 26,
   "id": "2d65a3d4-1b96-4ec6-9914-b7568fa71d77",
   "metadata": {},
   "outputs": [
    {
     "name": "stdout",
     "output_type": "stream",
     "text": [
      "accuracy (train set): 0.98 %\n",
      "accuracy (test set): 1.00 %\n"
     ]
    }
   ],
   "source": [
    "cl3 = SVC(kernel='linear')\n",
    "cl3.fit(x_train, y_train)\n",
    "y_train_pred = cl3.predict(x_train)\n",
    "y_test_pred = cl3.predict(x_test)\n",
    "\n",
    "print(f\"accuracy (train set): {accuracy_score(y_train, y_train_pred):.2f} %\")\n",
    "print(f\"accuracy (test set): {accuracy_score(y_test, y_test_pred):.2f} %\")\n"
   ]
  },
  {
   "cell_type": "code",
   "execution_count": null,
   "id": "50127474-d5ae-4135-ac1c-27a51e414235",
   "metadata": {},
   "outputs": [],
   "source": []
  },
  {
   "cell_type": "markdown",
   "id": "0df23962-6f4f-4694-9bde-46b98ccd3aa1",
   "metadata": {},
   "source": [
    "#### Support Vector Machnie: SVC-rbf"
   ]
  },
  {
   "cell_type": "code",
   "execution_count": 27,
   "id": "9f3193b3-edd2-456c-a5fc-f34c061c81ba",
   "metadata": {},
   "outputs": [
    {
     "name": "stdout",
     "output_type": "stream",
     "text": [
      "accuracy (train set): 0.98 %\n",
      "accuracy (test set): 0.97 %\n"
     ]
    }
   ],
   "source": [
    "cl4 = SVC(kernel='poly', C=0.3, random_state=42, class_weight='balanced' )\n",
    "cl4.fit(x_train, y_train)\n",
    "y_train_pred = cl4.predict(x_train)\n",
    "y_test_pred = cl4.predict(x_test)\n",
    "\n",
    "print(f\"accuracy (train set): {accuracy_score(y_train, y_train_pred):.2f} %\")\n",
    "print(f\"accuracy (test set): {accuracy_score(y_test, y_test_pred):.2f} %\")\n"
   ]
  },
  {
   "cell_type": "code",
   "execution_count": null,
   "id": "048eae81-57c2-47a8-b833-7ae9b93ff1aa",
   "metadata": {},
   "outputs": [],
   "source": []
  },
  {
   "cell_type": "markdown",
   "id": "115282bc-78d7-4560-9c16-77d7ccf6a937",
   "metadata": {},
   "source": [
    "#### Hyperparameter Tuning: SVC-RBF using Grid Search"
   ]
  },
  {
   "cell_type": "code",
   "execution_count": 28,
   "id": "5de53e81-e764-493a-8240-a9199e82b57a",
   "metadata": {},
   "outputs": [
    {
     "data": {
      "text/html": [
       "<style>#sk-container-id-1 {\n",
       "  /* Definition of color scheme common for light and dark mode */\n",
       "  --sklearn-color-text: black;\n",
       "  --sklearn-color-line: gray;\n",
       "  /* Definition of color scheme for unfitted estimators */\n",
       "  --sklearn-color-unfitted-level-0: #fff5e6;\n",
       "  --sklearn-color-unfitted-level-1: #f6e4d2;\n",
       "  --sklearn-color-unfitted-level-2: #ffe0b3;\n",
       "  --sklearn-color-unfitted-level-3: chocolate;\n",
       "  /* Definition of color scheme for fitted estimators */\n",
       "  --sklearn-color-fitted-level-0: #f0f8ff;\n",
       "  --sklearn-color-fitted-level-1: #d4ebff;\n",
       "  --sklearn-color-fitted-level-2: #b3dbfd;\n",
       "  --sklearn-color-fitted-level-3: cornflowerblue;\n",
       "\n",
       "  /* Specific color for light theme */\n",
       "  --sklearn-color-text-on-default-background: var(--sg-text-color, var(--theme-code-foreground, var(--jp-content-font-color1, black)));\n",
       "  --sklearn-color-background: var(--sg-background-color, var(--theme-background, var(--jp-layout-color0, white)));\n",
       "  --sklearn-color-border-box: var(--sg-text-color, var(--theme-code-foreground, var(--jp-content-font-color1, black)));\n",
       "  --sklearn-color-icon: #696969;\n",
       "\n",
       "  @media (prefers-color-scheme: dark) {\n",
       "    /* Redefinition of color scheme for dark theme */\n",
       "    --sklearn-color-text-on-default-background: var(--sg-text-color, var(--theme-code-foreground, var(--jp-content-font-color1, white)));\n",
       "    --sklearn-color-background: var(--sg-background-color, var(--theme-background, var(--jp-layout-color0, #111)));\n",
       "    --sklearn-color-border-box: var(--sg-text-color, var(--theme-code-foreground, var(--jp-content-font-color1, white)));\n",
       "    --sklearn-color-icon: #878787;\n",
       "  }\n",
       "}\n",
       "\n",
       "#sk-container-id-1 {\n",
       "  color: var(--sklearn-color-text);\n",
       "}\n",
       "\n",
       "#sk-container-id-1 pre {\n",
       "  padding: 0;\n",
       "}\n",
       "\n",
       "#sk-container-id-1 input.sk-hidden--visually {\n",
       "  border: 0;\n",
       "  clip: rect(1px 1px 1px 1px);\n",
       "  clip: rect(1px, 1px, 1px, 1px);\n",
       "  height: 1px;\n",
       "  margin: -1px;\n",
       "  overflow: hidden;\n",
       "  padding: 0;\n",
       "  position: absolute;\n",
       "  width: 1px;\n",
       "}\n",
       "\n",
       "#sk-container-id-1 div.sk-dashed-wrapped {\n",
       "  border: 1px dashed var(--sklearn-color-line);\n",
       "  margin: 0 0.4em 0.5em 0.4em;\n",
       "  box-sizing: border-box;\n",
       "  padding-bottom: 0.4em;\n",
       "  background-color: var(--sklearn-color-background);\n",
       "}\n",
       "\n",
       "#sk-container-id-1 div.sk-container {\n",
       "  /* jupyter's `normalize.less` sets `[hidden] { display: none; }`\n",
       "     but bootstrap.min.css set `[hidden] { display: none !important; }`\n",
       "     so we also need the `!important` here to be able to override the\n",
       "     default hidden behavior on the sphinx rendered scikit-learn.org.\n",
       "     See: https://github.com/scikit-learn/scikit-learn/issues/21755 */\n",
       "  display: inline-block !important;\n",
       "  position: relative;\n",
       "}\n",
       "\n",
       "#sk-container-id-1 div.sk-text-repr-fallback {\n",
       "  display: none;\n",
       "}\n",
       "\n",
       "div.sk-parallel-item,\n",
       "div.sk-serial,\n",
       "div.sk-item {\n",
       "  /* draw centered vertical line to link estimators */\n",
       "  background-image: linear-gradient(var(--sklearn-color-text-on-default-background), var(--sklearn-color-text-on-default-background));\n",
       "  background-size: 2px 100%;\n",
       "  background-repeat: no-repeat;\n",
       "  background-position: center center;\n",
       "}\n",
       "\n",
       "/* Parallel-specific style estimator block */\n",
       "\n",
       "#sk-container-id-1 div.sk-parallel-item::after {\n",
       "  content: \"\";\n",
       "  width: 100%;\n",
       "  border-bottom: 2px solid var(--sklearn-color-text-on-default-background);\n",
       "  flex-grow: 1;\n",
       "}\n",
       "\n",
       "#sk-container-id-1 div.sk-parallel {\n",
       "  display: flex;\n",
       "  align-items: stretch;\n",
       "  justify-content: center;\n",
       "  background-color: var(--sklearn-color-background);\n",
       "  position: relative;\n",
       "}\n",
       "\n",
       "#sk-container-id-1 div.sk-parallel-item {\n",
       "  display: flex;\n",
       "  flex-direction: column;\n",
       "}\n",
       "\n",
       "#sk-container-id-1 div.sk-parallel-item:first-child::after {\n",
       "  align-self: flex-end;\n",
       "  width: 50%;\n",
       "}\n",
       "\n",
       "#sk-container-id-1 div.sk-parallel-item:last-child::after {\n",
       "  align-self: flex-start;\n",
       "  width: 50%;\n",
       "}\n",
       "\n",
       "#sk-container-id-1 div.sk-parallel-item:only-child::after {\n",
       "  width: 0;\n",
       "}\n",
       "\n",
       "/* Serial-specific style estimator block */\n",
       "\n",
       "#sk-container-id-1 div.sk-serial {\n",
       "  display: flex;\n",
       "  flex-direction: column;\n",
       "  align-items: center;\n",
       "  background-color: var(--sklearn-color-background);\n",
       "  padding-right: 1em;\n",
       "  padding-left: 1em;\n",
       "}\n",
       "\n",
       "\n",
       "/* Toggleable style: style used for estimator/Pipeline/ColumnTransformer box that is\n",
       "clickable and can be expanded/collapsed.\n",
       "- Pipeline and ColumnTransformer use this feature and define the default style\n",
       "- Estimators will overwrite some part of the style using the `sk-estimator` class\n",
       "*/\n",
       "\n",
       "/* Pipeline and ColumnTransformer style (default) */\n",
       "\n",
       "#sk-container-id-1 div.sk-toggleable {\n",
       "  /* Default theme specific background. It is overwritten whether we have a\n",
       "  specific estimator or a Pipeline/ColumnTransformer */\n",
       "  background-color: var(--sklearn-color-background);\n",
       "}\n",
       "\n",
       "/* Toggleable label */\n",
       "#sk-container-id-1 label.sk-toggleable__label {\n",
       "  cursor: pointer;\n",
       "  display: block;\n",
       "  width: 100%;\n",
       "  margin-bottom: 0;\n",
       "  padding: 0.5em;\n",
       "  box-sizing: border-box;\n",
       "  text-align: center;\n",
       "}\n",
       "\n",
       "#sk-container-id-1 label.sk-toggleable__label-arrow:before {\n",
       "  /* Arrow on the left of the label */\n",
       "  content: \"▸\";\n",
       "  float: left;\n",
       "  margin-right: 0.25em;\n",
       "  color: var(--sklearn-color-icon);\n",
       "}\n",
       "\n",
       "#sk-container-id-1 label.sk-toggleable__label-arrow:hover:before {\n",
       "  color: var(--sklearn-color-text);\n",
       "}\n",
       "\n",
       "/* Toggleable content - dropdown */\n",
       "\n",
       "#sk-container-id-1 div.sk-toggleable__content {\n",
       "  max-height: 0;\n",
       "  max-width: 0;\n",
       "  overflow: hidden;\n",
       "  text-align: left;\n",
       "  /* unfitted */\n",
       "  background-color: var(--sklearn-color-unfitted-level-0);\n",
       "}\n",
       "\n",
       "#sk-container-id-1 div.sk-toggleable__content.fitted {\n",
       "  /* fitted */\n",
       "  background-color: var(--sklearn-color-fitted-level-0);\n",
       "}\n",
       "\n",
       "#sk-container-id-1 div.sk-toggleable__content pre {\n",
       "  margin: 0.2em;\n",
       "  border-radius: 0.25em;\n",
       "  color: var(--sklearn-color-text);\n",
       "  /* unfitted */\n",
       "  background-color: var(--sklearn-color-unfitted-level-0);\n",
       "}\n",
       "\n",
       "#sk-container-id-1 div.sk-toggleable__content.fitted pre {\n",
       "  /* unfitted */\n",
       "  background-color: var(--sklearn-color-fitted-level-0);\n",
       "}\n",
       "\n",
       "#sk-container-id-1 input.sk-toggleable__control:checked~div.sk-toggleable__content {\n",
       "  /* Expand drop-down */\n",
       "  max-height: 200px;\n",
       "  max-width: 100%;\n",
       "  overflow: auto;\n",
       "}\n",
       "\n",
       "#sk-container-id-1 input.sk-toggleable__control:checked~label.sk-toggleable__label-arrow:before {\n",
       "  content: \"▾\";\n",
       "}\n",
       "\n",
       "/* Pipeline/ColumnTransformer-specific style */\n",
       "\n",
       "#sk-container-id-1 div.sk-label input.sk-toggleable__control:checked~label.sk-toggleable__label {\n",
       "  color: var(--sklearn-color-text);\n",
       "  background-color: var(--sklearn-color-unfitted-level-2);\n",
       "}\n",
       "\n",
       "#sk-container-id-1 div.sk-label.fitted input.sk-toggleable__control:checked~label.sk-toggleable__label {\n",
       "  background-color: var(--sklearn-color-fitted-level-2);\n",
       "}\n",
       "\n",
       "/* Estimator-specific style */\n",
       "\n",
       "/* Colorize estimator box */\n",
       "#sk-container-id-1 div.sk-estimator input.sk-toggleable__control:checked~label.sk-toggleable__label {\n",
       "  /* unfitted */\n",
       "  background-color: var(--sklearn-color-unfitted-level-2);\n",
       "}\n",
       "\n",
       "#sk-container-id-1 div.sk-estimator.fitted input.sk-toggleable__control:checked~label.sk-toggleable__label {\n",
       "  /* fitted */\n",
       "  background-color: var(--sklearn-color-fitted-level-2);\n",
       "}\n",
       "\n",
       "#sk-container-id-1 div.sk-label label.sk-toggleable__label,\n",
       "#sk-container-id-1 div.sk-label label {\n",
       "  /* The background is the default theme color */\n",
       "  color: var(--sklearn-color-text-on-default-background);\n",
       "}\n",
       "\n",
       "/* On hover, darken the color of the background */\n",
       "#sk-container-id-1 div.sk-label:hover label.sk-toggleable__label {\n",
       "  color: var(--sklearn-color-text);\n",
       "  background-color: var(--sklearn-color-unfitted-level-2);\n",
       "}\n",
       "\n",
       "/* Label box, darken color on hover, fitted */\n",
       "#sk-container-id-1 div.sk-label.fitted:hover label.sk-toggleable__label.fitted {\n",
       "  color: var(--sklearn-color-text);\n",
       "  background-color: var(--sklearn-color-fitted-level-2);\n",
       "}\n",
       "\n",
       "/* Estimator label */\n",
       "\n",
       "#sk-container-id-1 div.sk-label label {\n",
       "  font-family: monospace;\n",
       "  font-weight: bold;\n",
       "  display: inline-block;\n",
       "  line-height: 1.2em;\n",
       "}\n",
       "\n",
       "#sk-container-id-1 div.sk-label-container {\n",
       "  text-align: center;\n",
       "}\n",
       "\n",
       "/* Estimator-specific */\n",
       "#sk-container-id-1 div.sk-estimator {\n",
       "  font-family: monospace;\n",
       "  border: 1px dotted var(--sklearn-color-border-box);\n",
       "  border-radius: 0.25em;\n",
       "  box-sizing: border-box;\n",
       "  margin-bottom: 0.5em;\n",
       "  /* unfitted */\n",
       "  background-color: var(--sklearn-color-unfitted-level-0);\n",
       "}\n",
       "\n",
       "#sk-container-id-1 div.sk-estimator.fitted {\n",
       "  /* fitted */\n",
       "  background-color: var(--sklearn-color-fitted-level-0);\n",
       "}\n",
       "\n",
       "/* on hover */\n",
       "#sk-container-id-1 div.sk-estimator:hover {\n",
       "  /* unfitted */\n",
       "  background-color: var(--sklearn-color-unfitted-level-2);\n",
       "}\n",
       "\n",
       "#sk-container-id-1 div.sk-estimator.fitted:hover {\n",
       "  /* fitted */\n",
       "  background-color: var(--sklearn-color-fitted-level-2);\n",
       "}\n",
       "\n",
       "/* Specification for estimator info (e.g. \"i\" and \"?\") */\n",
       "\n",
       "/* Common style for \"i\" and \"?\" */\n",
       "\n",
       ".sk-estimator-doc-link,\n",
       "a:link.sk-estimator-doc-link,\n",
       "a:visited.sk-estimator-doc-link {\n",
       "  float: right;\n",
       "  font-size: smaller;\n",
       "  line-height: 1em;\n",
       "  font-family: monospace;\n",
       "  background-color: var(--sklearn-color-background);\n",
       "  border-radius: 1em;\n",
       "  height: 1em;\n",
       "  width: 1em;\n",
       "  text-decoration: none !important;\n",
       "  margin-left: 1ex;\n",
       "  /* unfitted */\n",
       "  border: var(--sklearn-color-unfitted-level-1) 1pt solid;\n",
       "  color: var(--sklearn-color-unfitted-level-1);\n",
       "}\n",
       "\n",
       ".sk-estimator-doc-link.fitted,\n",
       "a:link.sk-estimator-doc-link.fitted,\n",
       "a:visited.sk-estimator-doc-link.fitted {\n",
       "  /* fitted */\n",
       "  border: var(--sklearn-color-fitted-level-1) 1pt solid;\n",
       "  color: var(--sklearn-color-fitted-level-1);\n",
       "}\n",
       "\n",
       "/* On hover */\n",
       "div.sk-estimator:hover .sk-estimator-doc-link:hover,\n",
       ".sk-estimator-doc-link:hover,\n",
       "div.sk-label-container:hover .sk-estimator-doc-link:hover,\n",
       ".sk-estimator-doc-link:hover {\n",
       "  /* unfitted */\n",
       "  background-color: var(--sklearn-color-unfitted-level-3);\n",
       "  color: var(--sklearn-color-background);\n",
       "  text-decoration: none;\n",
       "}\n",
       "\n",
       "div.sk-estimator.fitted:hover .sk-estimator-doc-link.fitted:hover,\n",
       ".sk-estimator-doc-link.fitted:hover,\n",
       "div.sk-label-container:hover .sk-estimator-doc-link.fitted:hover,\n",
       ".sk-estimator-doc-link.fitted:hover {\n",
       "  /* fitted */\n",
       "  background-color: var(--sklearn-color-fitted-level-3);\n",
       "  color: var(--sklearn-color-background);\n",
       "  text-decoration: none;\n",
       "}\n",
       "\n",
       "/* Span, style for the box shown on hovering the info icon */\n",
       ".sk-estimator-doc-link span {\n",
       "  display: none;\n",
       "  z-index: 9999;\n",
       "  position: relative;\n",
       "  font-weight: normal;\n",
       "  right: .2ex;\n",
       "  padding: .5ex;\n",
       "  margin: .5ex;\n",
       "  width: min-content;\n",
       "  min-width: 20ex;\n",
       "  max-width: 50ex;\n",
       "  color: var(--sklearn-color-text);\n",
       "  box-shadow: 2pt 2pt 4pt #999;\n",
       "  /* unfitted */\n",
       "  background: var(--sklearn-color-unfitted-level-0);\n",
       "  border: .5pt solid var(--sklearn-color-unfitted-level-3);\n",
       "}\n",
       "\n",
       ".sk-estimator-doc-link.fitted span {\n",
       "  /* fitted */\n",
       "  background: var(--sklearn-color-fitted-level-0);\n",
       "  border: var(--sklearn-color-fitted-level-3);\n",
       "}\n",
       "\n",
       ".sk-estimator-doc-link:hover span {\n",
       "  display: block;\n",
       "}\n",
       "\n",
       "/* \"?\"-specific style due to the `<a>` HTML tag */\n",
       "\n",
       "#sk-container-id-1 a.estimator_doc_link {\n",
       "  float: right;\n",
       "  font-size: 1rem;\n",
       "  line-height: 1em;\n",
       "  font-family: monospace;\n",
       "  background-color: var(--sklearn-color-background);\n",
       "  border-radius: 1rem;\n",
       "  height: 1rem;\n",
       "  width: 1rem;\n",
       "  text-decoration: none;\n",
       "  /* unfitted */\n",
       "  color: var(--sklearn-color-unfitted-level-1);\n",
       "  border: var(--sklearn-color-unfitted-level-1) 1pt solid;\n",
       "}\n",
       "\n",
       "#sk-container-id-1 a.estimator_doc_link.fitted {\n",
       "  /* fitted */\n",
       "  border: var(--sklearn-color-fitted-level-1) 1pt solid;\n",
       "  color: var(--sklearn-color-fitted-level-1);\n",
       "}\n",
       "\n",
       "/* On hover */\n",
       "#sk-container-id-1 a.estimator_doc_link:hover {\n",
       "  /* unfitted */\n",
       "  background-color: var(--sklearn-color-unfitted-level-3);\n",
       "  color: var(--sklearn-color-background);\n",
       "  text-decoration: none;\n",
       "}\n",
       "\n",
       "#sk-container-id-1 a.estimator_doc_link.fitted:hover {\n",
       "  /* fitted */\n",
       "  background-color: var(--sklearn-color-fitted-level-3);\n",
       "}\n",
       "</style><div id=\"sk-container-id-1\" class=\"sk-top-container\"><div class=\"sk-text-repr-fallback\"><pre>GridSearchCV(cv=5, estimator=SVC(gamma=&#x27;auto&#x27;, random_state=42), n_jobs=1,\n",
       "             param_grid={&#x27;C&#x27;: [0.1, 0.2, 0.3, 0.5, 0.7],\n",
       "                         &#x27;kernel&#x27;: [&#x27;poly&#x27;, &#x27;rbf&#x27;, &#x27;linear&#x27;, &#x27;sigmoid&#x27;]},\n",
       "             scoring=&#x27;f1_micro&#x27;)</pre><b>In a Jupyter environment, please rerun this cell to show the HTML representation or trust the notebook. <br />On GitHub, the HTML representation is unable to render, please try loading this page with nbviewer.org.</b></div><div class=\"sk-container\" hidden><div class=\"sk-item sk-dashed-wrapped\"><div class=\"sk-label-container\"><div class=\"sk-label fitted sk-toggleable\"><input class=\"sk-toggleable__control sk-hidden--visually\" id=\"sk-estimator-id-1\" type=\"checkbox\" ><label for=\"sk-estimator-id-1\" class=\"sk-toggleable__label fitted sk-toggleable__label-arrow fitted\">&nbsp;&nbsp;GridSearchCV<a class=\"sk-estimator-doc-link fitted\" rel=\"noreferrer\" target=\"_blank\" href=\"https://scikit-learn.org/1.4/modules/generated/sklearn.model_selection.GridSearchCV.html\">?<span>Documentation for GridSearchCV</span></a><span class=\"sk-estimator-doc-link fitted\">i<span>Fitted</span></span></label><div class=\"sk-toggleable__content fitted\"><pre>GridSearchCV(cv=5, estimator=SVC(gamma=&#x27;auto&#x27;, random_state=42), n_jobs=1,\n",
       "             param_grid={&#x27;C&#x27;: [0.1, 0.2, 0.3, 0.5, 0.7],\n",
       "                         &#x27;kernel&#x27;: [&#x27;poly&#x27;, &#x27;rbf&#x27;, &#x27;linear&#x27;, &#x27;sigmoid&#x27;]},\n",
       "             scoring=&#x27;f1_micro&#x27;)</pre></div> </div></div><div class=\"sk-parallel\"><div class=\"sk-parallel-item\"><div class=\"sk-item\"><div class=\"sk-label-container\"><div class=\"sk-label fitted sk-toggleable\"><input class=\"sk-toggleable__control sk-hidden--visually\" id=\"sk-estimator-id-2\" type=\"checkbox\" ><label for=\"sk-estimator-id-2\" class=\"sk-toggleable__label fitted sk-toggleable__label-arrow fitted\">estimator: SVC</label><div class=\"sk-toggleable__content fitted\"><pre>SVC(gamma=&#x27;auto&#x27;, random_state=42)</pre></div> </div></div><div class=\"sk-serial\"><div class=\"sk-item\"><div class=\"sk-estimator fitted sk-toggleable\"><input class=\"sk-toggleable__control sk-hidden--visually\" id=\"sk-estimator-id-3\" type=\"checkbox\" ><label for=\"sk-estimator-id-3\" class=\"sk-toggleable__label fitted sk-toggleable__label-arrow fitted\">&nbsp;SVC<a class=\"sk-estimator-doc-link fitted\" rel=\"noreferrer\" target=\"_blank\" href=\"https://scikit-learn.org/1.4/modules/generated/sklearn.svm.SVC.html\">?<span>Documentation for SVC</span></a></label><div class=\"sk-toggleable__content fitted\"><pre>SVC(gamma=&#x27;auto&#x27;, random_state=42)</pre></div> </div></div></div></div></div></div></div></div></div>"
      ],
      "text/plain": [
       "GridSearchCV(cv=5, estimator=SVC(gamma='auto', random_state=42), n_jobs=1,\n",
       "             param_grid={'C': [0.1, 0.2, 0.3, 0.5, 0.7],\n",
       "                         'kernel': ['poly', 'rbf', 'linear', 'sigmoid']},\n",
       "             scoring='f1_micro')"
      ]
     },
     "execution_count": 28,
     "metadata": {},
     "output_type": "execute_result"
    }
   ],
   "source": [
    "cl5 = SVC(random_state=42, gamma='auto')\n",
    "grid_parameters = {\n",
    "    'kernel': ['poly', 'rbf', 'linear', 'sigmoid'],\n",
    "    'C': [0.1, 0.2, 0.3, 0.5, 0.7],\n",
    "}\n",
    "\n",
    "grid_search = GridSearchCV(estimator=cl5, param_grid=grid_parameters, cv=5, scoring='f1_micro',  n_jobs=1,)\n",
    "grid_search.fit(x_train, y_train)"
   ]
  },
  {
   "cell_type": "code",
   "execution_count": 29,
   "id": "0ae2da5c-72ff-4672-be9e-540707c8bbfc",
   "metadata": {},
   "outputs": [
    {
     "name": "stdout",
     "output_type": "stream",
     "text": [
      "Best parameters found:  {'C': 0.7, 'kernel': 'linear'}\n",
      "accuracy (train set): 0.98 %\n",
      "accuracy (test set): 1.00 %\n"
     ]
    }
   ],
   "source": [
    "# Retrieve the best parameters\n",
    "best_params = grid_search.best_params_\n",
    "print(\"Best parameters found: \", best_params)\n",
    "\n",
    "best_svc = grid_search.best_estimator_\n",
    "y_train_pred = best_svc.predict(x_train)\n",
    "y_test_pred = best_svc.predict(x_test)\n",
    "\n",
    "# Evaluate the model\n",
    "print(f\"accuracy (train set): {accuracy_score(y_train, y_train_pred):.2f} %\")\n",
    "print(f\"accuracy (test set): {accuracy_score(y_test, y_test_pred):.2f} %\")\n",
    "\n",
    "#print(classification_report(y_test, y_test_pred))"
   ]
  },
  {
   "cell_type": "code",
   "execution_count": null,
   "id": "10c67dce-7a31-44db-9e47-af9373ccd044",
   "metadata": {},
   "outputs": [],
   "source": []
  },
  {
   "cell_type": "markdown",
   "id": "53e7ab18-b6b0-421c-bcbb-8453630ec701",
   "metadata": {},
   "source": [
    "#### Best Model Evaluation: cl4"
   ]
  },
  {
   "cell_type": "code",
   "execution_count": 30,
   "id": "165c815e-0ddf-4075-9f2d-1b0e1ac6e9fa",
   "metadata": {},
   "outputs": [
    {
     "name": "stdout",
     "output_type": "stream",
     "text": [
      "accuracy (train set): 0.98 %\n",
      "accuracy (test set): 0.97 %\n",
      "\n",
      "recall (train set): 0.98 %\n",
      "recall (test set): 0.97 %\n",
      "\n",
      "f1-score (train set): 0.98 %\n",
      "f1-score (test set): 0.97 %\n",
      "\n",
      "precision (train set): 0.98 %\n",
      "precision (test set): 0.97 %\n"
     ]
    }
   ],
   "source": [
    "cl4 = SVC(kernel='poly', C=0.3, random_state=42, class_weight='balanced' )\n",
    "cl4.fit(x_train, y_train)\n",
    "y_train_pred = cl4.predict(x_train)\n",
    "y_test_pred = cl4.predict(x_test)\n",
    "\n",
    "print(f\"accuracy (train set): {accuracy_score(y_train, y_train_pred):.2f} %\")\n",
    "print(f\"accuracy (test set): {accuracy_score(y_test, y_test_pred):.2f} %\")\n",
    "print()\n",
    "print(f\"recall (train set): {recall_score(y_train, y_train_pred, average='micro'):.2f} %\")\n",
    "print(f\"recall (test set): {recall_score(y_test, y_test_pred, average='micro'):.2f} %\")\n",
    "print()\n",
    "print(f\"f1-score (train set): {f1_score(y_train, y_train_pred, average='macro'):.2f} %\")\n",
    "print(f\"f1-score (test set): {f1_score(y_test, y_test_pred, average='macro'):.2f} %\")\n",
    "print()\n",
    "print(f\"precision (train set): {precision_score(y_train, y_train_pred, average='weighted'):.2f} %\")\n",
    "print(f\"precision (test set): {precision_score(y_test, y_test_pred, average='weighted'):.2f} %\")"
   ]
  },
  {
   "cell_type": "markdown",
   "id": "6eec5b6e-0ae2-4cee-941f-aec27c048d30",
   "metadata": {},
   "source": [
    "> **Confusion Matrix**"
   ]
  },
  {
   "cell_type": "code",
   "execution_count": 31,
   "id": "e90efd4d-26df-4b8e-a0cf-fd802cd15850",
   "metadata": {},
   "outputs": [
    {
     "name": "stdout",
     "output_type": "stream",
     "text": [
      "train set: Confusion Matrix:\n",
      " [[37  0  0]\n",
      " [ 0 38  2]\n",
      " [ 0  0 39]]\n",
      "test set: Confusion Matrix:\n",
      " [[10  0  0]\n",
      " [ 0  9  1]\n",
      " [ 0  0 10]]\n",
      "\n"
     ]
    },
    {
     "data": {
      "image/png": "[encoded data removed]",
      "text/plain": [
       "<Figure size 1200x400 with 4 Axes>"
      ]
     },
     "metadata": {},
     "output_type": "display_data"
    }
   ],
   "source": [
    "f, (ax_1, ax_2) = plt.subplots(1, 2)\n",
    "f.set_size_inches(12, 4)\n",
    "cm_train = confusion_matrix(y_train, y_train_pred)\n",
    "sns.heatmap(cm_train, annot=True, fmt='d', ax=ax_1,)\n",
    "ax_1.set(title=\"Confusion Matrix > train set\")\n",
    "\n",
    "\n",
    "cm_test = confusion_matrix(y_test, y_test_pred)\n",
    "sns.heatmap(cm_train, annot=True, fmt='d', ax=ax_2, cmap='YlGnBu')\n",
    "ax_2.set(title=\"Confusion Matrix > test set\")\n",
    "\n",
    "print(\"train set: Confusion Matrix:\\n\", cm_train)\n",
    "print(\"test set: Confusion Matrix:\\n\", cm_test)\n",
    "print()\n",
    "plt.show()"
   ]
  },
  {
   "cell_type": "code",
   "execution_count": null,
   "id": "33cae02f-2b2d-4826-bbb5-69655e2a9567",
   "metadata": {},
   "outputs": [],
   "source": []
  },
  {
   "cell_type": "code",
   "execution_count": 32,
   "id": "45b8e373-3ad2-41a9-8886-b3faebd617d1",
   "metadata": {},
   "outputs": [
    {
     "data": {
      "image/png": "[encoded data removed]",
      "text/plain": [
       "<Figure size 700x500 with 1 Axes>"
      ]
     },
     "metadata": {},
     "output_type": "display_data"
    }
   ],
   "source": [
    "\n",
    "metrics = {\n",
    "    \"Accuracy\": [accuracy_score(y_train, y_train_pred), accuracy_score(y_test, y_test_pred)],\n",
    "    \"Recall\": [recall_score(y_train, y_train_pred, average='micro'), recall_score(y_test, y_test_pred, average='micro')],\n",
    "    \"F1-Score\": [f1_score(y_train, y_train_pred, average='micro'), f1_score(y_test, y_test_pred, average='micro')],\n",
    "    \"Precision\": [precision_score(y_train, y_train_pred, average='micro'), precision_score(y_test, y_test_pred, average='micro')]\n",
    "}\n",
    "\n",
    "# Create a bar chart\n",
    "labels = list(metrics.keys())\n",
    "train_values = [metrics[label][0] for label in labels]\n",
    "test_values = [metrics[label][1] for label in labels]\n",
    "\n",
    "x = np.arange(len(labels))  # the label locations\n",
    "width = 0.35  # the width of the bars\n",
    "\n",
    "fig, ax = plt.subplots()\n",
    "fig.set_size_inches(7, 5)\n",
    "rects1 = ax.bar(x - width/2, train_values, width, label='Train')\n",
    "rects2 = ax.bar(x + width/2, test_values, width, label='Test')\n",
    "\n",
    "# Add some text for labels, title and custom x-axis tick labels, etc.\n",
    "ax.set_xlabel('Metrics')\n",
    "ax.set_ylabel('Scores')\n",
    "ax.set_title('Performance Metrics of SVM Classifier')\n",
    "ax.set_xticks(x)\n",
    "ax.set_xticklabels(labels)\n",
    "ax.legend()\n",
    "\n",
    "# Attach a text label above each bar in *rects*, displaying its height.\n",
    "def autolabel(rects):\n",
    "    \"\"\"Attach a text label above each bar in *rects*, displaying its height.\"\"\"\n",
    "    for rect in rects:\n",
    "        height = rect.get_height()\n",
    "        ax.annotate(f'{height:.2f}',\n",
    "                    xy=(rect.get_x() + rect.get_width() / 2, height),\n",
    "                    xytext=(0, 3),  # 3 points vertical offset\n",
    "                    textcoords=\"offset points\",\n",
    "                    ha='center', va='bottom')\n",
    "\n",
    "autolabel(rects1)\n",
    "autolabel(rects2)\n",
    "\n",
    "fig.tight_layout()\n",
    "plt.savefig(\"imgs/best model performace metrics.png\")\n",
    "plt.show()\n"
   ]
  },
  {
   "cell_type": "code",
   "execution_count": null,
   "id": "96be7ab0-9fbe-44f4-8082-2c6f8fc63bc7",
   "metadata": {},
   "outputs": [],
   "source": []
  },
  {
   "cell_type": "markdown",
   "id": "7893b73d-91d1-4fc5-b318-28c6fbf5d362",
   "metadata": {},
   "source": [
    "#### Saving the Model"
   ]
  },
  {
   "cell_type": "code",
   "execution_count": 33,
   "id": "615d3a69-4076-4162-96c5-0f107b849d1c",
   "metadata": {},
   "outputs": [
    {
     "data": {
      "text/plain": [
       "['files\\\\iris_classifier_svc_poly.pkl']"
      ]
     },
     "execution_count": 33,
     "metadata": {},
     "output_type": "execute_result"
    }
   ],
   "source": [
    "joblib.dump(cl4, 'files\\iris_classifier_svc_poly.pkl')"
   ]
  },
  {
   "cell_type": "code",
   "execution_count": null,
   "id": "7c5a968b-6dad-4de2-af1e-bbc252328cad",
   "metadata": {},
   "outputs": [],
   "source": []
  },
  {
   "cell_type": "markdown",
   "id": "ca6a5e7a-e5e8-4c22-9ca3-5cf3940f0ad4",
   "metadata": {},
   "source": [
    "### Model Deployment"
   ]
  },
  {
   "cell_type": "code",
   "execution_count": 34,
   "id": "a16f14c4-b4cd-4d33-b4ee-86c1f21dbde3",
   "metadata": {},
   "outputs": [
    {
     "name": "stdin",
     "output_type": "stream",
     "text": [
      "The Iris Sepal length:  3\n",
      "The Iris Sepal width:  2.6\n",
      "The Iris Petal length:  1.2\n",
      "The Iris Petal width:  3.5\n"
     ]
    },
    {
     "name": "stdout",
     "output_type": "stream",
     "text": [
      "It's Iris-setosa.\n"
     ]
    }
   ],
   "source": [
    "#### Get the iris flower specifics (features)\n",
    "def get_features():\n",
    "    try:\n",
    "        sepal_length = float(input(\"The Iris Sepal length: \"))\n",
    "        while sepal_length == \"\":\n",
    "            print(\"please enter a valid number (1.5, 3, 4.02, etc.):\")\n",
    "            sepal_length = float(input(\"The Iris Sepal length: \"))\n",
    "            \n",
    "        sepal_width = float(input(\"The Iris Sepal width: \"))\n",
    "        while sepal_width == \"\":\n",
    "            print(\"please enter a valid number (1.5, 3, 4.02, etc.):\")\n",
    "            sepal_width = float(input(\"The Iris Sepal width: \"))\n",
    "            \n",
    "        petal_length = float(input(\"The Iris Petal length: \"))\n",
    "        while petal_length == \"\":\n",
    "            print(\"please enter a valid number (1.5, 3, 4.02, etc.):\")\n",
    "            petal_length = float(input(\"The Iris Petal length: \"))\n",
    "        \n",
    "        petal_width = float(input(\"The Iris Petal width: \"))\n",
    "        while petal_width == \"\":\n",
    "            print(\"please enter a valid number (1.5, 3, 4.02, etc.):\")\n",
    "            petal_width = float(input(\"The Iris Petal width: \"))\n",
    "    except ValueError as ve:\n",
    "        print(\"invalid input:\", ve)\n",
    "    \n",
    "    iris_features = {\n",
    "        'sepal_length': sepal_length,\n",
    "        'sepal_width': sepal_width,\n",
    "        'petal_length': petal_length,\n",
    "        'petal_width': petal_width,\n",
    "    }\n",
    "    val_df = pd.DataFrame( [iris_features], columns=['sepal_length', 'sepal_width', 'petal_length', 'petal_width'])\n",
    "    return val_df\n",
    "\n",
    "iris_df = get_features()\n",
    "\n",
    "# Import saved model\n",
    "model = joblib.load(\"files\\iris_classifier_svc_poly.pkl\")\n",
    "\n",
    "# predict using the new features\n",
    "prediction = model.predict(iris_df)\n",
    "print(f\"It's {prediction[0]}.\")"
   ]
  },
  {
   "cell_type": "code",
   "execution_count": null,
   "id": "cb4c5037-b4f5-40df-9e1c-98dc5bc9972b",
   "metadata": {},
   "outputs": [],
   "source": []
  },
  {
   "cell_type": "markdown",
   "id": "2de4b49c-53da-4cc2-9636-35e13e0c7c72",
   "metadata": {},
   "source": [
    "<h1 style=\"width:80%; height:55px; margin:auto; font-family:Segoe Script; font-weight:bold; font-size:40px; border:5px dotted orange; text-align:center; background-color:black; color:orange; letter-spacing:0.3em; padding:30px 0 10px 0\">Thanks</h1>"
   ]
  },
  {
   "cell_type": "code",
   "execution_count": 35,
   "id": "6dc372e0-d057-4d47-96eb-f342d0207b43",
   "metadata": {},
   "outputs": [],
   "source": [
    "# 4.9  3.1  1.5\t 0.1\tIris-setosa\n",
    "# 5.8  2.7\t5.1\t 1.9\tIris-virginica"
   ]
  }
 ],
 "metadata": {
  "kernelspec": {
   "display_name": "Python 3 (ipykernel)",
   "language": "python",
   "name": "python3"
  },
  "language_info": {
   "codemirror_mode": {
    "name": "ipython",
    "version": 3
   },
   "file_extension": ".py",
   "mimetype": "text/x-python",
   "name": "python",
   "nbconvert_exporter": "python",
   "pygments_lexer": "ipython3",
   "version": "3.9.19"
  },
  "widgets": {
   "application/vnd.jupyter.widget-state+json": {
    "state": {},
    "version_major": 2,
    "version_minor": 0
   }
  }
 },
 "nbformat": 4,
 "nbformat_minor": 5
}
